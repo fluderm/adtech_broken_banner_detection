{
 "cells": [
  {
   "cell_type": "markdown",
   "metadata": {
    "id": "76HabWmUOk80"
   },
   "source": [
    "This is a Google Colab notebook, which from scratch computes pre-trained ViT and ResNet-50 feature vectors. It further contains the training of ResNet-50 on three different versions of synthetic tasks on synthetic data.\n",
    "\n",
    "Here we only create the feature vectors (or rather provide the base code to create them). We will evaluate the features in the DL_Models_Evaluation_clean.jpynb. We provide the feature vectors we've generated on google drive (see how to access them in DL_Models_Evaluation_clean.jpynb).\n",
    "\n",
    "Some code runs relatively slow.\n",
    "\n",
    "# 0 Imports"
   ]
  },
  {
   "cell_type": "code",
   "execution_count": 1,
   "metadata": {
    "id": "m7hedccZCHou"
   },
   "outputs": [],
   "source": [
    "import pandas as pd\n",
    "import numpy as np\n",
    "import matplotlib.pyplot as plt\n",
    "import seaborn as sns\n",
    "\n",
    "# be careful with that:\n",
    "import warnings\n",
    "warnings.filterwarnings('ignore')\n",
    "\n",
    "from sklearn import tree\n",
    "from sklearn.ensemble import RandomForestClassifier\n",
    "from sklearn.datasets import make_classification\n",
    "\n",
    "from sklearn.decomposition import PCA\n",
    "\n",
    "from sklearn.model_selection import train_test_split, RandomizedSearchCV\n",
    "from sklearn.preprocessing import StandardScaler\n",
    "from sklearn.pipeline import Pipeline\n",
    "from sklearn.preprocessing import PolynomialFeatures\n",
    "\n",
    "\n",
    "from sklearn.linear_model import LogisticRegression\n",
    "\n",
    "from sklearn.neighbors import KNeighborsClassifier\n",
    "from sklearn.neighbors import NearestNeighbors\n",
    "\n",
    "from sklearn.cluster import KMeans\n",
    "from sklearn.cluster import DBSCAN\n",
    "\n",
    "from sklearn.ensemble import IsolationForest\n",
    "\n",
    "\n",
    "from sklearn.metrics import classification_report, confusion_matrix, accuracy_score, confusion_matrix\n",
    "from sklearn.metrics import roc_auc_score, roc_curve, adjusted_rand_score, precision_recall_curve\n",
    "\n",
    "from sklearn.svm import OneClassSVM\n",
    "\n",
    "from scipy.stats import uniform, chisquare, binomtest\n",
    "\n",
    "from itertools import product\n",
    "\n",
    "from IPython.display import clear_output\n"
   ]
  },
  {
   "cell_type": "code",
   "execution_count": 2,
   "metadata": {
    "id": "PRYg6CIAV6R4"
   },
   "outputs": [],
   "source": [
    "from transformers import ViTFeatureExtractor, ViTModel\n",
    "from PIL import Image\n",
    "import requests"
   ]
  },
  {
   "cell_type": "markdown",
   "metadata": {
    "id": "RQdKsVO21i28"
   },
   "source": [
    "# 1 Load Data & Preprocessing\n",
    "\n",
    "Load data from Google Colab"
   ]
  },
  {
   "cell_type": "code",
   "execution_count": 3,
   "metadata": {
    "colab": {
     "base_uri": "https://localhost:8080/"
    },
    "id": "x7qWJ_lvhzXR",
    "outputId": "e3d39624-9742-4156-c6a1-f15ea8a2b681"
   },
   "outputs": [
    {
     "name": "stdout",
     "output_type": "stream",
     "text": [
      "Mounted at /content/drive\n"
     ]
    }
   ],
   "source": [
    "from google.colab import drive\n",
    "drive.mount('/content/drive')"
   ]
  },
  {
   "cell_type": "code",
   "execution_count": 4,
   "metadata": {
    "id": "pXk9-ZEZBRzb"
   },
   "outputs": [],
   "source": [
    "#data_heatmap = pd.read_csv('data_heatmap_train.csv')\n",
    "data_heatmap = pd.read_csv('drive/MyDrive/Capstone/A_data_heatmap_300x250_3p.csv')\n",
    "data_heatmap_new = pd.read_csv('drive/MyDrive/Capstone/A_data_heatmap_300x250_6p_t2m.csv')\n",
    "data_heatmap_new1 = pd.read_csv('drive/MyDrive/Capstone/A_data_heatmap_300x250_6p_h2m.csv')\n",
    "\n",
    "data_heatmap_6p = pd.concat([data_heatmap_new,data_heatmap_new1],axis=0)"
   ]
  },
  {
   "cell_type": "markdown",
   "metadata": {
    "id": "l5ZeZyYRPu41"
   },
   "source": [
    "## 1.1 Load Set of Broken Banners"
   ]
  },
  {
   "cell_type": "code",
   "execution_count": 5,
   "metadata": {
    "id": "n4D23VcpCjp_"
   },
   "outputs": [],
   "source": [
    "cb_333519 = ['ID_1184', 'ID_1281', 'ID_1305', 'ID_1353', 'ID_1448', 'ID_1522',\n",
    "       'ID_1544', 'ID_162', 'ID_1682', 'ID_1690', 'ID_1824', 'ID_1888',\n",
    "       'ID_1929', 'ID_2076', 'ID_2097', 'ID_2226', 'ID_2249', 'ID_2268',\n",
    "       'ID_2331', 'ID_2339', 'ID_2386', 'ID_2396', 'ID_2438', 'ID_258',\n",
    "       'ID_2609', 'ID_2680', 'ID_2863', 'ID_2883', 'ID_2908', 'ID_3061',\n",
    "       'ID_3243', 'ID_3250', 'ID_3314', 'ID_3382', 'ID_3397', 'ID_3402',\n",
    "       'ID_3420', 'ID_3459', 'ID_3470', 'ID_3540', 'ID_398', 'ID_409',\n",
    "       'ID_484', 'ID_489', 'ID_526', 'ID_549', 'ID_580', 'ID_665',\n",
    "       'ID_810', 'ID_84', 'ID_857', 'ID_86', 'ID_905', 'ID_927', 'ID_934',\n",
    "       'ID_962', 'ID_986']\n",
    "\n",
    "cb_333346 = ['ID_1247', 'ID_162', 'ID_2534', 'ID_2742', 'ID_526', 'ID_2201',\n",
    "       'ID_1165', 'ID_743', 'ID_199', 'ID_2145', 'ID_2569', 'ID_643',\n",
    "       'ID_1305', 'ID_3180', 'ID_3158', 'ID_136', 'ID_293', 'ID_1753',\n",
    "       'ID_1849', 'ID_2226', 'ID_1462', 'ID_626', 'ID_2863', 'ID_3243',\n",
    "       'ID_3250', 'ID_1708', 'ID_1238', 'ID_580', 'ID_84', 'ID_2568',\n",
    "       'ID_2340', 'ID_1803', 'ID_3470', 'ID_139', 'ID_2619', 'ID_2908',\n",
    "       'ID_1281', 'ID_3308', 'ID_2883', 'ID_1320', 'ID_1333', 'ID_1062',\n",
    "       'ID_149', 'ID_260', 'ID_599', 'ID_1513', 'ID_3402', 'ID_1888',\n",
    "       'ID_2972', 'ID_398', 'ID_2339', 'ID_1030', 'ID_3382', 'ID_2076',\n",
    "       'ID_1646', 'ID_1077', 'ID_10', 'ID_1153', 'ID_1533', 'ID_2609',\n",
    "       'ID_1214', 'ID_810', 'ID_2097', 'ID_2386', 'ID_1585', 'ID_549',\n",
    "       'ID_3420', 'ID_3397', 'ID_2006', 'ID_561', 'ID_1542', 'ID_1570',\n",
    "       'ID_1819', 'ID_1413', 'ID_1240', 'ID_793', 'ID_831', 'ID_3188',\n",
    "       'ID_1437', 'ID_556', 'ID_1134', 'ID_314', 'ID_2836', 'ID_1483',\n",
    "       'ID_2676', 'ID_665', 'ID_15', 'ID_2755', 'ID_2194', 'ID_1682',\n",
    "       'ID_2775', 'ID_1923', 'ID_1846', 'ID_1262', 'ID_3314', 'ID_1448',\n",
    "       'ID_1770', 'ID_2626', 'ID_3296', 'ID_489', 'ID_1963', 'ID_1268',\n",
    "       'ID_1568', 'ID_1094', 'ID_2267', 'ID_409', 'ID_1650', 'ID_1522',\n",
    "       'ID_927', 'ID_2302', 'ID_1929', 'ID_1435', 'ID_1353']\n",
    "\n",
    "cb_333346_6p = ['ID_106', 'ID_1108', 'ID_1111', 'ID_1150', 'ID_1217', 'ID_136',\n",
    "             'ID_1542', 'ID_1589', 'ID_1602', 'ID_185', 'ID_1908', 'ID_1915',\n",
    "             'ID_1916', 'ID_1971',  'ID_2015', 'ID_2063', 'ID_2133', 'ID_2143',\n",
    "             'ID_2336', 'ID_2337', 'ID_2368', 'ID_243', 'ID_245', 'ID_2553',\n",
    "             'ID_2564', 'ID_2635', 'ID_2636', 'ID_267', 'ID_2693', 'ID_27',\n",
    "             'ID_2737', 'ID_2750', 'ID_2762', 'ID_2867', 'ID_2924', 'ID_2933',\n",
    "             'ID_2977', 'ID_3172', 'ID_3219', 'ID_324', 'ID_3268', 'ID_333',\n",
    "             'ID_3334', 'ID_3487', 'ID_3526', 'ID_3535', 'ID_3567', 'ID_3605',\n",
    "             'ID_362', 'ID_3633', 'ID_3640', 'ID_365', 'ID_367', 'ID_3672',\n",
    "             'ID_3699', 'ID_3730', 'ID_3809', 'ID_3837', 'ID_3848', 'ID_3920',\n",
    "             'ID_3939', 'ID_3982', 'ID_401', 'ID_4042', 'ID_4058', 'ID_4072',\n",
    "             'ID_4076', 'ID_4199', 'ID_4206', 'ID_4224', 'ID_4378', 'ID_4507',\n",
    "             'ID_466', 'ID_494', 'ID_539', 'ID_62', 'ID_727', 'ID_737',\n",
    "             'ID_861', 'ID_876', 'ID_889', 'ID_90', 'ID_922', 'ID_949',\n",
    "             'ID_981', 'ID_993']\n",
    "\n",
    "cb_333519_6p = ['ID_1081', 'ID_1150', 'ID_1464', 'ID_1518', 'ID_1622', 'ID_1623',\n",
    "                'ID_1624', 'ID_1631', 'ID_1678', 'ID_1623', 'ID_1731', 'ID_1752',\n",
    "                'ID_1764', 'ID_1795', 'ID_1915', 'ID_1916', 'ID_1971', 'ID_198',\n",
    "                'ID_2018', 'ID_204', 'ID_2044', 'ID_2104', 'ID_2108', 'ID_2109',\n",
    "                'ID_2146', 'ID_2251', 'ID_2330', 'ID_2336', 'ID_2381', 'ID_2383',\n",
    "                'ID_2400', 'ID_2616', 'ID_2636', 'ID_2749', 'ID_2766', 'ID_2779',\n",
    "                'ID_2809', 'ID_284', 'ID_2875', 'ID_2881', 'ID_30', 'ID_3021',\n",
    "                'ID_3049', 'ID_3098', 'ID_3178', 'ID_3183', 'ID_3219', 'ID_3232',\n",
    "                'ID_3561', 'ID_3644', 'ID_365', 'ID_3850', 'ID_389', 'ID_4025',\n",
    "                'ID_4036', 'ID_4050', 'ID_4058', 'ID_4075', 'ID_4113', 'ID_4122',\n",
    "                'ID_4255', 'ID_4257', 'ID_4275', 'ID_4347', 'ID_44', 'ID_4506',\n",
    "                'ID_4567', 'ID_618', 'ID_727', 'ID_737', 'ID_922', 'ID_950',\n",
    "                'ID_960', 'ID_969']"
   ]
  },
  {
   "cell_type": "markdown",
   "metadata": {
    "id": "NUZPDRFpP1bR"
   },
   "source": [
    "## 1.2 Some Preprocessing (Binning)"
   ]
  },
  {
   "cell_type": "code",
   "execution_count": 6,
   "metadata": {
    "id": "1ckLs7WN_Dee"
   },
   "outputs": [],
   "source": [
    "# expand so that each row corresponds to 1 click:\n",
    "\n",
    "data_heatmap_expanded = data_heatmap.loc[data_heatmap.index.repeat(data_heatmap['clicks'])].reset_index(drop=True)\n",
    "data_heatmap_expanded['clicks'] = 1\n",
    "\n",
    "#click_stat = data_heatmap_expanded.groupby(['click_x','click_y'])['clicks'].count().reset_index()"
   ]
  },
  {
   "cell_type": "code",
   "execution_count": 7,
   "metadata": {
    "id": "jLr8kad0CZ4L"
   },
   "outputs": [],
   "source": [
    "# Binning clicks in nr_of_x_bins, nr_of_y_bins:\n",
    "\n",
    "NR_OF_X_BINS = 61\n",
    "NR_OF_Y_BINS = 51\n",
    "\n",
    "max_width = data_heatmap['display_width'].max()\n",
    "max_height = data_heatmap['display_height'].max()\n",
    "\n",
    "width_bins = np.linspace(1, max_width, NR_OF_X_BINS)\n",
    "height_bins = np.linspace(1, max_height, NR_OF_Y_BINS)\n",
    "\n",
    "width_bins_max = len(width_bins)-2 # start at 0\n",
    "height_bins_max = len(height_bins)-2\n",
    "\n",
    "data_heatmap_expanded['click_x_bin'] = pd.cut(data_heatmap_expanded['click_x'],\n",
    "                                      bins   = width_bins,\n",
    "                                      labels = False,\n",
    "                                      include_lowest = True)\n",
    "\n",
    "data_heatmap_expanded['click_y_bin'] = pd.cut(data_heatmap_expanded['click_y'],\n",
    "                                      bins = height_bins,\n",
    "                                      labels = False,\n",
    "                                      include_lowest = True)\n",
    "\n",
    "\n",
    "aggregated_clicks = data_heatmap_expanded.groupby(['grid_id',\n",
    "                                           'domain',\n",
    "                                           'click_x_bin',\n",
    "                                           'click_y_bin']).size().reset_index(name='clicks_sum')\n",
    "\n",
    "\n",
    "aggregated_clicks['broken'] = 0\n",
    "aggregated_clicks.loc[(aggregated_clicks.grid_id == 333519) &\n",
    "            aggregated_clicks.domain.isin(cb_333519), 'broken'] = 1\n",
    "\n",
    "aggregated_clicks.loc[(aggregated_clicks.grid_id == 333346) &\n",
    "            aggregated_clicks.domain.isin(cb_333346), 'broken'] = 1\n",
    "\n",
    "#a['clicks_sum'].astype('int64');"
   ]
  },
  {
   "cell_type": "code",
   "execution_count": 8,
   "metadata": {
    "id": "0T1aFobbCbbA"
   },
   "outputs": [],
   "source": [
    "# add empty bins --> easier to generate vectors\n",
    "# takes a few seconds\n",
    "\n",
    "domains_grids = data_heatmap[['domain', 'grid_id']].drop_duplicates()\n",
    "\n",
    "aux = pd.DataFrame(list(product(range(0,width_bins_max+1),\n",
    "                                range(0,height_bins_max+1))),\n",
    "                   columns=['click_x_bin', 'click_y_bin'])\n",
    "\n",
    "domains_grids['key'] = 1\n",
    "aux['key'] = 1\n",
    "\n",
    "expanded_set = pd.merge(domains_grids, aux, on='key').drop('key', axis=1)\n",
    "\n",
    "data_binned = pd.merge(expanded_set, aggregated_clicks,\n",
    "                  on = ['domain', 'grid_id', 'click_x_bin', 'click_y_bin'],\n",
    "                  how = 'left').fillna(0)\n",
    "data_binned['clicks_sum'] = data_binned['clicks_sum'].astype('int64')\n",
    "data_binned['broken'] = data_binned['broken'].astype('int64')\n",
    "\n",
    "#data_binned"
   ]
  },
  {
   "cell_type": "markdown",
   "metadata": {
    "id": "CdCmYxy581gG"
   },
   "source": [
    "## 1.3 Data Enhancement Function"
   ]
  },
  {
   "cell_type": "code",
   "execution_count": 9,
   "metadata": {
    "id": "beatC1GB8zrM"
   },
   "outputs": [],
   "source": [
    "def enhance_data_with_noise(data, prob, size, sdev):\n",
    "    indices = np.random.choice(data.index,\n",
    "                                   size,\n",
    "                                   replace = True,\n",
    "                                   p = data[prob])\n",
    "\n",
    "    pert_x = np.random.normal(0, sdev, size).round().astype(int)\n",
    "    pert_y = np.random.normal(0, sdev, size).round().astype(int)\n",
    "\n",
    "    x = data.loc[indices][['click_x_bin', 'click_y_bin']] + np.array((pert_x, pert_y)).reshape(-1,2)\n",
    "    x_bin_max = data['click_x_bin'].max()\n",
    "    y_bin_max = data['click_y_bin'].max()\n",
    "\n",
    "    x.loc[x['click_x_bin'] < 0, 'click_x_bin'] = 0\n",
    "    x.loc[x['click_y_bin'] < 0, 'click_y_bin'] = 0\n",
    "    x.loc[x['click_x_bin'] > x_bin_max, 'click_x_bin'] = x_bin_max\n",
    "    x.loc[x['click_y_bin'] > y_bin_max, 'click_y_bin'] = y_bin_max\n",
    "\n",
    "    x = x.groupby(['click_x_bin','click_y_bin']).size().reset_index(name = 'clicks_sum')\n",
    "\n",
    "    tt = pd.DataFrame(list(product(range(0,x_bin_max+1), range(0,y_bin_max+1))),\n",
    "                      columns=['click_x_bin', 'click_y_bin'])\n",
    "\n",
    "    data_obs_merged = tt.merge(x, on = ['click_x_bin','click_y_bin'], how = 'left').fillna(0)\n",
    "#    data_obs_merged['boots_clicks'].sum()\n",
    "    return data_obs_merged"
   ]
  },
  {
   "cell_type": "markdown",
   "metadata": {
    "id": "iE7be3GB1ett"
   },
   "source": [
    "# 2 Pretrained ViT Model\n",
    "\n",
    "We start with extracting pretrained ViT features."
   ]
  },
  {
   "cell_type": "markdown",
   "metadata": {
    "id": "QG3Gj53KQFnb"
   },
   "source": [
    "## 2.1 Load ViT from Huggingface"
   ]
  },
  {
   "cell_type": "code",
   "execution_count": 10,
   "metadata": {
    "colab": {
     "base_uri": "https://localhost:8080/",
     "height": 113,
     "referenced_widgets": [
      "23958410810945d39d47e388b1c1f94f",
      "3e7c34dfb7bb445abd2ebf395fa14029",
      "46a28b72bde949ef97e25cc58eb0429e",
      "20dd03c46f924fb3bfe3aeefb926b51e",
      "a8c541a6165b4adcaa4897ed056d07c2",
      "729eac57ddee47879d378931176eda2d",
      "e48026a0bc7c4c08a4c717033c52d4e0",
      "afc59c8459714c7ebceafca4ceeebbe7",
      "a7bbf6088fcd4a3e9f620f3bafad91b0",
      "ec5f01fc759047468be0ce110b5637dc",
      "a36c41331df64655b80b6e70ed94cbca",
      "457c69855fba4cc5a05f40e35efdb6a4",
      "386fc1fd03c846379aeb2c08b82f7e21",
      "586e3bebeec447a1bc90d7270da09716",
      "b8c9fcf3dadd4550b815239fda943110",
      "9a602def96514659b80508e1adac7e44",
      "b492b95eee9c48dd98299336a5188b4d",
      "46d80d70b548485fbc9c329c3872715a",
      "870d4a4a675443a5ad19ca3cf3e41ee4",
      "563bf19b6e7245a383a3bf24af28ec12",
      "dd6d8b702ccf4e269f5fc405ba0775ed",
      "0641d642265b42a4a764db916b75daaa",
      "b1712e1abaef479abacfad10e4a387ae",
      "0fce1e4c9411451d90d31c08bc74eaee",
      "76eeaec9c4fe4d6d80d0736d3494223b",
      "c2c55352e9894d44a501e2bb03dda653",
      "3ae20d55bf9c41448132aa2266e5c594",
      "4a217b1ca6674904b8972f2b30bc284a",
      "77715d5616ec4d46ae5d8d76d9a5524e",
      "21ba9b8cf1f8452897405db4c7c629a5",
      "36a680053d784c58a121dd43bd8fa202",
      "098a600f92954454b98c71b20c4363cc",
      "7777737f4e0f41778a084edcfe07023c"
     ]
    },
    "id": "CEMzQYZlAopD",
    "outputId": "6e5d92ce-340c-40d7-eba4-cd2dd9f3dbdc"
   },
   "outputs": [
    {
     "data": {
      "application/vnd.jupyter.widget-view+json": {
       "model_id": "23958410810945d39d47e388b1c1f94f",
       "version_major": 2,
       "version_minor": 0
      },
      "text/plain": [
       "preprocessor_config.json:   0%|          | 0.00/160 [00:00<?, ?B/s]"
      ]
     },
     "metadata": {},
     "output_type": "display_data"
    },
    {
     "data": {
      "application/vnd.jupyter.widget-view+json": {
       "model_id": "457c69855fba4cc5a05f40e35efdb6a4",
       "version_major": 2,
       "version_minor": 0
      },
      "text/plain": [
       "config.json:   0%|          | 0.00/502 [00:00<?, ?B/s]"
      ]
     },
     "metadata": {},
     "output_type": "display_data"
    },
    {
     "data": {
      "application/vnd.jupyter.widget-view+json": {
       "model_id": "b1712e1abaef479abacfad10e4a387ae",
       "version_major": 2,
       "version_minor": 0
      },
      "text/plain": [
       "model.safetensors:   0%|          | 0.00/346M [00:00<?, ?B/s]"
      ]
     },
     "metadata": {},
     "output_type": "display_data"
    }
   ],
   "source": [
    "url = 'http://images.cocodataset.org/val2017/000000039769.jpg'\n",
    "image = Image.open(requests.get(url, stream=True).raw)\n",
    "\n",
    "feature_extractor = ViTFeatureExtractor.from_pretrained('google/vit-base-patch16-224-in21k')\n",
    "model = ViTModel.from_pretrained('google/vit-base-patch16-224-in21k')\n",
    "\n",
    "inputs = feature_extractor(images=image, return_tensors=\"pt\")\n",
    "outputs = model(**inputs)\n",
    "last_hidden_states = outputs.last_hidden_state"
   ]
  },
  {
   "cell_type": "markdown",
   "metadata": {
    "id": "EDa2hLxCC6kc"
   },
   "source": [
    "## 2.2 ViT features for Grid_id = 333519"
   ]
  },
  {
   "cell_type": "code",
   "execution_count": 11,
   "metadata": {
    "id": "k280r_2WCfhL"
   },
   "outputs": [],
   "source": [
    "grid333519 = data_binned[data_binned.grid_id == 333519].drop(columns = ['grid_id'])"
   ]
  },
  {
   "cell_type": "markdown",
   "metadata": {
    "id": "FrP_yU8eQPl2"
   },
   "source": [
    "### 2.2.1 Transform into RGB\n",
    "\n",
    "We now transform our heatmap data into RGB images. We further upsample the clicks using noisy bootstrap with standard dev = STDEV and number of clicks = 50000.\n",
    "\n",
    "This code takes some time to evaluate."
   ]
  },
  {
   "cell_type": "code",
   "execution_count": 12,
   "metadata": {
    "id": "AbRdQpCVCqHS"
   },
   "outputs": [],
   "source": [
    "STDEV = 1.5\n",
    "NR_OF_SAMPLES = 50000\n",
    "\n",
    "domains = grid333519['domain'].unique()\n",
    "images333519 = []\n",
    "labels333519 = []\n",
    "for domain in domains:\n",
    "    domain_df = grid333519[grid333519['domain'] == domain]\n",
    "    domain_df['proba'] = domain_df.clicks_sum/domain_df.clicks_sum.sum()\n",
    "    domain_df_enh = enhance_data_with_noise(domain_df, 'proba', NR_OF_SAMPLES, STDEV)\n",
    "\n",
    "    matrix = domain_df_enh.pivot(index='click_y_bin',\n",
    "                                 columns='click_x_bin',\n",
    "                                 values='clicks_sum').fillna(0).to_numpy()\n",
    "    labels333519.append(domain_df['broken'].max().astype(int))\n",
    "    images333519.append(np.uint8(matrix * 255 / np.max(matrix)))\n",
    "\n",
    "    image = Image.fromarray(np.uint8(matrix * 255 / np.max(matrix)))\n",
    "\n",
    "images333519 = np.array(images333519)\n",
    "labels333519 = np.array(labels333519)"
   ]
  },
  {
   "cell_type": "markdown",
   "metadata": {
    "id": "fX4HeHxJQyKP"
   },
   "source": [
    "Stack the single greyscale channel:"
   ]
  },
  {
   "cell_type": "code",
   "execution_count": 14,
   "metadata": {
    "id": "pIMfVdbPKE_v"
   },
   "outputs": [],
   "source": [
    "images_rgb333519 = np.stack([np.repeat(image[:, :, np.newaxis], 3, axis=2) for image in images333519], axis=0)"
   ]
  },
  {
   "cell_type": "markdown",
   "metadata": {
    "id": "OaJ1htJKQ2O8"
   },
   "source": [
    "Plot an example:"
   ]
  },
  {
   "cell_type": "code",
   "execution_count": 15,
   "metadata": {
    "colab": {
     "base_uri": "https://localhost:8080/",
     "height": 406
    },
    "id": "xAnJESQcCdkA",
    "outputId": "6dde0162-b96b-41ae-c850-6768391c00a2"
   },
   "outputs": [
    {
     "data": {
      "image/png": "[encoded data removed]",
      "text/plain": [
       "<Figure size 640x480 with 1 Axes>"
      ]
     },
     "metadata": {},
     "output_type": "display_data"
    }
   ],
   "source": [
    "img_np  = images_rgb333519[12]\n",
    "img_pil = Image.fromarray(img_np.astype('uint8'), 'RGB')\n",
    "plt.imshow(img_pil)\n",
    "plt.axis('off')\n",
    "plt.show()"
   ]
  },
  {
   "cell_type": "markdown",
   "metadata": {
    "id": "sPlZmkrdQ5Gk"
   },
   "source": [
    "### 2.2.2 Extract the ViT hidden states"
   ]
  },
  {
   "cell_type": "code",
   "execution_count": 16,
   "metadata": {
    "id": "IdzAuc5vEuaf"
   },
   "outputs": [],
   "source": [
    "hid_states333519 = []\n",
    "for img in images_rgb333519:\n",
    "    feat_imgs = feature_extractor(images = img, return_tensors=\"pt\")\n",
    "    outputs = model(**feat_imgs)\n",
    "    last_hidden_states = outputs.last_hidden_state\n",
    "    hid_states333519.append(last_hidden_states.detach().numpy().reshape(-1))\n",
    "\n",
    "hid_states333519 = np.array(hid_states333519)"
   ]
  },
  {
   "cell_type": "code",
   "execution_count": 17,
   "metadata": {
    "colab": {
     "base_uri": "https://localhost:8080/"
    },
    "id": "r90y6Q4lO0a6",
    "outputId": "24c574e8-de12-4699-bb1a-057341621531"
   },
   "outputs": [
    {
     "name": "stdout",
     "output_type": "stream",
     "text": [
      "(872, 151296)\n"
     ]
    }
   ],
   "source": [
    "print(hid_states333519.shape)"
   ]
  },
  {
   "cell_type": "markdown",
   "metadata": {
    "id": "ldTsYQVYDBBW"
   },
   "source": [
    "## 2.3 ViT features for Grid_id = 333346"
   ]
  },
  {
   "cell_type": "code",
   "execution_count": 18,
   "metadata": {
    "id": "x3OHFNiNDBBX"
   },
   "outputs": [],
   "source": [
    "grid333346 = data_binned[data_binned.grid_id == 333346].drop(columns = ['grid_id'])"
   ]
  },
  {
   "cell_type": "markdown",
   "metadata": {
    "id": "_jngtPOsRQCA"
   },
   "source": [
    "### 2.3.1 Transform into RGB\n",
    "\n",
    "We now transform our heatmap data into RGB images. We further upsample the clicks using noisy bootstrap with standard dev = STDEV and number of clicks = 50000.\n",
    "\n",
    "This code takes some time to evaluate."
   ]
  },
  {
   "cell_type": "code",
   "execution_count": 19,
   "metadata": {
    "id": "aguJzKR4DBBX"
   },
   "outputs": [],
   "source": [
    "import pandas as pd\n",
    "import numpy as np\n",
    "from PIL import Image\n",
    "\n",
    "domains = grid333346['domain'].unique()\n",
    "images333346 = []\n",
    "labels333346 = []\n",
    "for domain in domains:\n",
    "    domain_df = grid333346[grid333346['domain'] == domain]\n",
    "    domain_df['proba'] = domain_df.clicks_sum/domain_df.clicks_sum.sum()\n",
    "    domain_df_enh = enhance_data_with_noise(domain_df, 'proba', NR_OF_SAMPLES, STDEV)\n",
    "\n",
    "    matrix = domain_df_enh.pivot(index='click_y_bin',\n",
    "                             columns='click_x_bin',\n",
    "                             values='clicks_sum').fillna(0).to_numpy()\n",
    "    labels333346.append(domain_df['broken'].max().astype(int))\n",
    "    images333346.append(np.uint8(matrix * 255 / np.max(matrix)))\n",
    "    #image = Image.fromarray(np.uint8(matrix * 255 / np.max(matrix)))\n",
    "\n",
    "images333346 = np.array(images333346)\n",
    "labels333346 = np.array(labels333346)"
   ]
  },
  {
   "cell_type": "markdown",
   "metadata": {
    "id": "SJkkPgDrRVjw"
   },
   "source": [
    "Stack the single greyscale channel:"
   ]
  },
  {
   "cell_type": "code",
   "execution_count": 20,
   "metadata": {
    "id": "HtaMdbd7DBBY"
   },
   "outputs": [],
   "source": [
    "images_rgb333346 = np.stack([np.repeat(image[:, :, np.newaxis], 3, axis=2) for image in images333346], axis=0)"
   ]
  },
  {
   "cell_type": "markdown",
   "metadata": {
    "id": "eiXZ4QGxRYM2"
   },
   "source": [
    "Plot an example:"
   ]
  },
  {
   "cell_type": "code",
   "execution_count": 21,
   "metadata": {
    "colab": {
     "base_uri": "https://localhost:8080/",
     "height": 406
    },
    "id": "AGn55tYzDRX4",
    "outputId": "5a89bc06-384b-4634-b94c-02f0f4928b23"
   },
   "outputs": [
    {
     "data": {
      "image/png": "[encoded data removed]",
      "text/plain": [
       "<Figure size 640x480 with 1 Axes>"
      ]
     },
     "metadata": {},
     "output_type": "display_data"
    }
   ],
   "source": [
    "img_np  = images_rgb333346[32]\n",
    "img_pil = Image.fromarray(img_np.astype('uint8'), 'RGB')\n",
    "plt.imshow(img_pil)\n",
    "plt.axis('off')\n",
    "plt.show()"
   ]
  },
  {
   "cell_type": "markdown",
   "metadata": {
    "id": "dmEG9OGDRbej"
   },
   "source": [
    "### 2.3.2 Extract the ViT hidden states"
   ]
  },
  {
   "cell_type": "code",
   "execution_count": 22,
   "metadata": {
    "id": "501yuIYgDBBY"
   },
   "outputs": [],
   "source": [
    "hid_states333346 = []\n",
    "for img in images_rgb333346:\n",
    "    feat_imgs = feature_extractor(images = img, return_tensors=\"pt\")\n",
    "    outputs = model(**feat_imgs)\n",
    "    last_hidden_states = outputs.last_hidden_state\n",
    "    hid_states333346.append(last_hidden_states.detach().numpy().reshape(-1))\n",
    "\n",
    "hid_states333346 = np.array(hid_states333346)"
   ]
  },
  {
   "cell_type": "code",
   "execution_count": 23,
   "metadata": {
    "colab": {
     "base_uri": "https://localhost:8080/"
    },
    "id": "oh1Qv96uDBBY",
    "outputId": "a5c90a26-e7fb-4794-db3d-3805570dc90e"
   },
   "outputs": [
    {
     "name": "stdout",
     "output_type": "stream",
     "text": [
      "(861, 151296)\n"
     ]
    }
   ],
   "source": [
    "print(hid_states333346.shape)"
   ]
  },
  {
   "cell_type": "markdown",
   "metadata": {
    "id": "YE9S8KsdHnuN"
   },
   "source": [
    "# 3 Pretrained ResNet-50 model\n",
    "\n",
    "We now perform the same for the pretrained ResNet-50 model from Huggingface"
   ]
  },
  {
   "cell_type": "markdown",
   "metadata": {
    "id": "fBANX4juRsZR"
   },
   "source": [
    "## 3.1 Load ResNet-50 from Huggingface"
   ]
  },
  {
   "cell_type": "code",
   "execution_count": 24,
   "metadata": {
    "colab": {
     "base_uri": "https://localhost:8080/",
     "height": 1000,
     "referenced_widgets": [
      "86868aa1c4f645eb9b5ea3e60df05ede",
      "775c6aa5fcb64eb283b863c2870f929e",
      "27165d6ce42a4839b1ba3340300fc0dc",
      "b708797946164b9a91f3b867e60f03eb",
      "1baf5cf28f3b48b7817c2f0e76ef76d3",
      "2e54ee56b1cb4dcdad0e0fc15974fd2a",
      "54ae52c4dad742bf97b830ecc5a137e7",
      "d2adf52bb1164afda2e438182825686b",
      "0532e2eea1c44b35aa11fe494c20a51b",
      "4a29a210623949c296b338e8605f19b1",
      "c36f4b845f8f4051a65553653997304f",
      "965ad4593fd941598a85f6b4f9c7b127",
      "ca84b62eea08436d93ee4e8114f79123",
      "72d0e1f42c564da8a65186e9f572ec88",
      "acdd8dec1d134b30948e6e1575717941",
      "8f5824a79336432c9ce7fe3a9a14087f",
      "164d5cc43a86475c871516a68b9cb381",
      "e32e3971275f4385b16790ad6240f556",
      "7649a51bd21b4821be5ef5db01604a31",
      "1387783c00034e349dd2d90b9e9b2ce2",
      "1a25c152367c40f5b676ef7d122c6960",
      "12224cc35633438abf3714fa8ce4baef"
     ]
    },
    "id": "ycIPIZ6bHogZ",
    "outputId": "b58333c9-1cf5-44eb-90cb-e3e24860986e"
   },
   "outputs": [
    {
     "data": {
      "application/vnd.jupyter.widget-view+json": {
       "model_id": "86868aa1c4f645eb9b5ea3e60df05ede",
       "version_major": 2,
       "version_minor": 0
      },
      "text/plain": [
       "config.json:   0%|          | 0.00/69.6k [00:00<?, ?B/s]"
      ]
     },
     "metadata": {},
     "output_type": "display_data"
    },
    {
     "data": {
      "application/vnd.jupyter.widget-view+json": {
       "model_id": "965ad4593fd941598a85f6b4f9c7b127",
       "version_major": 2,
       "version_minor": 0
      },
      "text/plain": [
       "model.safetensors:   0%|          | 0.00/102M [00:00<?, ?B/s]"
      ]
     },
     "metadata": {},
     "output_type": "display_data"
    },
    {
     "data": {
      "text/plain": [
       "ResNetForImageClassification(\n",
       "  (resnet): ResNetModel(\n",
       "    (embedder): ResNetEmbeddings(\n",
       "      (embedder): ResNetConvLayer(\n",
       "        (convolution): Conv2d(3, 64, kernel_size=(7, 7), stride=(2, 2), padding=(3, 3), bias=False)\n",
       "        (normalization): BatchNorm2d(64, eps=1e-05, momentum=0.1, affine=True, track_running_stats=True)\n",
       "        (activation): ReLU()\n",
       "      )\n",
       "      (pooler): MaxPool2d(kernel_size=3, stride=2, padding=1, dilation=1, ceil_mode=False)\n",
       "    )\n",
       "    (encoder): ResNetEncoder(\n",
       "      (stages): ModuleList(\n",
       "        (0): ResNetStage(\n",
       "          (layers): Sequential(\n",
       "            (0): ResNetBottleNeckLayer(\n",
       "              (shortcut): ResNetShortCut(\n",
       "                (convolution): Conv2d(64, 256, kernel_size=(1, 1), stride=(1, 1), bias=False)\n",
       "                (normalization): BatchNorm2d(256, eps=1e-05, momentum=0.1, affine=True, track_running_stats=True)\n",
       "              )\n",
       "              (layer): Sequential(\n",
       "                (0): ResNetConvLayer(\n",
       "                  (convolution): Conv2d(64, 64, kernel_size=(1, 1), stride=(1, 1), bias=False)\n",
       "                  (normalization): BatchNorm2d(64, eps=1e-05, momentum=0.1, affine=True, track_running_stats=True)\n",
       "                  (activation): ReLU()\n",
       "                )\n",
       "                (1): ResNetConvLayer(\n",
       "                  (convolution): Conv2d(64, 64, kernel_size=(3, 3), stride=(1, 1), padding=(1, 1), bias=False)\n",
       "                  (normalization): BatchNorm2d(64, eps=1e-05, momentum=0.1, affine=True, track_running_stats=True)\n",
       "                  (activation): ReLU()\n",
       "                )\n",
       "                (2): ResNetConvLayer(\n",
       "                  (convolution): Conv2d(64, 256, kernel_size=(1, 1), stride=(1, 1), bias=False)\n",
       "                  (normalization): BatchNorm2d(256, eps=1e-05, momentum=0.1, affine=True, track_running_stats=True)\n",
       "                  (activation): Identity()\n",
       "                )\n",
       "              )\n",
       "              (activation): ReLU()\n",
       "            )\n",
       "            (1): ResNetBottleNeckLayer(\n",
       "              (shortcut): Identity()\n",
       "              (layer): Sequential(\n",
       "                (0): ResNetConvLayer(\n",
       "                  (convolution): Conv2d(256, 64, kernel_size=(1, 1), stride=(1, 1), bias=False)\n",
       "                  (normalization): BatchNorm2d(64, eps=1e-05, momentum=0.1, affine=True, track_running_stats=True)\n",
       "                  (activation): ReLU()\n",
       "                )\n",
       "                (1): ResNetConvLayer(\n",
       "                  (convolution): Conv2d(64, 64, kernel_size=(3, 3), stride=(1, 1), padding=(1, 1), bias=False)\n",
       "                  (normalization): BatchNorm2d(64, eps=1e-05, momentum=0.1, affine=True, track_running_stats=True)\n",
       "                  (activation): ReLU()\n",
       "                )\n",
       "                (2): ResNetConvLayer(\n",
       "                  (convolution): Conv2d(64, 256, kernel_size=(1, 1), stride=(1, 1), bias=False)\n",
       "                  (normalization): BatchNorm2d(256, eps=1e-05, momentum=0.1, affine=True, track_running_stats=True)\n",
       "                  (activation): Identity()\n",
       "                )\n",
       "              )\n",
       "              (activation): ReLU()\n",
       "            )\n",
       "            (2): ResNetBottleNeckLayer(\n",
       "              (shortcut): Identity()\n",
       "              (layer): Sequential(\n",
       "                (0): ResNetConvLayer(\n",
       "                  (convolution): Conv2d(256, 64, kernel_size=(1, 1), stride=(1, 1), bias=False)\n",
       "                  (normalization): BatchNorm2d(64, eps=1e-05, momentum=0.1, affine=True, track_running_stats=True)\n",
       "                  (activation): ReLU()\n",
       "                )\n",
       "                (1): ResNetConvLayer(\n",
       "                  (convolution): Conv2d(64, 64, kernel_size=(3, 3), stride=(1, 1), padding=(1, 1), bias=False)\n",
       "                  (normalization): BatchNorm2d(64, eps=1e-05, momentum=0.1, affine=True, track_running_stats=True)\n",
       "                  (activation): ReLU()\n",
       "                )\n",
       "                (2): ResNetConvLayer(\n",
       "                  (convolution): Conv2d(64, 256, kernel_size=(1, 1), stride=(1, 1), bias=False)\n",
       "                  (normalization): BatchNorm2d(256, eps=1e-05, momentum=0.1, affine=True, track_running_stats=True)\n",
       "                  (activation): Identity()\n",
       "                )\n",
       "              )\n",
       "              (activation): ReLU()\n",
       "            )\n",
       "          )\n",
       "        )\n",
       "        (1): ResNetStage(\n",
       "          (layers): Sequential(\n",
       "            (0): ResNetBottleNeckLayer(\n",
       "              (shortcut): ResNetShortCut(\n",
       "                (convolution): Conv2d(256, 512, kernel_size=(1, 1), stride=(2, 2), bias=False)\n",
       "                (normalization): BatchNorm2d(512, eps=1e-05, momentum=0.1, affine=True, track_running_stats=True)\n",
       "              )\n",
       "              (layer): Sequential(\n",
       "                (0): ResNetConvLayer(\n",
       "                  (convolution): Conv2d(256, 128, kernel_size=(1, 1), stride=(1, 1), bias=False)\n",
       "                  (normalization): BatchNorm2d(128, eps=1e-05, momentum=0.1, affine=True, track_running_stats=True)\n",
       "                  (activation): ReLU()\n",
       "                )\n",
       "                (1): ResNetConvLayer(\n",
       "                  (convolution): Conv2d(128, 128, kernel_size=(3, 3), stride=(2, 2), padding=(1, 1), bias=False)\n",
       "                  (normalization): BatchNorm2d(128, eps=1e-05, momentum=0.1, affine=True, track_running_stats=True)\n",
       "                  (activation): ReLU()\n",
       "                )\n",
       "                (2): ResNetConvLayer(\n",
       "                  (convolution): Conv2d(128, 512, kernel_size=(1, 1), stride=(1, 1), bias=False)\n",
       "                  (normalization): BatchNorm2d(512, eps=1e-05, momentum=0.1, affine=True, track_running_stats=True)\n",
       "                  (activation): Identity()\n",
       "                )\n",
       "              )\n",
       "              (activation): ReLU()\n",
       "            )\n",
       "            (1): ResNetBottleNeckLayer(\n",
       "              (shortcut): Identity()\n",
       "              (layer): Sequential(\n",
       "                (0): ResNetConvLayer(\n",
       "                  (convolution): Conv2d(512, 128, kernel_size=(1, 1), stride=(1, 1), bias=False)\n",
       "                  (normalization): BatchNorm2d(128, eps=1e-05, momentum=0.1, affine=True, track_running_stats=True)\n",
       "                  (activation): ReLU()\n",
       "                )\n",
       "                (1): ResNetConvLayer(\n",
       "                  (convolution): Conv2d(128, 128, kernel_size=(3, 3), stride=(1, 1), padding=(1, 1), bias=False)\n",
       "                  (normalization): BatchNorm2d(128, eps=1e-05, momentum=0.1, affine=True, track_running_stats=True)\n",
       "                  (activation): ReLU()\n",
       "                )\n",
       "                (2): ResNetConvLayer(\n",
       "                  (convolution): Conv2d(128, 512, kernel_size=(1, 1), stride=(1, 1), bias=False)\n",
       "                  (normalization): BatchNorm2d(512, eps=1e-05, momentum=0.1, affine=True, track_running_stats=True)\n",
       "                  (activation): Identity()\n",
       "                )\n",
       "              )\n",
       "              (activation): ReLU()\n",
       "            )\n",
       "            (2): ResNetBottleNeckLayer(\n",
       "              (shortcut): Identity()\n",
       "              (layer): Sequential(\n",
       "                (0): ResNetConvLayer(\n",
       "                  (convolution): Conv2d(512, 128, kernel_size=(1, 1), stride=(1, 1), bias=False)\n",
       "                  (normalization): BatchNorm2d(128, eps=1e-05, momentum=0.1, affine=True, track_running_stats=True)\n",
       "                  (activation): ReLU()\n",
       "                )\n",
       "                (1): ResNetConvLayer(\n",
       "                  (convolution): Conv2d(128, 128, kernel_size=(3, 3), stride=(1, 1), padding=(1, 1), bias=False)\n",
       "                  (normalization): BatchNorm2d(128, eps=1e-05, momentum=0.1, affine=True, track_running_stats=True)\n",
       "                  (activation): ReLU()\n",
       "                )\n",
       "                (2): ResNetConvLayer(\n",
       "                  (convolution): Conv2d(128, 512, kernel_size=(1, 1), stride=(1, 1), bias=False)\n",
       "                  (normalization): BatchNorm2d(512, eps=1e-05, momentum=0.1, affine=True, track_running_stats=True)\n",
       "                  (activation): Identity()\n",
       "                )\n",
       "              )\n",
       "              (activation): ReLU()\n",
       "            )\n",
       "            (3): ResNetBottleNeckLayer(\n",
       "              (shortcut): Identity()\n",
       "              (layer): Sequential(\n",
       "                (0): ResNetConvLayer(\n",
       "                  (convolution): Conv2d(512, 128, kernel_size=(1, 1), stride=(1, 1), bias=False)\n",
       "                  (normalization): BatchNorm2d(128, eps=1e-05, momentum=0.1, affine=True, track_running_stats=True)\n",
       "                  (activation): ReLU()\n",
       "                )\n",
       "                (1): ResNetConvLayer(\n",
       "                  (convolution): Conv2d(128, 128, kernel_size=(3, 3), stride=(1, 1), padding=(1, 1), bias=False)\n",
       "                  (normalization): BatchNorm2d(128, eps=1e-05, momentum=0.1, affine=True, track_running_stats=True)\n",
       "                  (activation): ReLU()\n",
       "                )\n",
       "                (2): ResNetConvLayer(\n",
       "                  (convolution): Conv2d(128, 512, kernel_size=(1, 1), stride=(1, 1), bias=False)\n",
       "                  (normalization): BatchNorm2d(512, eps=1e-05, momentum=0.1, affine=True, track_running_stats=True)\n",
       "                  (activation): Identity()\n",
       "                )\n",
       "              )\n",
       "              (activation): ReLU()\n",
       "            )\n",
       "          )\n",
       "        )\n",
       "        (2): ResNetStage(\n",
       "          (layers): Sequential(\n",
       "            (0): ResNetBottleNeckLayer(\n",
       "              (shortcut): ResNetShortCut(\n",
       "                (convolution): Conv2d(512, 1024, kernel_size=(1, 1), stride=(2, 2), bias=False)\n",
       "                (normalization): BatchNorm2d(1024, eps=1e-05, momentum=0.1, affine=True, track_running_stats=True)\n",
       "              )\n",
       "              (layer): Sequential(\n",
       "                (0): ResNetConvLayer(\n",
       "                  (convolution): Conv2d(512, 256, kernel_size=(1, 1), stride=(1, 1), bias=False)\n",
       "                  (normalization): BatchNorm2d(256, eps=1e-05, momentum=0.1, affine=True, track_running_stats=True)\n",
       "                  (activation): ReLU()\n",
       "                )\n",
       "                (1): ResNetConvLayer(\n",
       "                  (convolution): Conv2d(256, 256, kernel_size=(3, 3), stride=(2, 2), padding=(1, 1), bias=False)\n",
       "                  (normalization): BatchNorm2d(256, eps=1e-05, momentum=0.1, affine=True, track_running_stats=True)\n",
       "                  (activation): ReLU()\n",
       "                )\n",
       "                (2): ResNetConvLayer(\n",
       "                  (convolution): Conv2d(256, 1024, kernel_size=(1, 1), stride=(1, 1), bias=False)\n",
       "                  (normalization): BatchNorm2d(1024, eps=1e-05, momentum=0.1, affine=True, track_running_stats=True)\n",
       "                  (activation): Identity()\n",
       "                )\n",
       "              )\n",
       "              (activation): ReLU()\n",
       "            )\n",
       "            (1): ResNetBottleNeckLayer(\n",
       "              (shortcut): Identity()\n",
       "              (layer): Sequential(\n",
       "                (0): ResNetConvLayer(\n",
       "                  (convolution): Conv2d(1024, 256, kernel_size=(1, 1), stride=(1, 1), bias=False)\n",
       "                  (normalization): BatchNorm2d(256, eps=1e-05, momentum=0.1, affine=True, track_running_stats=True)\n",
       "                  (activation): ReLU()\n",
       "                )\n",
       "                (1): ResNetConvLayer(\n",
       "                  (convolution): Conv2d(256, 256, kernel_size=(3, 3), stride=(1, 1), padding=(1, 1), bias=False)\n",
       "                  (normalization): BatchNorm2d(256, eps=1e-05, momentum=0.1, affine=True, track_running_stats=True)\n",
       "                  (activation): ReLU()\n",
       "                )\n",
       "                (2): ResNetConvLayer(\n",
       "                  (convolution): Conv2d(256, 1024, kernel_size=(1, 1), stride=(1, 1), bias=False)\n",
       "                  (normalization): BatchNorm2d(1024, eps=1e-05, momentum=0.1, affine=True, track_running_stats=True)\n",
       "                  (activation): Identity()\n",
       "                )\n",
       "              )\n",
       "              (activation): ReLU()\n",
       "            )\n",
       "            (2): ResNetBottleNeckLayer(\n",
       "              (shortcut): Identity()\n",
       "              (layer): Sequential(\n",
       "                (0): ResNetConvLayer(\n",
       "                  (convolution): Conv2d(1024, 256, kernel_size=(1, 1), stride=(1, 1), bias=False)\n",
       "                  (normalization): BatchNorm2d(256, eps=1e-05, momentum=0.1, affine=True, track_running_stats=True)\n",
       "                  (activation): ReLU()\n",
       "                )\n",
       "                (1): ResNetConvLayer(\n",
       "                  (convolution): Conv2d(256, 256, kernel_size=(3, 3), stride=(1, 1), padding=(1, 1), bias=False)\n",
       "                  (normalization): BatchNorm2d(256, eps=1e-05, momentum=0.1, affine=True, track_running_stats=True)\n",
       "                  (activation): ReLU()\n",
       "                )\n",
       "                (2): ResNetConvLayer(\n",
       "                  (convolution): Conv2d(256, 1024, kernel_size=(1, 1), stride=(1, 1), bias=False)\n",
       "                  (normalization): BatchNorm2d(1024, eps=1e-05, momentum=0.1, affine=True, track_running_stats=True)\n",
       "                  (activation): Identity()\n",
       "                )\n",
       "              )\n",
       "              (activation): ReLU()\n",
       "            )\n",
       "            (3): ResNetBottleNeckLayer(\n",
       "              (shortcut): Identity()\n",
       "              (layer): Sequential(\n",
       "                (0): ResNetConvLayer(\n",
       "                  (convolution): Conv2d(1024, 256, kernel_size=(1, 1), stride=(1, 1), bias=False)\n",
       "                  (normalization): BatchNorm2d(256, eps=1e-05, momentum=0.1, affine=True, track_running_stats=True)\n",
       "                  (activation): ReLU()\n",
       "                )\n",
       "                (1): ResNetConvLayer(\n",
       "                  (convolution): Conv2d(256, 256, kernel_size=(3, 3), stride=(1, 1), padding=(1, 1), bias=False)\n",
       "                  (normalization): BatchNorm2d(256, eps=1e-05, momentum=0.1, affine=True, track_running_stats=True)\n",
       "                  (activation): ReLU()\n",
       "                )\n",
       "                (2): ResNetConvLayer(\n",
       "                  (convolution): Conv2d(256, 1024, kernel_size=(1, 1), stride=(1, 1), bias=False)\n",
       "                  (normalization): BatchNorm2d(1024, eps=1e-05, momentum=0.1, affine=True, track_running_stats=True)\n",
       "                  (activation): Identity()\n",
       "                )\n",
       "              )\n",
       "              (activation): ReLU()\n",
       "            )\n",
       "            (4): ResNetBottleNeckLayer(\n",
       "              (shortcut): Identity()\n",
       "              (layer): Sequential(\n",
       "                (0): ResNetConvLayer(\n",
       "                  (convolution): Conv2d(1024, 256, kernel_size=(1, 1), stride=(1, 1), bias=False)\n",
       "                  (normalization): BatchNorm2d(256, eps=1e-05, momentum=0.1, affine=True, track_running_stats=True)\n",
       "                  (activation): ReLU()\n",
       "                )\n",
       "                (1): ResNetConvLayer(\n",
       "                  (convolution): Conv2d(256, 256, kernel_size=(3, 3), stride=(1, 1), padding=(1, 1), bias=False)\n",
       "                  (normalization): BatchNorm2d(256, eps=1e-05, momentum=0.1, affine=True, track_running_stats=True)\n",
       "                  (activation): ReLU()\n",
       "                )\n",
       "                (2): ResNetConvLayer(\n",
       "                  (convolution): Conv2d(256, 1024, kernel_size=(1, 1), stride=(1, 1), bias=False)\n",
       "                  (normalization): BatchNorm2d(1024, eps=1e-05, momentum=0.1, affine=True, track_running_stats=True)\n",
       "                  (activation): Identity()\n",
       "                )\n",
       "              )\n",
       "              (activation): ReLU()\n",
       "            )\n",
       "            (5): ResNetBottleNeckLayer(\n",
       "              (shortcut): Identity()\n",
       "              (layer): Sequential(\n",
       "                (0): ResNetConvLayer(\n",
       "                  (convolution): Conv2d(1024, 256, kernel_size=(1, 1), stride=(1, 1), bias=False)\n",
       "                  (normalization): BatchNorm2d(256, eps=1e-05, momentum=0.1, affine=True, track_running_stats=True)\n",
       "                  (activation): ReLU()\n",
       "                )\n",
       "                (1): ResNetConvLayer(\n",
       "                  (convolution): Conv2d(256, 256, kernel_size=(3, 3), stride=(1, 1), padding=(1, 1), bias=False)\n",
       "                  (normalization): BatchNorm2d(256, eps=1e-05, momentum=0.1, affine=True, track_running_stats=True)\n",
       "                  (activation): ReLU()\n",
       "                )\n",
       "                (2): ResNetConvLayer(\n",
       "                  (convolution): Conv2d(256, 1024, kernel_size=(1, 1), stride=(1, 1), bias=False)\n",
       "                  (normalization): BatchNorm2d(1024, eps=1e-05, momentum=0.1, affine=True, track_running_stats=True)\n",
       "                  (activation): Identity()\n",
       "                )\n",
       "              )\n",
       "              (activation): ReLU()\n",
       "            )\n",
       "          )\n",
       "        )\n",
       "        (3): ResNetStage(\n",
       "          (layers): Sequential(\n",
       "            (0): ResNetBottleNeckLayer(\n",
       "              (shortcut): ResNetShortCut(\n",
       "                (convolution): Conv2d(1024, 2048, kernel_size=(1, 1), stride=(2, 2), bias=False)\n",
       "                (normalization): BatchNorm2d(2048, eps=1e-05, momentum=0.1, affine=True, track_running_stats=True)\n",
       "              )\n",
       "              (layer): Sequential(\n",
       "                (0): ResNetConvLayer(\n",
       "                  (convolution): Conv2d(1024, 512, kernel_size=(1, 1), stride=(1, 1), bias=False)\n",
       "                  (normalization): BatchNorm2d(512, eps=1e-05, momentum=0.1, affine=True, track_running_stats=True)\n",
       "                  (activation): ReLU()\n",
       "                )\n",
       "                (1): ResNetConvLayer(\n",
       "                  (convolution): Conv2d(512, 512, kernel_size=(3, 3), stride=(2, 2), padding=(1, 1), bias=False)\n",
       "                  (normalization): BatchNorm2d(512, eps=1e-05, momentum=0.1, affine=True, track_running_stats=True)\n",
       "                  (activation): ReLU()\n",
       "                )\n",
       "                (2): ResNetConvLayer(\n",
       "                  (convolution): Conv2d(512, 2048, kernel_size=(1, 1), stride=(1, 1), bias=False)\n",
       "                  (normalization): BatchNorm2d(2048, eps=1e-05, momentum=0.1, affine=True, track_running_stats=True)\n",
       "                  (activation): Identity()\n",
       "                )\n",
       "              )\n",
       "              (activation): ReLU()\n",
       "            )\n",
       "            (1): ResNetBottleNeckLayer(\n",
       "              (shortcut): Identity()\n",
       "              (layer): Sequential(\n",
       "                (0): ResNetConvLayer(\n",
       "                  (convolution): Conv2d(2048, 512, kernel_size=(1, 1), stride=(1, 1), bias=False)\n",
       "                  (normalization): BatchNorm2d(512, eps=1e-05, momentum=0.1, affine=True, track_running_stats=True)\n",
       "                  (activation): ReLU()\n",
       "                )\n",
       "                (1): ResNetConvLayer(\n",
       "                  (convolution): Conv2d(512, 512, kernel_size=(3, 3), stride=(1, 1), padding=(1, 1), bias=False)\n",
       "                  (normalization): BatchNorm2d(512, eps=1e-05, momentum=0.1, affine=True, track_running_stats=True)\n",
       "                  (activation): ReLU()\n",
       "                )\n",
       "                (2): ResNetConvLayer(\n",
       "                  (convolution): Conv2d(512, 2048, kernel_size=(1, 1), stride=(1, 1), bias=False)\n",
       "                  (normalization): BatchNorm2d(2048, eps=1e-05, momentum=0.1, affine=True, track_running_stats=True)\n",
       "                  (activation): Identity()\n",
       "                )\n",
       "              )\n",
       "              (activation): ReLU()\n",
       "            )\n",
       "            (2): ResNetBottleNeckLayer(\n",
       "              (shortcut): Identity()\n",
       "              (layer): Sequential(\n",
       "                (0): ResNetConvLayer(\n",
       "                  (convolution): Conv2d(2048, 512, kernel_size=(1, 1), stride=(1, 1), bias=False)\n",
       "                  (normalization): BatchNorm2d(512, eps=1e-05, momentum=0.1, affine=True, track_running_stats=True)\n",
       "                  (activation): ReLU()\n",
       "                )\n",
       "                (1): ResNetConvLayer(\n",
       "                  (convolution): Conv2d(512, 512, kernel_size=(3, 3), stride=(1, 1), padding=(1, 1), bias=False)\n",
       "                  (normalization): BatchNorm2d(512, eps=1e-05, momentum=0.1, affine=True, track_running_stats=True)\n",
       "                  (activation): ReLU()\n",
       "                )\n",
       "                (2): ResNetConvLayer(\n",
       "                  (convolution): Conv2d(512, 2048, kernel_size=(1, 1), stride=(1, 1), bias=False)\n",
       "                  (normalization): BatchNorm2d(2048, eps=1e-05, momentum=0.1, affine=True, track_running_stats=True)\n",
       "                  (activation): Identity()\n",
       "                )\n",
       "              )\n",
       "              (activation): ReLU()\n",
       "            )\n",
       "          )\n",
       "        )\n",
       "      )\n",
       "    )\n",
       "    (pooler): AdaptiveAvgPool2d(output_size=(1, 1))\n",
       "  )\n",
       "  (classifier): Identity()\n",
       ")"
      ]
     },
     "execution_count": 24,
     "metadata": {},
     "output_type": "execute_result"
    }
   ],
   "source": [
    "from transformers import AutoModelForImageClassification\n",
    "import torch\n",
    "from PIL import Image\n",
    "from torchvision.transforms import Compose, Resize, ToTensor, Normalize\n",
    "\n",
    "RN_model = AutoModelForImageClassification.from_pretrained(\"microsoft/resnet-50\")\n",
    "RN_model.classifier = torch.nn.Identity()\n",
    "RN_model.eval()"
   ]
  },
  {
   "cell_type": "markdown",
   "metadata": {
    "id": "a4TTvJ2ZM681"
   },
   "source": [
    "## 3.2 ResNet features for Grid_id = 333519"
   ]
  },
  {
   "cell_type": "code",
   "execution_count": 25,
   "metadata": {
    "id": "RCGsmgnkL5r5"
   },
   "outputs": [],
   "source": [
    "RN_features333519 = []\n",
    "\n",
    "transform = Compose([\n",
    "    Resize((224, 224)),\n",
    "    ToTensor(),\n",
    "    Normalize(mean=[0.485, 0.456, 0.406],\n",
    "              std=[0.229, 0.224, 0.225]),])\n",
    "\n",
    "for img_np in images_rgb333519:\n",
    "    img_pil = Image.fromarray(img_np.astype('uint8'), 'RGB')\n",
    "    img_tensor = transform(img_pil)\n",
    "    inputs = img_tensor.unsqueeze(0)\n",
    "\n",
    "    with torch.no_grad():\n",
    "        output = RN_model(inputs)\n",
    "        features = output.last_hidden_state if hasattr(output, 'last_hidden_state') else output[0]\n",
    "\n",
    "    features_np = features.cpu().detach().numpy().reshape(-1)\n",
    "    RN_features333519.append(features_np)\n",
    "\n",
    "RN_features333519 = np.array(RN_features333519)"
   ]
  },
  {
   "cell_type": "code",
   "execution_count": 26,
   "metadata": {
    "colab": {
     "base_uri": "https://localhost:8080/"
    },
    "id": "nvV0quZBJBQw",
    "outputId": "d2befc2e-bb24-4d07-bebd-4c3476194c45"
   },
   "outputs": [
    {
     "name": "stdout",
     "output_type": "stream",
     "text": [
      "(872, 2048)\n"
     ]
    }
   ],
   "source": [
    "print(RN_features333519.shape)"
   ]
  },
  {
   "cell_type": "markdown",
   "metadata": {
    "id": "yc4mJTjBM4Ox"
   },
   "source": [
    "## 3.3 ResNet features for Grid_id = 333346"
   ]
  },
  {
   "cell_type": "code",
   "execution_count": 27,
   "metadata": {
    "id": "JYluFQ7FM3Mq"
   },
   "outputs": [],
   "source": [
    "RN_features333346 = []\n",
    "\n",
    "# RN_model = AutoModelForImageClassification.from_pretrained(\"microsoft/resnet-50\")\n",
    "# RN_model.classifier = torch.nn.Identity()\n",
    "# RN_model.eval()\n",
    "\n",
    "transform = Compose([\n",
    "    Resize((224, 224)),\n",
    "    ToTensor(),\n",
    "    Normalize(mean=[0.485, 0.456, 0.406],\n",
    "              std=[0.229, 0.224, 0.225]),])\n",
    "\n",
    "for img_np in images_rgb333346:\n",
    "    img_pil = Image.fromarray(img_np.astype('uint8'), 'RGB')\n",
    "    img_tensor = transform(img_pil)\n",
    "    inputs = img_tensor.unsqueeze(0)\n",
    "\n",
    "    with torch.no_grad():\n",
    "        output = RN_model(inputs)\n",
    "        features = output.last_hidden_state if hasattr(output, 'last_hidden_state') else output[0]\n",
    "\n",
    "    features_np = features.cpu().detach().numpy().reshape(-1)\n",
    "    RN_features333346.append(features_np)\n",
    "\n",
    "RN_features333346 = np.array(RN_features333346)"
   ]
  },
  {
   "cell_type": "code",
   "execution_count": 30,
   "metadata": {
    "colab": {
     "base_uri": "https://localhost:8080/"
    },
    "id": "7Na7B3dlM3My",
    "outputId": "c438cb53-fd74-4f73-eadd-ffafae46c67e"
   },
   "outputs": [
    {
     "name": "stdout",
     "output_type": "stream",
     "text": [
      "(861, 2048)\n"
     ]
    }
   ],
   "source": [
    "print(RN_features333346.shape)"
   ]
  },
  {
   "cell_type": "markdown",
   "metadata": {
    "id": "JVDqNfq7T-8g"
   },
   "source": [
    "## 3.3 Combine ResNet features into a single vector"
   ]
  },
  {
   "cell_type": "code",
   "execution_count": 31,
   "metadata": {
    "id": "9MDiyavcTd10"
   },
   "outputs": [],
   "source": [
    "comb_feats = np.concatenate([RN_features333346, RN_features333519], axis = 0)"
   ]
  },
  {
   "cell_type": "markdown",
   "metadata": {
    "id": "4z2gfC_irzCk"
   },
   "source": [
    "# 4 New Data (Data II)\n",
    "\n",
    "We now perform the same steps as in sections 1, 2 and 3 for the new data (data II). Some of the steps (like the binning) are streamlined a bit."
   ]
  },
  {
   "cell_type": "markdown",
   "metadata": {
    "id": "sm4wlFVESfOB"
   },
   "source": [
    "## 4.1 Binning & Preprocessing"
   ]
  },
  {
   "cell_type": "code",
   "execution_count": 32,
   "metadata": {
    "id": "JyAipQEjrzCk"
   },
   "outputs": [],
   "source": [
    "def binning(dataset, NR_OF_X_BINS=61, NR_OF_Y_BINS=51):\n",
    "\n",
    "    x_bins = np.linspace(0, dataset['click_x'].max(), NR_OF_X_BINS)\n",
    "    y_bins = np.linspace(0, dataset['click_y'].max(), NR_OF_Y_BINS)\n",
    "\n",
    "    max_width  = dataset['display_width'].max()\n",
    "    max_height = dataset['display_height'].max()\n",
    "\n",
    "    width_bins_max  = NR_OF_X_BINS-2 # start at 0\n",
    "    height_bins_max = NR_OF_Y_BINS-2\n",
    "\n",
    "    dataset['click_x_bin'] = np.digitize(dataset['click_x'], x_bins) - 1\n",
    "    dataset['click_y_bin'] = np.digitize(dataset['click_y'], y_bins) - 1\n",
    "\n",
    "    binned_data = dataset.groupby(['grid_id', 'domain', 'click_x_bin', 'click_y_bin'], as_index=False)['clicks'].sum()\n",
    "\n",
    "    dom_grids = dataset[['domain', 'grid_id']].drop_duplicates()\n",
    "\n",
    "    aux = pd.DataFrame(list(product(range(0,width_bins_max+1),\n",
    "                                    range(0,height_bins_max+1))),\n",
    "                      columns=['click_x_bin', 'click_y_bin'])\n",
    "\n",
    "    dom_grids['key'] = 1\n",
    "    aux['key'] = 1\n",
    "\n",
    "    expanded_set = pd.merge(dom_grids, aux, on='key').drop('key', axis=1)\n",
    "\n",
    "    db = pd.merge(expanded_set, binned_data,\n",
    "                      on = ['domain', 'grid_id', 'click_x_bin', 'click_y_bin'],\n",
    "                      how = 'left').fillna(0)\n",
    "    db.rename(columns = {'clicks':'clicks_sum'}, inplace=True)\n",
    "    db['clicks_sum'] = db['clicks_sum'].astype('int64')\n",
    "    return db"
   ]
  },
  {
   "cell_type": "code",
   "execution_count": 36,
   "metadata": {
    "id": "VfKJ-Vu-rzCl"
   },
   "outputs": [],
   "source": [
    "data_binned_6p = binning(data_heatmap_6p, NR_OF_X_BINS = 61, NR_OF_Y_BINS = 51)"
   ]
  },
  {
   "cell_type": "code",
   "execution_count": 37,
   "metadata": {
    "id": "353yAASSrzCl"
   },
   "outputs": [],
   "source": [
    "data_binned_6p['broken'] = 0\n",
    "data_binned_6p.loc[(data_binned_6p.grid_id == 333519) &\n",
    "            data_binned_6p.domain.isin(cb_333519_6p), 'broken'] = 1\n",
    "\n",
    "data_binned_6p.loc[(data_binned_6p.grid_id == 333346) &\n",
    "            data_binned_6p.domain.isin(cb_333346_6p), 'broken'] = 1"
   ]
  },
  {
   "cell_type": "markdown",
   "metadata": {
    "id": "6aoMzlsrSmhn"
   },
   "source": [
    "## 4.2 Preprocess with Upsampling\n",
    "\n",
    "This takes a long time! I suspect there are faster ways of implementing this."
   ]
  },
  {
   "cell_type": "code",
   "execution_count": 38,
   "metadata": {
    "id": "P_ALkItirzCl"
   },
   "outputs": [],
   "source": [
    "# STDEV = 1.5\n",
    "NR_OF_SAMPLES = 50000\n",
    "\n",
    "imgs_6p = []\n",
    "labs_6p = []\n",
    "\n",
    "total_clicks = data_binned_6p.groupby(['grid_id','domain'])['clicks_sum'].transform('sum')\n",
    "data_binned_6p['proba'] = data_binned_6p['clicks_sum'] / total_clicks\n",
    "\n",
    "for gid in data_binned_6p.grid_id.unique():\n",
    "    domains = data_binned_6p[data_binned_6p.grid_id==gid].domain.unique()\n",
    "    for domain in domains:\n",
    "        domain_df = data_binned_6p[(data_binned_6p.grid_id==gid) &\n",
    "                                   (data_binned_6p.domain == domain)]\n",
    "\n",
    "        domain_df_enh = enhance_data_with_noise(domain_df, 'proba', NR_OF_SAMPLES, STDEV)\n",
    "\n",
    "        matrix = domain_df_enh.pivot(index='click_y_bin',\n",
    "                                     columns='click_x_bin',\n",
    "                                     values='clicks_sum').fillna(0).to_numpy()\n",
    "\n",
    "        labs_6p.append(domain_df['broken'].max().astype(int))\n",
    "        imgs_6p.append(np.uint8(matrix * 255 / np.max(matrix)))\n",
    "\n",
    "imgs_6p = np.array(imgs_6p)\n",
    "labs_6p = np.array(labs_6p)\n"
   ]
  },
  {
   "cell_type": "markdown",
   "metadata": {
    "id": "IcCJ8n9TSvbT"
   },
   "source": [
    "Stack greyscale images:"
   ]
  },
  {
   "cell_type": "code",
   "execution_count": 39,
   "metadata": {
    "id": "FrvPpIMJNId8"
   },
   "outputs": [],
   "source": [
    "images_rgb_6p = np.stack([np.repeat(image[:, :, np.newaxis], 3, axis=2) for image in imgs_6p], axis=0)"
   ]
  },
  {
   "cell_type": "code",
   "execution_count": 40,
   "metadata": {
    "colab": {
     "base_uri": "https://localhost:8080/",
     "height": 406
    },
    "id": "cJYtgG8cM28W",
    "outputId": "a8dc9a81-2930-4feb-ca0d-3d1b2c60e13d"
   },
   "outputs": [
    {
     "data": {
      "image/png": "[encoded data removed]",
      "text/plain": [
       "<Figure size 640x480 with 1 Axes>"
      ]
     },
     "metadata": {},
     "output_type": "display_data"
    }
   ],
   "source": [
    "img_np  = images_rgb_6p[123]\n",
    "img_pil = Image.fromarray(img_np.astype('uint8'), 'RGB')\n",
    "plt.imshow(img_pil)\n",
    "plt.axis('off')\n",
    "plt.show()"
   ]
  },
  {
   "cell_type": "markdown",
   "metadata": {
    "id": "G7P6mWqe4r9N"
   },
   "source": [
    "## 4.3 Pretrained ViT for Data II\n",
    "\n",
    "Also quite slow (especially on CPU)"
   ]
  },
  {
   "cell_type": "code",
   "execution_count": 41,
   "metadata": {
    "id": "C18kfpnsqOVl"
   },
   "outputs": [],
   "source": [
    "ViT_model = model"
   ]
  },
  {
   "cell_type": "code",
   "execution_count": 42,
   "metadata": {
    "id": "TWlZaXTD4ssN"
   },
   "outputs": [],
   "source": [
    "hid_states_6p = []\n",
    "for img in images_rgb_6p:\n",
    "    feat_imgs = feature_extractor(images = img, return_tensors=\"pt\")\n",
    "    outputs = model(**feat_imgs)\n",
    "    last_hidden_states = outputs.last_hidden_state\n",
    "    hid_states_6p.append(last_hidden_states.detach().numpy().reshape(-1))"
   ]
  },
  {
   "cell_type": "code",
   "execution_count": 43,
   "metadata": {
    "id": "JN8RFfafmb4b"
   },
   "outputs": [],
   "source": [
    "ViT_6p = np.array(hid_states_6p)"
   ]
  },
  {
   "cell_type": "markdown",
   "metadata": {
    "id": "-q7uXyfC4mQL"
   },
   "source": [
    "## 4.4 Pretrained ResNet for Data II"
   ]
  },
  {
   "cell_type": "code",
   "execution_count": 44,
   "metadata": {
    "id": "8F3Zwaq34oGh"
   },
   "outputs": [],
   "source": [
    "transform = Compose([\n",
    "    Resize((224, 224)),\n",
    "    ToTensor(),\n",
    "    Normalize(mean=[0.485, 0.456, 0.406],\n",
    "              std=[0.229, 0.224, 0.225]),])\n",
    "\n",
    "RN_states_6p = []\n",
    "\n",
    "for img_np in images_rgb_6p:\n",
    "    img_pil = Image.fromarray(img_np.astype('uint8'), 'RGB')\n",
    "    img_tensor = transform(img_pil)\n",
    "    inputs = img_tensor.unsqueeze(0)\n",
    "\n",
    "    with torch.no_grad():\n",
    "        output = RN_model(inputs)\n",
    "        features = output.last_hidden_state if hasattr(output, 'last_hidden_state') else output[0]\n",
    "\n",
    "    features_np = features.cpu().detach().numpy().reshape(-1)\n",
    "    RN_states_6p.append(features_np)"
   ]
  },
  {
   "cell_type": "code",
   "execution_count": 45,
   "metadata": {
    "id": "6OD6CqVlmfNu"
   },
   "outputs": [],
   "source": [
    "RN_6p = np.array(RN_states_6p)"
   ]
  },
  {
   "cell_type": "markdown",
   "metadata": {
    "id": "9GmFPS9_FDUM"
   },
   "source": [
    "# 5 Some Bookkeeping (combining different features)"
   ]
  },
  {
   "cell_type": "code",
   "execution_count": 46,
   "metadata": {
    "id": "iQqphaX_Ycyu"
   },
   "outputs": [],
   "source": [
    "lab_comb  = np.concatenate([labels333519,labels333346])\n",
    "RN_comb   = np.concatenate([RN_features333519,RN_features333346])\n",
    "ViT_comb  = np.concatenate([hid_states333519,hid_states333346])\n",
    "images_rgb_comb = np.concatenate([images_rgb333519, images_rgb333346])"
   ]
  },
  {
   "cell_type": "markdown",
   "metadata": {
    "id": "pkQp-9vBAcGE"
   },
   "source": [
    "# 6 Train ResNet-50 on Cluster Count\n",
    "\n",
    "In this section, we set up the fine-tuning task of training the model to predict the number of clusters in synthetic heatmap-like data."
   ]
  },
  {
   "cell_type": "markdown",
   "metadata": {
    "id": "yPHuKdg7UQjV"
   },
   "source": [
    "## 6.1 Create Synthetic Cluster Count Heatmap Class\n",
    "\n",
    "Here we first create a simple class that generates example heatmaps with a random number of clusters (and noise) of random size."
   ]
  },
  {
   "cell_type": "code",
   "execution_count": 47,
   "metadata": {
    "id": "-srocgvkWoVt"
   },
   "outputs": [],
   "source": [
    "import torch\n",
    "from torch.utils.data import Dataset, DataLoader\n",
    "import torch.nn as nn\n",
    "import torch.optim as optim\n",
    "import numpy as np\n",
    "import pandas as pd\n",
    "from itertools import product\n",
    "from transformers import ResNetForImageClassification\n",
    "from transformers import AutoModelForImageClassification\n",
    "from torchvision.transforms import Resize\n",
    "\n",
    "\n",
    "class HeatmapDataset(Dataset):\n",
    "    def __init__(self,\n",
    "                 num_samples,\n",
    "                 max_clusters,\n",
    "                 max_points_per_cluster,\n",
    "                 nr_of_x_bins,\n",
    "                 nr_of_y_bins,\n",
    "                 max_noise,\n",
    "                 max_cov,\n",
    "                 transform = None):\n",
    "        self.num_samples = num_samples\n",
    "        self.max_clusters = max_clusters\n",
    "        self.max_points_per_cluster = max_points_per_cluster\n",
    "        self.nr_of_x_bins = nr_of_x_bins\n",
    "        self.nr_of_y_bins = nr_of_y_bins\n",
    "        self.max_noise = max_noise\n",
    "        self.max_cov = max_cov\n",
    "        if transform:\n",
    "            self.transform = Compose([\n",
    "                Resize((224, 224)),\n",
    "                ToTensor(),\n",
    "                Normalize(mean=[0.485, 0.456, 0.406],\n",
    "                          std=[0.229, 0.224, 0.225]),])\n",
    "        else:\n",
    "            self.transform = False\n",
    "\n",
    "    def __len__(self):\n",
    "        return self.num_samples\n",
    "\n",
    "    def __getitem__(self, idx):\n",
    "        image, label = self.generate_synthetic_heatmap()\n",
    "        image = np.repeat(image[:, :, np.newaxis], 3, axis=2)\n",
    "        if self.transform:\n",
    "            image = Image.fromarray(image.astype('uint8'), 'RGB')\n",
    "            image = self.transform(image)\n",
    "        return image, label\n",
    "\n",
    "    def generate_synthetic_heatmap(self):\n",
    "        x = np.array([]).reshape(0,2)\n",
    "        num_clusters = np.random.randint(self.max_clusters)\n",
    "\n",
    "        for _ in range(num_clusters):\n",
    "            points_per_cluster = np.random.randint(self.max_points_per_cluster)\n",
    "            center = (np.random.randint(0, self.nr_of_x_bins), np.random.randint(0, self.nr_of_y_bins))\n",
    "\n",
    "            cov_matrix = np.array([[np.random.rand() * self.max_cov, 0],\n",
    "                                   [0, np.random.rand() * self.max_cov]])\n",
    "\n",
    "            points = np.random.multivariate_normal(center, cov_matrix, points_per_cluster).round().astype(int)\n",
    "            x = np.concatenate([x , points])\n",
    "\n",
    "        # add noise\n",
    "        noise_level = (np.random.randint(self.max_noise))\n",
    "        noise = np.random.randint([0,0], high = [self.nr_of_x_bins+1,self.nr_of_y_bins+1], size = (noise_level,2))\n",
    "\n",
    "        x = np.concatenate([x , noise])\n",
    "        x = pd.DataFrame(data = x, columns = ['click_x_bin','click_y_bin'])\n",
    "\n",
    "        x.loc[x['click_x_bin'] < 0, 'click_x_bin'] = 0\n",
    "        x.loc[x['click_y_bin'] < 0, 'click_y_bin'] = 0\n",
    "        x.loc[x['click_x_bin'] > self.nr_of_x_bins, 'click_x_bin'] = self.nr_of_x_bins\n",
    "        x.loc[x['click_y_bin'] > self.nr_of_y_bins, 'click_y_bin'] = self.nr_of_y_bins\n",
    "\n",
    "        x = x.groupby(['click_x_bin','click_y_bin']).size().reset_index(name = 'clicks_sum')\n",
    "\n",
    "        tt = pd.DataFrame(list(product(range(0,self.nr_of_x_bins+1), range(0,self.nr_of_y_bins+1))),\n",
    "                          columns=['click_x_bin', 'click_y_bin'])\n",
    "\n",
    "        data_obs_merged = tt.merge(x, on = ['click_x_bin','click_y_bin'], how = 'left').fillna(0)\n",
    "\n",
    "        matrix = data_obs_merged.pivot(index='click_y_bin',\n",
    "                                      columns='click_x_bin',\n",
    "                                      values='clicks_sum').fillna(0).to_numpy()\n",
    "\n",
    "        image = np.uint8(matrix * 255 / np.max(matrix))\n",
    "\n",
    "        label = num_clusters\n",
    "        return image, label"
   ]
  },
  {
   "cell_type": "markdown",
   "metadata": {
    "id": "kEi_UPXRUos7"
   },
   "source": [
    "Let us look at a couple of examples generated from this synthetic class:"
   ]
  },
  {
   "cell_type": "code",
   "execution_count": 48,
   "metadata": {
    "colab": {
     "base_uri": "https://localhost:8080/",
     "height": 887
    },
    "id": "y8qA6j5QYbd2",
    "outputId": "0099fb09-d442-4b84-adfa-6672f7d07520"
   },
   "outputs": [
    {
     "data": {
      "image/png": "[encoded data removed]",
      "text/plain": [
       "<Figure size 640x480 with 1 Axes>"
      ]
     },
     "metadata": {},
     "output_type": "display_data"
    },
    {
     "data": {
      "image/png": "[encoded data removed]",
      "text/plain": [
       "<Figure size 640x480 with 1 Axes>"
      ]
     },
     "metadata": {},
     "output_type": "display_data"
    }
   ],
   "source": [
    "num_samples = 10000\n",
    "max_clusters = 20\n",
    "max_points_per_cluster = 1000\n",
    "NR_OF_X_BINS = 61\n",
    "NR_OF_Y_BINS = 51\n",
    "max_noise = 10000\n",
    "max_cov = 20\n",
    "\n",
    "dataset = HeatmapDataset(num_samples, max_clusters, max_points_per_cluster, NR_OF_X_BINS, NR_OF_Y_BINS, max_noise, max_cov, transform = False)\n",
    "\n",
    "image, label = dataset[0]\n",
    "\n",
    "plt.imshow(image.squeeze())\n",
    "plt.title(f'Number of Clusters: {label}')\n",
    "plt.show()\n",
    "\n",
    "image, label = dataset[1]\n",
    "\n",
    "plt.imshow(image.squeeze())\n",
    "plt.title(f'Number of Clusters: {label}')\n",
    "plt.show()"
   ]
  },
  {
   "cell_type": "markdown",
   "metadata": {
    "id": "dHUlT2odqwTs"
   },
   "source": [
    "## 6.2 Training the Model\n",
    "\n",
    "In this section, we train the model on the synthetic data and task of identifying the number of classes in the heatmap."
   ]
  },
  {
   "cell_type": "code",
   "execution_count": 49,
   "metadata": {
    "colab": {
     "base_uri": "https://localhost:8080/",
     "height": 245
    },
    "id": "GFhNwkp9VVcS",
    "outputId": "174c3486-0c18-457c-b567-67258eb96291"
   },
   "outputs": [
    {
     "name": "stdout",
     "output_type": "stream",
     "text": [
      "Epoch [1/100], Loss: 2.8932579308748245\n",
      "Epoch [1/100], Validation Loss: 2.8406109469277516, Validation Accuracy: 0.105\n"
     ]
    },
    {
     "ename": "KeyboardInterrupt",
     "evalue": "",
     "output_type": "error",
     "traceback": [
      "\u001b[0;31m---------------------------------------------------------------------------\u001b[0m",
      "\u001b[0;31mKeyboardInterrupt\u001b[0m                         Traceback (most recent call last)",
      "\u001b[0;32m<ipython-input-49-7fa344c369f5>\u001b[0m in \u001b[0;36m<cell line: 38>\u001b[0;34m()\u001b[0m\n\u001b[1;32m     50\u001b[0m         \u001b[0moptimizer\u001b[0m\u001b[0;34m.\u001b[0m\u001b[0mstep\u001b[0m\u001b[0;34m(\u001b[0m\u001b[0;34m)\u001b[0m\u001b[0;34m\u001b[0m\u001b[0;34m\u001b[0m\u001b[0m\n\u001b[1;32m     51\u001b[0m \u001b[0;34m\u001b[0m\u001b[0m\n\u001b[0;32m---> 52\u001b[0;31m         \u001b[0mtotal_loss\u001b[0m \u001b[0;34m+=\u001b[0m \u001b[0mloss\u001b[0m\u001b[0;34m.\u001b[0m\u001b[0mitem\u001b[0m\u001b[0;34m(\u001b[0m\u001b[0;34m)\u001b[0m\u001b[0;34m\u001b[0m\u001b[0;34m\u001b[0m\u001b[0m\n\u001b[0m\u001b[1;32m     53\u001b[0m \u001b[0;34m\u001b[0m\u001b[0m\n\u001b[1;32m     54\u001b[0m     \u001b[0mprint\u001b[0m\u001b[0;34m(\u001b[0m\u001b[0;34mf'Epoch [{epoch+1}/{num_epochs}], Loss: {total_loss/len(train_loader)}'\u001b[0m\u001b[0;34m)\u001b[0m\u001b[0;34m\u001b[0m\u001b[0;34m\u001b[0m\u001b[0m\n",
      "\u001b[0;31mKeyboardInterrupt\u001b[0m: "
     ]
    }
   ],
   "source": [
    "num_samples = 1000\n",
    "max_clusters = 20\n",
    "max_points_per_cluster = 2000\n",
    "NR_OF_X_BINS = 61\n",
    "NR_OF_Y_BINS = 51\n",
    "max_noise = 10000\n",
    "max_cov = 30\n",
    "\n",
    "# load the model\n",
    "model = ResNetForImageClassification.from_pretrained(\"microsoft/resnet-50\")\n",
    "\n",
    "# select the number of classes to be predicted:\n",
    "num_classes = max_clusters\n",
    "\n",
    "# attach classification head:\n",
    "model.classifier[1] = nn.Linear(in_features=model.classifier[1].in_features, out_features=num_classes)\n",
    "\n",
    "device = torch.device(\"cuda\" if torch.cuda.is_available() else \"cpu\")\n",
    "model = model.to(device)\n",
    "\n",
    "# Training Data loader\n",
    "heatmap_dataset = HeatmapDataset(num_samples, max_clusters, max_points_per_cluster,\n",
    "                                 NR_OF_X_BINS, NR_OF_Y_BINS, max_noise, max_cov, transform = True)\n",
    "\n",
    "train_loader = DataLoader(heatmap_dataset, batch_size = 32, shuffle=True)\n",
    "\n",
    "# Validation Data loader\n",
    "num_validation_samples = 200\n",
    "validation_dataset = HeatmapDataset(num_validation_samples, max_clusters, max_points_per_cluster,\n",
    "                                    NR_OF_X_BINS, NR_OF_Y_BINS, max_noise, max_cov, transform=True)\n",
    "validation_loader = DataLoader(validation_dataset, batch_size=32, shuffle=False)\n",
    "\n",
    "# Loss:\n",
    "criterion = nn.CrossEntropyLoss()\n",
    "optimizer = optim.Adam(model.parameters(), lr=1e-3)\n",
    "\n",
    "num_epochs = 100\n",
    "for epoch in range(num_epochs):\n",
    "    model.train()\n",
    "    total_loss = 0\n",
    "\n",
    "    for images, labels in train_loader:\n",
    "        images, labels = images.to(device), labels.to(device)\n",
    "\n",
    "        outputs = model(images).logits\n",
    "        loss = criterion(outputs, labels)\n",
    "\n",
    "        optimizer.zero_grad()\n",
    "        loss.backward()\n",
    "        optimizer.step()\n",
    "\n",
    "        total_loss += loss.item()\n",
    "\n",
    "    print(f'Epoch [{epoch+1}/{num_epochs}], Loss: {total_loss/len(train_loader)}')\n",
    "\n",
    "    model.eval()\n",
    "    total_val_loss = 0\n",
    "    correct = 0\n",
    "    total = 0\n",
    "\n",
    "    with torch.no_grad():\n",
    "        for images, labels in validation_loader:\n",
    "            images, labels = images.to(device), labels.to(device)\n",
    "            outputs = model(images).logits\n",
    "            val_loss = criterion(outputs, labels)\n",
    "\n",
    "            total_val_loss += val_loss.item()\n",
    "\n",
    "            _, predicted = torch.max(outputs.data, 1)\n",
    "            total += labels.size(0)\n",
    "            correct += (predicted == labels).sum().item()\n",
    "\n",
    "    val_accuracy = correct / total\n",
    "    print(f'Epoch [{epoch+1}/{num_epochs}], Validation Loss: {total_val_loss/len(validation_loader)}, Validation Accuracy: {val_accuracy}')"
   ]
  },
  {
   "cell_type": "markdown",
   "metadata": {
    "id": "QzMhUSNwVtjx"
   },
   "source": [
    "We can save the model:"
   ]
  },
  {
   "cell_type": "code",
   "execution_count": null,
   "metadata": {
    "id": "9fzM_92GdsNP"
   },
   "outputs": [],
   "source": [
    "torch.save(model, 'drive/MyDrive/fine_tuned_RESENET_3.pth')"
   ]
  },
  {
   "cell_type": "markdown",
   "metadata": {
    "id": "IjyQ22QYds6N"
   },
   "source": [
    "Load the model:"
   ]
  },
  {
   "cell_type": "code",
   "execution_count": 50,
   "metadata": {
    "id": "fjtybZv_sodJ"
   },
   "outputs": [],
   "source": [
    "# load:\n",
    "model_count = torch.load('drive/MyDrive/fine_tuned_RESENET_3.pth')"
   ]
  },
  {
   "cell_type": "markdown",
   "metadata": {
    "id": "3bDZ7mwoq3RJ"
   },
   "source": [
    "## 6.3 Create feature vectors\n",
    "\n",
    "Given the fine-tuned model, we can create the respective feature vectors arising from applying it on the \"real\" data."
   ]
  },
  {
   "cell_type": "code",
   "execution_count": 51,
   "metadata": {
    "id": "KUzsE3uTxLPy"
   },
   "outputs": [],
   "source": [
    "model_count = torch.load('drive/MyDrive/fine_tuned_RESENET_3.pth')\n",
    "model1 = model_count\n",
    "device = torch.device(\"cuda\" if torch.cuda.is_available() else \"cpu\")"
   ]
  },
  {
   "cell_type": "markdown",
   "metadata": {
    "id": "ad-5yx-6WG72"
   },
   "source": [
    "### 6.3.1 Data I"
   ]
  },
  {
   "cell_type": "markdown",
   "metadata": {
    "id": "i6SpK8opWTJB"
   },
   "source": [
    "We start with grid_id = 333519"
   ]
  },
  {
   "cell_type": "code",
   "execution_count": 52,
   "metadata": {
    "id": "HLdD7ZPpoqq7"
   },
   "outputs": [],
   "source": [
    "RN_features333519_new = []\n",
    "\n",
    "model1.classifier = torch.nn.Identity()\n",
    "model1.eval()\n",
    "\n",
    "transform = Compose([\n",
    "    Resize((224, 224)),\n",
    "    ToTensor(),\n",
    "    Normalize(mean=[0.485, 0.456, 0.406],\n",
    "              std=[0.229, 0.224, 0.225]),])\n",
    "\n",
    "for img_np in images_rgb333519:\n",
    "    img_pil = Image.fromarray(img_np.astype('uint8'), 'RGB')\n",
    "    img_tensor = transform(img_pil)\n",
    "    inputs = img_tensor.unsqueeze(0)\n",
    "\n",
    "    with torch.no_grad():\n",
    "        output = model1(inputs.to(device))\n",
    "        features = output.last_hidden_state if hasattr(output, 'last_hidden_state') else output[0]\n",
    "\n",
    "    features_np = features.cpu().detach().numpy().reshape(-1)\n",
    "    RN_features333519_new.append(features_np)"
   ]
  },
  {
   "cell_type": "markdown",
   "metadata": {
    "id": "G1Ri6dApWYQg"
   },
   "source": [
    "Now, lets do start with grid_id = 333346"
   ]
  },
  {
   "cell_type": "code",
   "execution_count": 53,
   "metadata": {
    "id": "oX1HDBPa-UDs"
   },
   "outputs": [],
   "source": [
    "RN_features333346_new = []\n",
    "\n",
    "for img_np in images_rgb333346:\n",
    "    img_pil = Image.fromarray(img_np.astype('uint8'), 'RGB')\n",
    "    img_tensor = transform(img_pil)\n",
    "    inputs = img_tensor.unsqueeze(0)\n",
    "\n",
    "    with torch.no_grad():\n",
    "        output = model1(inputs.to(device))\n",
    "        features = output.last_hidden_state if hasattr(output, 'last_hidden_state') else output[0]\n",
    "\n",
    "    features_np = features.cpu().detach().numpy().reshape(-1)\n",
    "    RN_features333346_new.append(features_np)"
   ]
  },
  {
   "cell_type": "code",
   "execution_count": 54,
   "metadata": {
    "id": "3-FvPyiAue8q"
   },
   "outputs": [],
   "source": [
    "RN_features333519_new = np.array(RN_features333519_new)\n",
    "RN_features333346_new = np.array(RN_features333346_new)\n",
    "RN_comb_new   = np.concatenate([RN_features333519_new,RN_features333346_new])"
   ]
  },
  {
   "cell_type": "markdown",
   "metadata": {
    "id": "1XwUkmSmWhWq"
   },
   "source": [
    "### 6.3.2 Visualize PCA for new features"
   ]
  },
  {
   "cell_type": "code",
   "execution_count": 55,
   "metadata": {
    "colab": {
     "base_uri": "https://localhost:8080/",
     "height": 581
    },
    "id": "TGRqsZgf-vnk",
    "outputId": "1c4ac564-a57e-4a9f-c276-e7d3832e4f5c"
   },
   "outputs": [
    {
     "data": {
      "text/plain": [
       "<matplotlib.colorbar.Colorbar at 0x7f95d877aad0>"
      ]
     },
     "execution_count": 55,
     "metadata": {},
     "output_type": "execute_result"
    },
    {
     "data": {
      "image/png": "[encoded data removed]",
      "text/plain": [
       "<Figure size 1000x600 with 2 Axes>"
      ]
     },
     "metadata": {},
     "output_type": "display_data"
    }
   ],
   "source": [
    "n_components = 10\n",
    "\n",
    "# Instantiate the PCA model\n",
    "# pca = PCA(n_components=n_components)\n",
    "\n",
    "pipeline = Pipeline([('scaling', StandardScaler()), ('pca', PCA(n_components=n_components))])\n",
    "\n",
    "# Fit and transform the data\n",
    "RNpca_result333346_new = pipeline.fit_transform(RN_features333346_new)\n",
    "\n",
    "plt.figure(figsize=(10, 6))\n",
    "plt.scatter(RNpca_result333346_new[:,0],\n",
    "            RNpca_result333346_new[:,1],\n",
    "            c=labels333346,\n",
    "            cmap='viridis',\n",
    "            alpha=0.5,\n",
    "            s = 10)\n",
    "plt.title('ResNet PCA Scatterplot for grid 333346')\n",
    "plt.xlabel('Principal Component 1 (PC1)')\n",
    "plt.ylabel('Principal Component 2 (PC2)')\n",
    "plt.colorbar(label='Index')"
   ]
  },
  {
   "cell_type": "markdown",
   "metadata": {
    "id": "2yq4M1FsshBf"
   },
   "source": [
    "### 6.3.2 Data II"
   ]
  },
  {
   "cell_type": "code",
   "execution_count": 56,
   "metadata": {
    "id": "8fcVN3yDsgmV"
   },
   "outputs": [],
   "source": [
    "RN_6p_cnt = []\n",
    "\n",
    "for img_np in images_rgb_6p:\n",
    "    img_pil = Image.fromarray(img_np.astype('uint8'), 'RGB')\n",
    "    img_tensor = transform(img_pil)\n",
    "    inputs = img_tensor.unsqueeze(0)\n",
    "\n",
    "    with torch.no_grad():\n",
    "        output = model1(inputs.to(device))\n",
    "        features = output.last_hidden_state if hasattr(output, 'last_hidden_state') else output[0]\n",
    "\n",
    "    features_np = features.cpu().detach().numpy().reshape(-1)\n",
    "    RN_6p_cnt.append(features_np)"
   ]
  },
  {
   "cell_type": "code",
   "execution_count": 57,
   "metadata": {
    "id": "UKYXQQ6bs7vX"
   },
   "outputs": [],
   "source": [
    "RN_6p_cnt = np.array(RN_6p_cnt)"
   ]
  },
  {
   "cell_type": "markdown",
   "metadata": {
    "id": "ERh7YHEz7IKe"
   },
   "source": [
    "# 7 Train ResNet on Cluster Location"
   ]
  },
  {
   "cell_type": "markdown",
   "metadata": {
    "id": "fwB_dR0_s_Y4"
   },
   "source": [
    "## 7.1 Create synthetic data:\n",
    "\n",
    "This is the loc2 version. The \"older\" version in the report is similar but does not contain any restrictions as to where the clusters can be --> they can be overlapping (which is somewhat unnatural)."
   ]
  },
  {
   "cell_type": "code",
   "execution_count": 58,
   "metadata": {
    "id": "XlACvgHiIzu4"
   },
   "outputs": [],
   "source": [
    "import torch\n",
    "from torch.utils.data import Dataset, DataLoader\n",
    "import torch.nn as nn\n",
    "import torch.optim as optim\n",
    "import numpy as np\n",
    "import pandas as pd\n",
    "from itertools import product\n",
    "from transformers import ResNetForImageClassification\n",
    "from transformers import AutoModelForImageClassification\n",
    "from torchvision.transforms import Resize\n",
    "\n",
    "import torch\n",
    "import torch.nn as nn\n",
    "from torch.utils.data import Dataset, DataLoader\n",
    "import numpy as np\n",
    "from torchvision.transforms import Resize, Compose, ToTensor, Normalize\n",
    "from PIL import Image\n",
    "\n",
    "def chamfer_distance(set1, set2):\n",
    "    set1_expanded = set1.unsqueeze(2)\n",
    "    set2_expanded = set2.unsqueeze(1)\n",
    "    distances = torch.sum((set1_expanded - set2_expanded) ** 2, dim=-1)\n",
    "    min_distances_set1 = distances.min(dim=2)[0]\n",
    "    min_distances_set2 = distances.min(dim=1)[0]\n",
    "    return (min_distances_set1.mean(dim=1) + min_distances_set2.mean(dim=1)).mean()\n",
    "\n",
    "\n",
    "class HeatmapDataset(Dataset):\n",
    "    def __init__(self, num_samples, max_clusters, max_points_per_cluster,\n",
    "                 min_points_per_cluster, nr_of_x_bins, nr_of_y_bins, max_noise, min_noise, max_cov, transform=None):\n",
    "        self.num_samples = num_samples\n",
    "        self.max_clusters = max_clusters\n",
    "        self.max_points_per_cluster = max_points_per_cluster\n",
    "        self.min_points_per_cluster = min_points_per_cluster\n",
    "        self.nr_of_x_bins = nr_of_x_bins\n",
    "        self.nr_of_y_bins = nr_of_y_bins\n",
    "        self.min_noise = min_noise\n",
    "        self.max_noise = max_noise\n",
    "        self.max_cov = max_cov\n",
    "        if transform:\n",
    "            self.transform = Compose([\n",
    "                Resize((224, 224)),\n",
    "                ToTensor(),\n",
    "                Normalize(mean=[0.485, 0.456, 0.406],\n",
    "                          std=[0.229, 0.224, 0.225]),\n",
    "            ])\n",
    "        else:\n",
    "            self.transform = None\n",
    "\n",
    "    def __len__(self):\n",
    "        return self.num_samples\n",
    "\n",
    "    def __getitem__(self, idx):\n",
    "        image, centers = self.generate_synthetic_heatmap()\n",
    "        image = np.repeat(image[:, :, np.newaxis], 3, axis=2)\n",
    "        if self.transform:\n",
    "            image = Image.fromarray(image.astype('uint8'), 'RGB')\n",
    "            image = self.transform(image)\n",
    "\n",
    "        padded_centers = np.full((self.max_clusters, 2), -1)\n",
    "        padded_centers[:len(centers)] = centers\n",
    "\n",
    "        return image, padded_centers.flatten()\n",
    "\n",
    "    def generate_synthetic_heatmap(self):\n",
    "        x = np.array([]).reshape(0, 2)\n",
    "        num_clusters = np.random.randint(1, self.max_clusters + 1)\n",
    "\n",
    "        centers = []\n",
    "        excluded_regions = []\n",
    "        for _ in range(num_clusters):\n",
    "            points_per_cluster = np.random.randint(self.min_points_per_cluster,\n",
    "                                                   self.max_points_per_cluster + 1)\n",
    "\n",
    "            ii = 0\n",
    "\n",
    "            # it is possible that we iterate too many times when there is only a small available region left\n",
    "            # we include a cutoff here:\n",
    "            while ii<100:\n",
    "                ii+=1\n",
    "                center = (np.random.randint(0, self.nr_of_x_bins), np.random.randint(0, self.nr_of_y_bins))\n",
    "\n",
    "                cent_x, cent_y = center\n",
    "                tot = 0\n",
    "                for old_center, old_stdev in excluded_regions:\n",
    "\n",
    "                    xc, yc = old_center\n",
    "                    xd, yd = old_stdev\n",
    "\n",
    "                    if xc-xd <= cent_x <= xc+xd and yc-yd <= cent_y <= yc+yd:\n",
    "                        break\n",
    "                    else:\n",
    "                        tot += 1\n",
    "                if tot == len(excluded_regions):\n",
    "                    break\n",
    "\n",
    "            centers.append(center)\n",
    "            cov_matrix = np.array([[np.random.rand() * self.max_cov, 0],\n",
    "                                   [0, np.random.rand() * self.max_cov]])\n",
    "\n",
    "            excluded_regions.append([center,(2*cov_matrix[0,0],2*cov_matrix[1,1])])\n",
    "            points = np.random.multivariate_normal(center, cov_matrix, points_per_cluster).round().astype(int)\n",
    "            x = np.concatenate([x, points])\n",
    "\n",
    "        # Add noise\n",
    "        noise_level = np.random.randint(self.min_noise, self.max_noise)\n",
    "        noise = np.random.randint(0, high=[self.nr_of_x_bins, self.nr_of_y_bins], size=(noise_level, 2))\n",
    "\n",
    "        x = np.concatenate([x , noise])\n",
    "\n",
    "        x = pd.DataFrame(data = x, columns = ['click_x_bin','click_y_bin'])\n",
    "\n",
    "        x.loc[x['click_x_bin'] < 0, 'click_x_bin'] = 0\n",
    "        x.loc[x['click_y_bin'] < 0, 'click_y_bin'] = 0\n",
    "        x.loc[x['click_x_bin'] > self.nr_of_x_bins, 'click_x_bin'] = self.nr_of_x_bins\n",
    "        x.loc[x['click_y_bin'] > self.nr_of_y_bins, 'click_y_bin'] = self.nr_of_y_bins\n",
    "\n",
    "        x = x.groupby(['click_x_bin','click_y_bin']).size().reset_index(name = 'clicks_sum')\n",
    "\n",
    "        tt = pd.DataFrame(list(product(range(0,self.nr_of_x_bins+1), range(0,self.nr_of_y_bins+1))),\n",
    "                          columns=['click_x_bin', 'click_y_bin'])\n",
    "\n",
    "        data_obs_merged = tt.merge(x, on = ['click_x_bin','click_y_bin'], how = 'left').fillna(0)\n",
    "\n",
    "        matrix = data_obs_merged.pivot(index='click_y_bin',\n",
    "                                      columns='click_x_bin',\n",
    "                                      values='clicks_sum').fillna(0).to_numpy()\n",
    "\n",
    "        image = np.uint8(matrix * 255 / np.max(matrix))\n",
    "\n",
    "        return image, centers\n",
    "\n",
    "# Constants\n",
    "num_samples = 1000\n",
    "max_clusters = 10\n",
    "max_points_per_cluster = 1000\n",
    "min_points_per_cluster = 100\n",
    "NR_OF_X_BINS = 61\n",
    "NR_OF_Y_BINS = 51\n",
    "max_noise = 20000\n",
    "min_noise = 1000\n",
    "max_cov = 10"
   ]
  },
  {
   "cell_type": "markdown",
   "metadata": {
    "id": "l56TkBhVXd3p"
   },
   "source": [
    "Let's plot a couple of examples:\n",
    "\n",
    "One could potentially play a bit more with the parameters in the heatmap generation to get smth closer to the actual data?"
   ]
  },
  {
   "cell_type": "code",
   "execution_count": 59,
   "metadata": {
    "colab": {
     "base_uri": "https://localhost:8080/",
     "height": 1000
    },
    "id": "cs0u2X1gMvg3",
    "outputId": "a128af81-8f72-456b-d28a-a345e4684852"
   },
   "outputs": [
    {
     "data": {
      "image/png": "[encoded data removed]",
      "text/plain": [
       "<Figure size 640x480 with 1 Axes>"
      ]
     },
     "metadata": {},
     "output_type": "display_data"
    },
    {
     "data": {
      "image/png": "[encoded data removed]",
      "text/plain": [
       "<Figure size 640x480 with 1 Axes>"
      ]
     },
     "metadata": {},
     "output_type": "display_data"
    },
    {
     "data": {
      "image/png": "[encoded data removed]",
      "text/plain": [
       "<Figure size 640x480 with 1 Axes>"
      ]
     },
     "metadata": {},
     "output_type": "display_data"
    }
   ],
   "source": [
    "dataset = HeatmapDataset(num_samples, max_clusters, max_points_per_cluster, min_points_per_cluster,\n",
    "                                 NR_OF_X_BINS, NR_OF_Y_BINS, max_noise, min_noise, max_cov, transform=True)\n",
    "\n",
    "image, label = dataset[0]\n",
    "\n",
    "plt.imshow(image[1,:,:].squeeze())\n",
    "plt.title(f'Number of Clusters: {label}')\n",
    "plt.show()\n",
    "\n",
    "image, label = dataset[1]\n",
    "\n",
    "plt.imshow(image[1,:,:].squeeze())\n",
    "plt.title(f'Number of Clusters: {label}')\n",
    "plt.show()\n",
    "\n",
    "image, label = dataset[2]\n",
    "\n",
    "plt.imshow(image[1,:,:].squeeze())\n",
    "plt.title(f'Number of Clusters: {label}')\n",
    "plt.show()"
   ]
  },
  {
   "cell_type": "markdown",
   "metadata": {
    "id": "i64NNHBsfBmB"
   },
   "source": [
    "## 7.2 Training the Model"
   ]
  },
  {
   "cell_type": "code",
   "execution_count": 60,
   "metadata": {
    "colab": {
     "base_uri": "https://localhost:8080/",
     "height": 460
    },
    "id": "xuUpD1_V7KDq",
    "outputId": "5fdb050b-1919-4606-b4bd-27bb0c3eea46"
   },
   "outputs": [
    {
     "name": "stdout",
     "output_type": "stream",
     "text": [
      "Epoch [1/50], Loss: 1136.6562271118164\n",
      "Epoch [1/50], Validation Loss: 1152.936939239502\n",
      "Epoch [2/50], Loss: 1077.6555461883545\n",
      "Epoch [2/50], Validation Loss: 1103.0374336242676\n"
     ]
    },
    {
     "ename": "KeyboardInterrupt",
     "evalue": "",
     "output_type": "error",
     "traceback": [
      "\u001b[0;31m---------------------------------------------------------------------------\u001b[0m",
      "\u001b[0;31mKeyboardInterrupt\u001b[0m                         Traceback (most recent call last)",
      "\u001b[0;32m<ipython-input-60-8f708658491b>\u001b[0m in \u001b[0;36m<cell line: 28>\u001b[0;34m()\u001b[0m\n\u001b[1;32m     30\u001b[0m     \u001b[0mtotal_loss\u001b[0m \u001b[0;34m=\u001b[0m \u001b[0;36m0\u001b[0m\u001b[0;34m\u001b[0m\u001b[0;34m\u001b[0m\u001b[0m\n\u001b[1;32m     31\u001b[0m \u001b[0;34m\u001b[0m\u001b[0m\n\u001b[0;32m---> 32\u001b[0;31m     \u001b[0;32mfor\u001b[0m \u001b[0mimages\u001b[0m\u001b[0;34m,\u001b[0m \u001b[0mcenters\u001b[0m \u001b[0;32min\u001b[0m \u001b[0mtrain_loader\u001b[0m\u001b[0;34m:\u001b[0m\u001b[0;34m\u001b[0m\u001b[0;34m\u001b[0m\u001b[0m\n\u001b[0m\u001b[1;32m     33\u001b[0m         \u001b[0mimages\u001b[0m \u001b[0;34m=\u001b[0m \u001b[0mimages\u001b[0m\u001b[0;34m.\u001b[0m\u001b[0mto\u001b[0m\u001b[0;34m(\u001b[0m\u001b[0mdevice\u001b[0m\u001b[0;34m)\u001b[0m\u001b[0;34m\u001b[0m\u001b[0;34m\u001b[0m\u001b[0m\n\u001b[1;32m     34\u001b[0m         \u001b[0mcenters\u001b[0m \u001b[0;34m=\u001b[0m \u001b[0mcenters\u001b[0m\u001b[0;34m.\u001b[0m\u001b[0mto\u001b[0m\u001b[0;34m(\u001b[0m\u001b[0mdevice\u001b[0m\u001b[0;34m)\u001b[0m  \u001b[0;31m# Centers are already flattened when loaded\u001b[0m\u001b[0;34m\u001b[0m\u001b[0;34m\u001b[0m\u001b[0m\n",
      "\u001b[0;32m/usr/local/lib/python3.10/dist-packages/torch/utils/data/dataloader.py\u001b[0m in \u001b[0;36m__next__\u001b[0;34m(self)\u001b[0m\n\u001b[1;32m    629\u001b[0m                 \u001b[0;31m# TODO(https://github.com/pytorch/pytorch/issues/76750)\u001b[0m\u001b[0;34m\u001b[0m\u001b[0;34m\u001b[0m\u001b[0m\n\u001b[1;32m    630\u001b[0m                 \u001b[0mself\u001b[0m\u001b[0;34m.\u001b[0m\u001b[0m_reset\u001b[0m\u001b[0;34m(\u001b[0m\u001b[0;34m)\u001b[0m  \u001b[0;31m# type: ignore[call-arg]\u001b[0m\u001b[0;34m\u001b[0m\u001b[0;34m\u001b[0m\u001b[0m\n\u001b[0;32m--> 631\u001b[0;31m             \u001b[0mdata\u001b[0m \u001b[0;34m=\u001b[0m \u001b[0mself\u001b[0m\u001b[0;34m.\u001b[0m\u001b[0m_next_data\u001b[0m\u001b[0;34m(\u001b[0m\u001b[0;34m)\u001b[0m\u001b[0;34m\u001b[0m\u001b[0;34m\u001b[0m\u001b[0m\n\u001b[0m\u001b[1;32m    632\u001b[0m             \u001b[0mself\u001b[0m\u001b[0;34m.\u001b[0m\u001b[0m_num_yielded\u001b[0m \u001b[0;34m+=\u001b[0m \u001b[0;36m1\u001b[0m\u001b[0;34m\u001b[0m\u001b[0;34m\u001b[0m\u001b[0m\n\u001b[1;32m    633\u001b[0m             \u001b[0;32mif\u001b[0m \u001b[0mself\u001b[0m\u001b[0;34m.\u001b[0m\u001b[0m_dataset_kind\u001b[0m \u001b[0;34m==\u001b[0m \u001b[0m_DatasetKind\u001b[0m\u001b[0;34m.\u001b[0m\u001b[0mIterable\u001b[0m \u001b[0;32mand\u001b[0m\u001b[0;31m \u001b[0m\u001b[0;31m\\\u001b[0m\u001b[0;34m\u001b[0m\u001b[0;34m\u001b[0m\u001b[0m\n",
      "\u001b[0;32m/usr/local/lib/python3.10/dist-packages/torch/utils/data/dataloader.py\u001b[0m in \u001b[0;36m_next_data\u001b[0;34m(self)\u001b[0m\n\u001b[1;32m    673\u001b[0m     \u001b[0;32mdef\u001b[0m \u001b[0m_next_data\u001b[0m\u001b[0;34m(\u001b[0m\u001b[0mself\u001b[0m\u001b[0;34m)\u001b[0m\u001b[0;34m:\u001b[0m\u001b[0;34m\u001b[0m\u001b[0;34m\u001b[0m\u001b[0m\n\u001b[1;32m    674\u001b[0m         \u001b[0mindex\u001b[0m \u001b[0;34m=\u001b[0m \u001b[0mself\u001b[0m\u001b[0;34m.\u001b[0m\u001b[0m_next_index\u001b[0m\u001b[0;34m(\u001b[0m\u001b[0;34m)\u001b[0m  \u001b[0;31m# may raise StopIteration\u001b[0m\u001b[0;34m\u001b[0m\u001b[0;34m\u001b[0m\u001b[0m\n\u001b[0;32m--> 675\u001b[0;31m         \u001b[0mdata\u001b[0m \u001b[0;34m=\u001b[0m \u001b[0mself\u001b[0m\u001b[0;34m.\u001b[0m\u001b[0m_dataset_fetcher\u001b[0m\u001b[0;34m.\u001b[0m\u001b[0mfetch\u001b[0m\u001b[0;34m(\u001b[0m\u001b[0mindex\u001b[0m\u001b[0;34m)\u001b[0m  \u001b[0;31m# may raise StopIteration\u001b[0m\u001b[0;34m\u001b[0m\u001b[0;34m\u001b[0m\u001b[0m\n\u001b[0m\u001b[1;32m    676\u001b[0m         \u001b[0;32mif\u001b[0m \u001b[0mself\u001b[0m\u001b[0;34m.\u001b[0m\u001b[0m_pin_memory\u001b[0m\u001b[0;34m:\u001b[0m\u001b[0;34m\u001b[0m\u001b[0;34m\u001b[0m\u001b[0m\n\u001b[1;32m    677\u001b[0m             \u001b[0mdata\u001b[0m \u001b[0;34m=\u001b[0m \u001b[0m_utils\u001b[0m\u001b[0;34m.\u001b[0m\u001b[0mpin_memory\u001b[0m\u001b[0;34m.\u001b[0m\u001b[0mpin_memory\u001b[0m\u001b[0;34m(\u001b[0m\u001b[0mdata\u001b[0m\u001b[0;34m,\u001b[0m \u001b[0mself\u001b[0m\u001b[0;34m.\u001b[0m\u001b[0m_pin_memory_device\u001b[0m\u001b[0;34m)\u001b[0m\u001b[0;34m\u001b[0m\u001b[0;34m\u001b[0m\u001b[0m\n",
      "\u001b[0;32m/usr/local/lib/python3.10/dist-packages/torch/utils/data/_utils/fetch.py\u001b[0m in \u001b[0;36mfetch\u001b[0;34m(self, possibly_batched_index)\u001b[0m\n\u001b[1;32m     49\u001b[0m                 \u001b[0mdata\u001b[0m \u001b[0;34m=\u001b[0m \u001b[0mself\u001b[0m\u001b[0;34m.\u001b[0m\u001b[0mdataset\u001b[0m\u001b[0;34m.\u001b[0m\u001b[0m__getitems__\u001b[0m\u001b[0;34m(\u001b[0m\u001b[0mpossibly_batched_index\u001b[0m\u001b[0;34m)\u001b[0m\u001b[0;34m\u001b[0m\u001b[0;34m\u001b[0m\u001b[0m\n\u001b[1;32m     50\u001b[0m             \u001b[0;32melse\u001b[0m\u001b[0;34m:\u001b[0m\u001b[0;34m\u001b[0m\u001b[0;34m\u001b[0m\u001b[0m\n\u001b[0;32m---> 51\u001b[0;31m                 \u001b[0mdata\u001b[0m \u001b[0;34m=\u001b[0m \u001b[0;34m[\u001b[0m\u001b[0mself\u001b[0m\u001b[0;34m.\u001b[0m\u001b[0mdataset\u001b[0m\u001b[0;34m[\u001b[0m\u001b[0midx\u001b[0m\u001b[0;34m]\u001b[0m \u001b[0;32mfor\u001b[0m \u001b[0midx\u001b[0m \u001b[0;32min\u001b[0m \u001b[0mpossibly_batched_index\u001b[0m\u001b[0;34m]\u001b[0m\u001b[0;34m\u001b[0m\u001b[0;34m\u001b[0m\u001b[0m\n\u001b[0m\u001b[1;32m     52\u001b[0m         \u001b[0;32melse\u001b[0m\u001b[0;34m:\u001b[0m\u001b[0;34m\u001b[0m\u001b[0;34m\u001b[0m\u001b[0m\n\u001b[1;32m     53\u001b[0m             \u001b[0mdata\u001b[0m \u001b[0;34m=\u001b[0m \u001b[0mself\u001b[0m\u001b[0;34m.\u001b[0m\u001b[0mdataset\u001b[0m\u001b[0;34m[\u001b[0m\u001b[0mpossibly_batched_index\u001b[0m\u001b[0;34m]\u001b[0m\u001b[0;34m\u001b[0m\u001b[0;34m\u001b[0m\u001b[0m\n",
      "\u001b[0;32m/usr/local/lib/python3.10/dist-packages/torch/utils/data/_utils/fetch.py\u001b[0m in \u001b[0;36m<listcomp>\u001b[0;34m(.0)\u001b[0m\n\u001b[1;32m     49\u001b[0m                 \u001b[0mdata\u001b[0m \u001b[0;34m=\u001b[0m \u001b[0mself\u001b[0m\u001b[0;34m.\u001b[0m\u001b[0mdataset\u001b[0m\u001b[0;34m.\u001b[0m\u001b[0m__getitems__\u001b[0m\u001b[0;34m(\u001b[0m\u001b[0mpossibly_batched_index\u001b[0m\u001b[0;34m)\u001b[0m\u001b[0;34m\u001b[0m\u001b[0;34m\u001b[0m\u001b[0m\n\u001b[1;32m     50\u001b[0m             \u001b[0;32melse\u001b[0m\u001b[0;34m:\u001b[0m\u001b[0;34m\u001b[0m\u001b[0;34m\u001b[0m\u001b[0m\n\u001b[0;32m---> 51\u001b[0;31m                 \u001b[0mdata\u001b[0m \u001b[0;34m=\u001b[0m \u001b[0;34m[\u001b[0m\u001b[0mself\u001b[0m\u001b[0;34m.\u001b[0m\u001b[0mdataset\u001b[0m\u001b[0;34m[\u001b[0m\u001b[0midx\u001b[0m\u001b[0;34m]\u001b[0m \u001b[0;32mfor\u001b[0m \u001b[0midx\u001b[0m \u001b[0;32min\u001b[0m \u001b[0mpossibly_batched_index\u001b[0m\u001b[0;34m]\u001b[0m\u001b[0;34m\u001b[0m\u001b[0;34m\u001b[0m\u001b[0m\n\u001b[0m\u001b[1;32m     52\u001b[0m         \u001b[0;32melse\u001b[0m\u001b[0;34m:\u001b[0m\u001b[0;34m\u001b[0m\u001b[0;34m\u001b[0m\u001b[0m\n\u001b[1;32m     53\u001b[0m             \u001b[0mdata\u001b[0m \u001b[0;34m=\u001b[0m \u001b[0mself\u001b[0m\u001b[0;34m.\u001b[0m\u001b[0mdataset\u001b[0m\u001b[0;34m[\u001b[0m\u001b[0mpossibly_batched_index\u001b[0m\u001b[0;34m]\u001b[0m\u001b[0;34m\u001b[0m\u001b[0;34m\u001b[0m\u001b[0m\n",
      "\u001b[0;32m<ipython-input-58-7b83f5fa2ec0>\u001b[0m in \u001b[0;36m__getitem__\u001b[0;34m(self, idx)\u001b[0m\n\u001b[1;32m     52\u001b[0m \u001b[0;34m\u001b[0m\u001b[0m\n\u001b[1;32m     53\u001b[0m     \u001b[0;32mdef\u001b[0m \u001b[0m__getitem__\u001b[0m\u001b[0;34m(\u001b[0m\u001b[0mself\u001b[0m\u001b[0;34m,\u001b[0m \u001b[0midx\u001b[0m\u001b[0;34m)\u001b[0m\u001b[0;34m:\u001b[0m\u001b[0;34m\u001b[0m\u001b[0;34m\u001b[0m\u001b[0m\n\u001b[0;32m---> 54\u001b[0;31m         \u001b[0mimage\u001b[0m\u001b[0;34m,\u001b[0m \u001b[0mcenters\u001b[0m \u001b[0;34m=\u001b[0m \u001b[0mself\u001b[0m\u001b[0;34m.\u001b[0m\u001b[0mgenerate_synthetic_heatmap\u001b[0m\u001b[0;34m(\u001b[0m\u001b[0;34m)\u001b[0m\u001b[0;34m\u001b[0m\u001b[0;34m\u001b[0m\u001b[0m\n\u001b[0m\u001b[1;32m     55\u001b[0m         \u001b[0mimage\u001b[0m \u001b[0;34m=\u001b[0m \u001b[0mnp\u001b[0m\u001b[0;34m.\u001b[0m\u001b[0mrepeat\u001b[0m\u001b[0;34m(\u001b[0m\u001b[0mimage\u001b[0m\u001b[0;34m[\u001b[0m\u001b[0;34m:\u001b[0m\u001b[0;34m,\u001b[0m \u001b[0;34m:\u001b[0m\u001b[0;34m,\u001b[0m \u001b[0mnp\u001b[0m\u001b[0;34m.\u001b[0m\u001b[0mnewaxis\u001b[0m\u001b[0;34m]\u001b[0m\u001b[0;34m,\u001b[0m \u001b[0;36m3\u001b[0m\u001b[0;34m,\u001b[0m \u001b[0maxis\u001b[0m\u001b[0;34m=\u001b[0m\u001b[0;36m2\u001b[0m\u001b[0;34m)\u001b[0m\u001b[0;34m\u001b[0m\u001b[0;34m\u001b[0m\u001b[0m\n\u001b[1;32m     56\u001b[0m         \u001b[0;32mif\u001b[0m \u001b[0mself\u001b[0m\u001b[0;34m.\u001b[0m\u001b[0mtransform\u001b[0m\u001b[0;34m:\u001b[0m\u001b[0;34m\u001b[0m\u001b[0;34m\u001b[0m\u001b[0m\n",
      "\u001b[0;32m<ipython-input-58-7b83f5fa2ec0>\u001b[0m in \u001b[0;36mgenerate_synthetic_heatmap\u001b[0;34m(self)\u001b[0m\n\u001b[1;32m    100\u001b[0m \u001b[0;34m\u001b[0m\u001b[0m\n\u001b[1;32m    101\u001b[0m             \u001b[0mexcluded_regions\u001b[0m\u001b[0;34m.\u001b[0m\u001b[0mappend\u001b[0m\u001b[0;34m(\u001b[0m\u001b[0;34m[\u001b[0m\u001b[0mcenter\u001b[0m\u001b[0;34m,\u001b[0m\u001b[0;34m(\u001b[0m\u001b[0;36m2\u001b[0m\u001b[0;34m*\u001b[0m\u001b[0mcov_matrix\u001b[0m\u001b[0;34m[\u001b[0m\u001b[0;36m0\u001b[0m\u001b[0;34m,\u001b[0m\u001b[0;36m0\u001b[0m\u001b[0;34m]\u001b[0m\u001b[0;34m,\u001b[0m\u001b[0;36m2\u001b[0m\u001b[0;34m*\u001b[0m\u001b[0mcov_matrix\u001b[0m\u001b[0;34m[\u001b[0m\u001b[0;36m1\u001b[0m\u001b[0;34m,\u001b[0m\u001b[0;36m1\u001b[0m\u001b[0;34m]\u001b[0m\u001b[0;34m)\u001b[0m\u001b[0;34m]\u001b[0m\u001b[0;34m)\u001b[0m\u001b[0;34m\u001b[0m\u001b[0;34m\u001b[0m\u001b[0m\n\u001b[0;32m--> 102\u001b[0;31m             \u001b[0mpoints\u001b[0m \u001b[0;34m=\u001b[0m \u001b[0mnp\u001b[0m\u001b[0;34m.\u001b[0m\u001b[0mrandom\u001b[0m\u001b[0;34m.\u001b[0m\u001b[0mmultivariate_normal\u001b[0m\u001b[0;34m(\u001b[0m\u001b[0mcenter\u001b[0m\u001b[0;34m,\u001b[0m \u001b[0mcov_matrix\u001b[0m\u001b[0;34m,\u001b[0m \u001b[0mpoints_per_cluster\u001b[0m\u001b[0;34m)\u001b[0m\u001b[0;34m.\u001b[0m\u001b[0mround\u001b[0m\u001b[0;34m(\u001b[0m\u001b[0;34m)\u001b[0m\u001b[0;34m.\u001b[0m\u001b[0mastype\u001b[0m\u001b[0;34m(\u001b[0m\u001b[0mint\u001b[0m\u001b[0;34m)\u001b[0m\u001b[0;34m\u001b[0m\u001b[0;34m\u001b[0m\u001b[0m\n\u001b[0m\u001b[1;32m    103\u001b[0m             \u001b[0mx\u001b[0m \u001b[0;34m=\u001b[0m \u001b[0mnp\u001b[0m\u001b[0;34m.\u001b[0m\u001b[0mconcatenate\u001b[0m\u001b[0;34m(\u001b[0m\u001b[0;34m[\u001b[0m\u001b[0mx\u001b[0m\u001b[0;34m,\u001b[0m \u001b[0mpoints\u001b[0m\u001b[0;34m]\u001b[0m\u001b[0;34m)\u001b[0m\u001b[0;34m\u001b[0m\u001b[0;34m\u001b[0m\u001b[0m\n\u001b[1;32m    104\u001b[0m \u001b[0;34m\u001b[0m\u001b[0m\n",
      "\u001b[0;32mmtrand.pyx\u001b[0m in \u001b[0;36mnumpy.random.mtrand.RandomState.multivariate_normal\u001b[0;34m()\u001b[0m\n",
      "\u001b[0;32m/usr/local/lib/python3.10/dist-packages/numpy/core/numeric.py\u001b[0m in \u001b[0;36m_allclose_dispatcher\u001b[0;34m(a, b, rtol, atol, equal_nan)\u001b[0m\n\u001b[1;32m   2164\u001b[0m \u001b[0;34m\u001b[0m\u001b[0m\n\u001b[1;32m   2165\u001b[0m \u001b[0;34m\u001b[0m\u001b[0m\n\u001b[0;32m-> 2166\u001b[0;31m \u001b[0;32mdef\u001b[0m \u001b[0m_allclose_dispatcher\u001b[0m\u001b[0;34m(\u001b[0m\u001b[0ma\u001b[0m\u001b[0;34m,\u001b[0m \u001b[0mb\u001b[0m\u001b[0;34m,\u001b[0m \u001b[0mrtol\u001b[0m\u001b[0;34m=\u001b[0m\u001b[0;32mNone\u001b[0m\u001b[0;34m,\u001b[0m \u001b[0matol\u001b[0m\u001b[0;34m=\u001b[0m\u001b[0;32mNone\u001b[0m\u001b[0;34m,\u001b[0m \u001b[0mequal_nan\u001b[0m\u001b[0;34m=\u001b[0m\u001b[0;32mNone\u001b[0m\u001b[0;34m)\u001b[0m\u001b[0;34m:\u001b[0m\u001b[0;34m\u001b[0m\u001b[0;34m\u001b[0m\u001b[0m\n\u001b[0m\u001b[1;32m   2167\u001b[0m     \u001b[0;32mreturn\u001b[0m \u001b[0;34m(\u001b[0m\u001b[0ma\u001b[0m\u001b[0;34m,\u001b[0m \u001b[0mb\u001b[0m\u001b[0;34m)\u001b[0m\u001b[0;34m\u001b[0m\u001b[0;34m\u001b[0m\u001b[0m\n\u001b[1;32m   2168\u001b[0m \u001b[0;34m\u001b[0m\u001b[0m\n",
      "\u001b[0;31mKeyboardInterrupt\u001b[0m: "
     ]
    }
   ],
   "source": [
    "# Load the model\n",
    "model = ResNetForImageClassification.from_pretrained(\"microsoft/resnet-50\")\n",
    "\n",
    "# Modify the model for regression output\n",
    "num_coordinates = 2 * max_clusters  # x and y for each cluster\n",
    "model.classifier[1] = nn.Linear(in_features=model.classifier[1].in_features, out_features=num_coordinates)\n",
    "device = torch.device(\"cuda\" if torch.cuda.is_available() else \"cpu\")\n",
    "model = model.to(device)\n",
    "\n",
    "# Create the dataset\n",
    "heatmap_dataset = HeatmapDataset(num_samples, max_clusters, max_points_per_cluster, min_points_per_cluster,\n",
    "                                 NR_OF_X_BINS, NR_OF_Y_BINS, max_noise, min_noise, max_cov, transform=True)\n",
    "\n",
    "# DataLoader\n",
    "train_loader = DataLoader(heatmap_dataset, batch_size=32, shuffle=True)\n",
    "\n",
    "num_validation_samples = 100\n",
    "validation_dataset = HeatmapDataset(num_samples, max_clusters, max_points_per_cluster, min_points_per_cluster,\n",
    "                                 NR_OF_X_BINS, NR_OF_Y_BINS, max_noise, min_noise, max_cov, transform=True)\n",
    "validation_loader = DataLoader(validation_dataset, batch_size=32, shuffle=False)\n",
    "\n",
    "\n",
    "# Loss and optimizer\n",
    "criterion = nn.MSELoss()  # Mean Squared Error for regression\n",
    "optimizer = optim.Adam(model.parameters(), lr=1e-4)\n",
    "\n",
    "num_epochs = 50\n",
    "for epoch in range(num_epochs):\n",
    "    model.train()\n",
    "    total_loss = 0\n",
    "\n",
    "    for images, centers in train_loader:\n",
    "        images = images.to(device)\n",
    "        centers = centers.to(device)  # Centers are already flattened when loaded\n",
    "\n",
    "        outputs = model(images).logits  # Assuming the output has the shape [batch_size, num_centers*2]\n",
    "        outputs = outputs.view(-1, max_clusters, 2)  # Reshape to [batch_size, num_centers, 2] for x, y coordinates\n",
    "\n",
    "        # Prepare true centers for comparison\n",
    "        true_centers = centers.view(-1, max_clusters, 2)  # Reshape to [batch_size, num_clusters, 2]\n",
    "\n",
    "        # Calculate Chamfer-like distance as loss\n",
    "        loss = chamfer_distance(outputs, true_centers)\n",
    "\n",
    "        optimizer.zero_grad()\n",
    "        loss.backward()\n",
    "        optimizer.step()\n",
    "\n",
    "        total_loss += loss.item()\n",
    "\n",
    "    print(f'Epoch [{epoch+1}/{num_epochs}], Loss: {total_loss/len(train_loader)}')\n",
    "\n",
    "    model.eval()\n",
    "    total_val_loss = 0\n",
    "\n",
    "    with torch.no_grad():\n",
    "        for images, centers in validation_loader:\n",
    "            images, centers = images.to(device), centers.to(device)\n",
    "            outputs = model(images).logits\n",
    "            outputs = outputs.view(-1, max_clusters, 2)\n",
    "\n",
    "            true_centers = centers.view(-1, max_clusters, 2)\n",
    "\n",
    "            loss = chamfer_distance(outputs, true_centers)\n",
    "            total_val_loss += loss.item()\n",
    "\n",
    "    print(f'Epoch [{epoch+1}/{num_epochs}], Validation Loss: {total_val_loss/len(validation_loader)}')\n"
   ]
  },
  {
   "cell_type": "markdown",
   "metadata": {
    "id": "yXDZ2Ur-fHRF"
   },
   "source": [
    "Save the model:"
   ]
  },
  {
   "cell_type": "code",
   "execution_count": null,
   "metadata": {
    "id": "Xa8pj2_c-DkD"
   },
   "outputs": [],
   "source": [
    "torch.save(model, 'drive/MyDrive/fine_tuned_RESENET_loc_of_centers_newer_method.pth')\n",
    "# model = torch.load('drive/MyDrive/fine_tuned_RESENET_loc_of_centers.pth')"
   ]
  },
  {
   "cell_type": "markdown",
   "metadata": {
    "id": "fCTq-8lZfNSK"
   },
   "source": [
    "Load the model:"
   ]
  },
  {
   "cell_type": "code",
   "execution_count": 66,
   "metadata": {
    "id": "gsm24D-VfM5f"
   },
   "outputs": [],
   "source": [
    "model_loc = torch.load('drive/MyDrive/fine_tuned_RESENET_loc_of_centers.pth')\n",
    "\n",
    "model2 = model_loc"
   ]
  },
  {
   "cell_type": "markdown",
   "metadata": {
    "id": "kTSFriWytGxC"
   },
   "source": [
    "## 7.3 Create feature vectors:"
   ]
  },
  {
   "cell_type": "markdown",
   "metadata": {
    "id": "pqvSg9qOfVii"
   },
   "source": [
    "### 7.3.1 Data I"
   ]
  },
  {
   "cell_type": "code",
   "execution_count": 78,
   "metadata": {
    "id": "SqVgIix1-DkE"
   },
   "outputs": [],
   "source": [
    "#model = AutoModelForImageClassification.from_pretrained(\"microsoft/resnet-50\")\n",
    "model2.classifier = torch.nn.Identity()\n",
    "model2.eval()\n",
    "\n",
    "transform = Compose([\n",
    "    Resize((224, 224)),\n",
    "    ToTensor(),\n",
    "    Normalize(mean=[0.485, 0.456, 0.406],\n",
    "              std=[0.229, 0.224, 0.225]),])\n",
    "\n",
    "RN_loc_new = []\n",
    "\n",
    "for img_np in images_rgb_comb:\n",
    "    img_pil = Image.fromarray(img_np.astype('uint8'), 'RGB')\n",
    "    img_tensor = transform(img_pil)\n",
    "    inputs = img_tensor.unsqueeze(0)\n",
    "\n",
    "    with torch.no_grad():\n",
    "        output = model2_new(inputs.to(device))\n",
    "        features = output.last_hidden_state if hasattr(output, 'last_hidden_state') else output[0]\n",
    "\n",
    "    features_np = features.cpu().detach().numpy().reshape(-1)\n",
    "    RN_loc_new.append(features_np)\n",
    "\n",
    "RN_loc_new = np.array(RN_loc_new)"
   ]
  },
  {
   "cell_type": "markdown",
   "metadata": {
    "id": "rSnNcHexfpnq"
   },
   "source": [
    "### 7.3.2 Data II"
   ]
  },
  {
   "cell_type": "code",
   "execution_count": 79,
   "metadata": {
    "id": "za8F4NVm9Zjo"
   },
   "outputs": [],
   "source": [
    "model2_new = model\n",
    "model2_new.classifier = torch.nn.Identity()\n",
    "model2_new.eval()\n",
    "\n",
    "\n",
    "transform = Compose([\n",
    "    Resize((224, 224)),\n",
    "    ToTensor(),\n",
    "    Normalize(mean=[0.485, 0.456, 0.406],\n",
    "              std=[0.229, 0.224, 0.225]),])\n",
    "\n",
    "RN_6p_loc_new = []\n",
    "\n",
    "for img_np in images_rgb_6p:\n",
    "    img_pil = Image.fromarray(img_np.astype('uint8'), 'RGB')\n",
    "    img_tensor = transform(img_pil)\n",
    "    inputs = img_tensor.unsqueeze(0)\n",
    "\n",
    "    with torch.no_grad():\n",
    "        output = model2_new(inputs.to(device))\n",
    "        features = output.last_hidden_state if hasattr(output, 'last_hidden_state') else output[0]\n",
    "\n",
    "    features_np = features.cpu().detach().numpy().reshape(-1)\n",
    "    RN_6p_loc_new.append(features_np)\n",
    "\n",
    "RN_6p_loc_new = np.array(RN_6p_loc_new)"
   ]
  },
  {
   "cell_type": "markdown",
   "metadata": {
    "id": "LF6tImjitwpH"
   },
   "source": [
    "# 8 Pickle Save Feature Vectors\n",
    "\n",
    "We save the feature vectors in a pickle file and evaluate/create the predictive model in another file."
   ]
  },
  {
   "cell_type": "code",
   "execution_count": 80,
   "metadata": {
    "id": "kA2R1lbCgnC-"
   },
   "outputs": [],
   "source": [
    "RN_comb       = np.concatenate([RN_features333519,RN_features333346])\n",
    "RN_comb_loc   = np.concatenate([RN_features333519_loc,RN_features333346_loc])\n",
    "RN_comb_cnt   = np.concatenate([RN_features333519_new,RN_features333346_new])"
   ]
  },
  {
   "cell_type": "code",
   "execution_count": 81,
   "metadata": {
    "id": "BUlhnO4ZqLT0"
   },
   "outputs": [],
   "source": [
    "doms_old = {}\n",
    "\n",
    "domains = grid333519['domain'].unique()\n",
    "doms_old[333519] = np.array([domain for domain in domains])\n",
    "domains = grid333346['domain'].unique()\n",
    "doms_old[333346] = np.array([domain for domain in domains])"
   ]
  },
  {
   "cell_type": "code",
   "execution_count": 82,
   "metadata": {
    "id": "5PVaTMrPqi3G"
   },
   "outputs": [],
   "source": [
    "doms_new = {}\n",
    "for gid in data_binned_6p.grid_id.unique():\n",
    "    domains = data_binned_6p[data_binned_6p.grid_id==gid].domain.unique()\n",
    "    doms_new[gid] = np.array([domain for domain in domains])"
   ]
  },
  {
   "cell_type": "code",
   "execution_count": 83,
   "metadata": {
    "colab": {
     "base_uri": "https://localhost:8080/",
     "height": 211
    },
    "id": "uAy8ubFtvRyG",
    "outputId": "822821c1-c4fb-47f1-a7b7-fcbff9bfa1a9"
   },
   "outputs": [
    {
     "ename": "NameError",
     "evalue": "name 'RN_6p_loc' is not defined",
     "output_type": "error",
     "traceback": [
      "\u001b[0;31m---------------------------------------------------------------------------\u001b[0m",
      "\u001b[0;31mNameError\u001b[0m                                 Traceback (most recent call last)",
      "\u001b[0;32m<ipython-input-83-e7e7a05ce871>\u001b[0m in \u001b[0;36m<cell line: 15>\u001b[0;34m()\u001b[0m\n\u001b[1;32m     13\u001b[0m \u001b[0;34m\u001b[0m\u001b[0m\n\u001b[1;32m     14\u001b[0m \u001b[0msave_feats\u001b[0m\u001b[0;34m[\u001b[0m\u001b[0;34m'RN_6p'\u001b[0m\u001b[0;34m]\u001b[0m \u001b[0;34m=\u001b[0m \u001b[0mRN_6p\u001b[0m\u001b[0;34m\u001b[0m\u001b[0;34m\u001b[0m\u001b[0m\n\u001b[0;32m---> 15\u001b[0;31m \u001b[0msave_feats\u001b[0m\u001b[0;34m[\u001b[0m\u001b[0;34m'RN_6p_loc'\u001b[0m\u001b[0;34m]\u001b[0m \u001b[0;34m=\u001b[0m \u001b[0mRN_6p_loc\u001b[0m\u001b[0;34m\u001b[0m\u001b[0;34m\u001b[0m\u001b[0m\n\u001b[0m\u001b[1;32m     16\u001b[0m \u001b[0msave_feats\u001b[0m\u001b[0;34m[\u001b[0m\u001b[0;34m'RN_6p_comb_loc_new'\u001b[0m\u001b[0;34m]\u001b[0m \u001b[0;34m=\u001b[0m \u001b[0mRN_6p_loc_new\u001b[0m\u001b[0;34m\u001b[0m\u001b[0;34m\u001b[0m\u001b[0m\n\u001b[1;32m     17\u001b[0m \u001b[0msave_feats\u001b[0m\u001b[0;34m[\u001b[0m\u001b[0;34m'RN_6p_cnt'\u001b[0m\u001b[0;34m]\u001b[0m \u001b[0;34m=\u001b[0m \u001b[0mRN_6p_cnt\u001b[0m\u001b[0;34m\u001b[0m\u001b[0;34m\u001b[0m\u001b[0m\n",
      "\u001b[0;31mNameError\u001b[0m: name 'RN_6p_loc' is not defined"
     ]
    }
   ],
   "source": [
    "import pickle\n",
    "\n",
    "save_feats = {}\n",
    "save_feats['RN_pre'] = RN_comb\n",
    "save_feats['RN_comb_loc'] = RN_comb_loc\n",
    "save_feats['RN_comb_loc_new'] = RN_loc_new\n",
    "save_feats['RN_comb_cnt'] = RN_comb_cnt\n",
    "save_feats['ViT_comb'] = ViT_comb\n",
    "save_feats['lab_comb'] = lab_comb\n",
    "save_feats['images_rgb_comb'] = images_rgb_comb\n",
    "save_feats['doms_old'] = doms_old\n",
    "\n",
    "\n",
    "save_feats['RN_6p'] = RN_6p\n",
    "save_feats['RN_6p_loc'] = RN_6p_loc\n",
    "save_feats['RN_6p_comb_loc_new'] = RN_6p_loc_new\n",
    "save_feats['RN_6p_cnt'] = RN_6p_cnt\n",
    "save_feats['ViT_6p'] = ViT_6p\n",
    "save_feats['labs_6p'] = labs_6p\n",
    "save_feats['images_rgb_6p'] = images_rgb_6p\n",
    "save_feats['doms_new'] = doms_new\n",
    "\n",
    "save_feats['RN_comb_loc_new'] = RN_loc_new\n",
    "save_feats['RN_6p_comb_loc_new'] = RN_6p_loc_new\n",
    "with open('drive/MyDrive/Capstone/save_feats_new1.pkl', 'wb') as f:\n",
    "    pickle.dump(save_feats, f)"
   ]
  }
 ],
 "metadata": {
  "accelerator": "GPU",
  "colab": {
   "collapsed_sections": [
    "76HabWmUOk80",
    "RQdKsVO21i28",
    "iE7be3GB1ett",
    "YE9S8KsdHnuN",
    "4z2gfC_irzCk",
    "sm4wlFVESfOB",
    "6aoMzlsrSmhn",
    "G7P6mWqe4r9N",
    "-q7uXyfC4mQL",
    "9GmFPS9_FDUM",
    "pkQp-9vBAcGE",
    "yPHuKdg7UQjV",
    "ERh7YHEz7IKe",
    "LF6tImjitwpH"
   ],
   "gpuType": "T4",
   "machine_shape": "hm",
   "provenance": [],
   "toc_visible": true
  },
  "kernelspec": {
   "display_name": "Python 3 (ipykernel)",
   "language": "python",
   "name": "python3"
  },
  "language_info": {
   "codemirror_mode": {
    "name": "ipython",
    "version": 3
   },
   "file_extension": ".py",
   "mimetype": "text/x-python",
   "name": "python",
   "nbconvert_exporter": "python",
   "pygments_lexer": "ipython3",
   "version": "3.8.2"
  },
  "widgets": {
   "application/vnd.jupyter.widget-state+json": {
    "0532e2eea1c44b35aa11fe494c20a51b": {
     "model_module": "@jupyter-widgets/controls",
     "model_module_version": "1.5.0",
     "model_name": "ProgressStyleModel",
     "state": {
      "_model_module": "@jupyter-widgets/controls",
      "_model_module_version": "1.5.0",
      "_model_name": "ProgressStyleModel",
      "_view_count": null,
      "_view_module": "@jupyter-widgets/base",
      "_view_module_version": "1.2.0",
      "_view_name": "StyleView",
      "bar_color": null,
      "description_width": ""
     }
    },
    "0641d642265b42a4a764db916b75daaa": {
     "model_module": "@jupyter-widgets/controls",
     "model_module_version": "1.5.0",
     "model_name": "DescriptionStyleModel",
     "state": {
      "_model_module": "@jupyter-widgets/controls",
      "_model_module_version": "1.5.0",
      "_model_name": "DescriptionStyleModel",
      "_view_count": null,
      "_view_module": "@jupyter-widgets/base",
      "_view_module_version": "1.2.0",
      "_view_name": "StyleView",
      "description_width": ""
     }
    },
    "098a600f92954454b98c71b20c4363cc": {
     "model_module": "@jupyter-widgets/base",
     "model_module_version": "1.2.0",
     "model_name": "LayoutModel",
     "state": {
      "_model_module": "@jupyter-widgets/base",
      "_model_module_version": "1.2.0",
      "_model_name": "LayoutModel",
      "_view_count": null,
      "_view_module": "@jupyter-widgets/base",
      "_view_module_version": "1.2.0",
      "_view_name": "LayoutView",
      "align_content": null,
      "align_items": null,
      "align_self": null,
      "border": null,
      "bottom": null,
      "display": null,
      "flex": null,
      "flex_flow": null,
      "grid_area": null,
      "grid_auto_columns": null,
      "grid_auto_flow": null,
      "grid_auto_rows": null,
      "grid_column": null,
      "grid_gap": null,
      "grid_row": null,
      "grid_template_areas": null,
      "grid_template_columns": null,
      "grid_template_rows": null,
      "height": null,
      "justify_content": null,
      "justify_items": null,
      "left": null,
      "margin": null,
      "max_height": null,
      "max_width": null,
      "min_height": null,
      "min_width": null,
      "object_fit": null,
      "object_position": null,
      "order": null,
      "overflow": null,
      "overflow_x": null,
      "overflow_y": null,
      "padding": null,
      "right": null,
      "top": null,
      "visibility": null,
      "width": null
     }
    },
    "0fce1e4c9411451d90d31c08bc74eaee": {
     "model_module": "@jupyter-widgets/controls",
     "model_module_version": "1.5.0",
     "model_name": "HTMLModel",
     "state": {
      "_dom_classes": [],
      "_model_module": "@jupyter-widgets/controls",
      "_model_module_version": "1.5.0",
      "_model_name": "HTMLModel",
      "_view_count": null,
      "_view_module": "@jupyter-widgets/controls",
      "_view_module_version": "1.5.0",
      "_view_name": "HTMLView",
      "description": "",
      "description_tooltip": null,
      "layout": "IPY_MODEL_4a217b1ca6674904b8972f2b30bc284a",
      "placeholder": "​",
      "style": "IPY_MODEL_77715d5616ec4d46ae5d8d76d9a5524e",
      "value": "model.safetensors: 100%"
     }
    },
    "12224cc35633438abf3714fa8ce4baef": {
     "model_module": "@jupyter-widgets/controls",
     "model_module_version": "1.5.0",
     "model_name": "DescriptionStyleModel",
     "state": {
      "_model_module": "@jupyter-widgets/controls",
      "_model_module_version": "1.5.0",
      "_model_name": "DescriptionStyleModel",
      "_view_count": null,
      "_view_module": "@jupyter-widgets/base",
      "_view_module_version": "1.2.0",
      "_view_name": "StyleView",
      "description_width": ""
     }
    },
    "1387783c00034e349dd2d90b9e9b2ce2": {
     "model_module": "@jupyter-widgets/controls",
     "model_module_version": "1.5.0",
     "model_name": "ProgressStyleModel",
     "state": {
      "_model_module": "@jupyter-widgets/controls",
      "_model_module_version": "1.5.0",
      "_model_name": "ProgressStyleModel",
      "_view_count": null,
      "_view_module": "@jupyter-widgets/base",
      "_view_module_version": "1.2.0",
      "_view_name": "StyleView",
      "bar_color": null,
      "description_width": ""
     }
    },
    "164d5cc43a86475c871516a68b9cb381": {
     "model_module": "@jupyter-widgets/base",
     "model_module_version": "1.2.0",
     "model_name": "LayoutModel",
     "state": {
      "_model_module": "@jupyter-widgets/base",
      "_model_module_version": "1.2.0",
      "_model_name": "LayoutModel",
      "_view_count": null,
      "_view_module": "@jupyter-widgets/base",
      "_view_module_version": "1.2.0",
      "_view_name": "LayoutView",
      "align_content": null,
      "align_items": null,
      "align_self": null,
      "border": null,
      "bottom": null,
      "display": null,
      "flex": null,
      "flex_flow": null,
      "grid_area": null,
      "grid_auto_columns": null,
      "grid_auto_flow": null,
      "grid_auto_rows": null,
      "grid_column": null,
      "grid_gap": null,
      "grid_row": null,
      "grid_template_areas": null,
      "grid_template_columns": null,
      "grid_template_rows": null,
      "height": null,
      "justify_content": null,
      "justify_items": null,
      "left": null,
      "margin": null,
      "max_height": null,
      "max_width": null,
      "min_height": null,
      "min_width": null,
      "object_fit": null,
      "object_position": null,
      "order": null,
      "overflow": null,
      "overflow_x": null,
      "overflow_y": null,
      "padding": null,
      "right": null,
      "top": null,
      "visibility": null,
      "width": null
     }
    },
    "1a25c152367c40f5b676ef7d122c6960": {
     "model_module": "@jupyter-widgets/base",
     "model_module_version": "1.2.0",
     "model_name": "LayoutModel",
     "state": {
      "_model_module": "@jupyter-widgets/base",
      "_model_module_version": "1.2.0",
      "_model_name": "LayoutModel",
      "_view_count": null,
      "_view_module": "@jupyter-widgets/base",
      "_view_module_version": "1.2.0",
      "_view_name": "LayoutView",
      "align_content": null,
      "align_items": null,
      "align_self": null,
      "border": null,
      "bottom": null,
      "display": null,
      "flex": null,
      "flex_flow": null,
      "grid_area": null,
      "grid_auto_columns": null,
      "grid_auto_flow": null,
      "grid_auto_rows": null,
      "grid_column": null,
      "grid_gap": null,
      "grid_row": null,
      "grid_template_areas": null,
      "grid_template_columns": null,
      "grid_template_rows": null,
      "height": null,
      "justify_content": null,
      "justify_items": null,
      "left": null,
      "margin": null,
      "max_height": null,
      "max_width": null,
      "min_height": null,
      "min_width": null,
      "object_fit": null,
      "object_position": null,
      "order": null,
      "overflow": null,
      "overflow_x": null,
      "overflow_y": null,
      "padding": null,
      "right": null,
      "top": null,
      "visibility": null,
      "width": null
     }
    },
    "1baf5cf28f3b48b7817c2f0e76ef76d3": {
     "model_module": "@jupyter-widgets/base",
     "model_module_version": "1.2.0",
     "model_name": "LayoutModel",
     "state": {
      "_model_module": "@jupyter-widgets/base",
      "_model_module_version": "1.2.0",
      "_model_name": "LayoutModel",
      "_view_count": null,
      "_view_module": "@jupyter-widgets/base",
      "_view_module_version": "1.2.0",
      "_view_name": "LayoutView",
      "align_content": null,
      "align_items": null,
      "align_self": null,
      "border": null,
      "bottom": null,
      "display": null,
      "flex": null,
      "flex_flow": null,
      "grid_area": null,
      "grid_auto_columns": null,
      "grid_auto_flow": null,
      "grid_auto_rows": null,
      "grid_column": null,
      "grid_gap": null,
      "grid_row": null,
      "grid_template_areas": null,
      "grid_template_columns": null,
      "grid_template_rows": null,
      "height": null,
      "justify_content": null,
      "justify_items": null,
      "left": null,
      "margin": null,
      "max_height": null,
      "max_width": null,
      "min_height": null,
      "min_width": null,
      "object_fit": null,
      "object_position": null,
      "order": null,
      "overflow": null,
      "overflow_x": null,
      "overflow_y": null,
      "padding": null,
      "right": null,
      "top": null,
      "visibility": null,
      "width": null
     }
    },
    "20dd03c46f924fb3bfe3aeefb926b51e": {
     "model_module": "@jupyter-widgets/controls",
     "model_module_version": "1.5.0",
     "model_name": "HTMLModel",
     "state": {
      "_dom_classes": [],
      "_model_module": "@jupyter-widgets/controls",
      "_model_module_version": "1.5.0",
      "_model_name": "HTMLModel",
      "_view_count": null,
      "_view_module": "@jupyter-widgets/controls",
      "_view_module_version": "1.5.0",
      "_view_name": "HTMLView",
      "description": "",
      "description_tooltip": null,
      "layout": "IPY_MODEL_ec5f01fc759047468be0ce110b5637dc",
      "placeholder": "​",
      "style": "IPY_MODEL_a36c41331df64655b80b6e70ed94cbca",
      "value": " 160/160 [00:00&lt;00:00, 13.0kB/s]"
     }
    },
    "21ba9b8cf1f8452897405db4c7c629a5": {
     "model_module": "@jupyter-widgets/base",
     "model_module_version": "1.2.0",
     "model_name": "LayoutModel",
     "state": {
      "_model_module": "@jupyter-widgets/base",
      "_model_module_version": "1.2.0",
      "_model_name": "LayoutModel",
      "_view_count": null,
      "_view_module": "@jupyter-widgets/base",
      "_view_module_version": "1.2.0",
      "_view_name": "LayoutView",
      "align_content": null,
      "align_items": null,
      "align_self": null,
      "border": null,
      "bottom": null,
      "display": null,
      "flex": null,
      "flex_flow": null,
      "grid_area": null,
      "grid_auto_columns": null,
      "grid_auto_flow": null,
      "grid_auto_rows": null,
      "grid_column": null,
      "grid_gap": null,
      "grid_row": null,
      "grid_template_areas": null,
      "grid_template_columns": null,
      "grid_template_rows": null,
      "height": null,
      "justify_content": null,
      "justify_items": null,
      "left": null,
      "margin": null,
      "max_height": null,
      "max_width": null,
      "min_height": null,
      "min_width": null,
      "object_fit": null,
      "object_position": null,
      "order": null,
      "overflow": null,
      "overflow_x": null,
      "overflow_y": null,
      "padding": null,
      "right": null,
      "top": null,
      "visibility": null,
      "width": null
     }
    },
    "23958410810945d39d47e388b1c1f94f": {
     "model_module": "@jupyter-widgets/controls",
     "model_module_version": "1.5.0",
     "model_name": "HBoxModel",
     "state": {
      "_dom_classes": [],
      "_model_module": "@jupyter-widgets/controls",
      "_model_module_version": "1.5.0",
      "_model_name": "HBoxModel",
      "_view_count": null,
      "_view_module": "@jupyter-widgets/controls",
      "_view_module_version": "1.5.0",
      "_view_name": "HBoxView",
      "box_style": "",
      "children": [
       "IPY_MODEL_3e7c34dfb7bb445abd2ebf395fa14029",
       "IPY_MODEL_46a28b72bde949ef97e25cc58eb0429e",
       "IPY_MODEL_20dd03c46f924fb3bfe3aeefb926b51e"
      ],
      "layout": "IPY_MODEL_a8c541a6165b4adcaa4897ed056d07c2"
     }
    },
    "27165d6ce42a4839b1ba3340300fc0dc": {
     "model_module": "@jupyter-widgets/controls",
     "model_module_version": "1.5.0",
     "model_name": "FloatProgressModel",
     "state": {
      "_dom_classes": [],
      "_model_module": "@jupyter-widgets/controls",
      "_model_module_version": "1.5.0",
      "_model_name": "FloatProgressModel",
      "_view_count": null,
      "_view_module": "@jupyter-widgets/controls",
      "_view_module_version": "1.5.0",
      "_view_name": "ProgressView",
      "bar_style": "success",
      "description": "",
      "description_tooltip": null,
      "layout": "IPY_MODEL_d2adf52bb1164afda2e438182825686b",
      "max": 69556,
      "min": 0,
      "orientation": "horizontal",
      "style": "IPY_MODEL_0532e2eea1c44b35aa11fe494c20a51b",
      "value": 69556
     }
    },
    "2e54ee56b1cb4dcdad0e0fc15974fd2a": {
     "model_module": "@jupyter-widgets/base",
     "model_module_version": "1.2.0",
     "model_name": "LayoutModel",
     "state": {
      "_model_module": "@jupyter-widgets/base",
      "_model_module_version": "1.2.0",
      "_model_name": "LayoutModel",
      "_view_count": null,
      "_view_module": "@jupyter-widgets/base",
      "_view_module_version": "1.2.0",
      "_view_name": "LayoutView",
      "align_content": null,
      "align_items": null,
      "align_self": null,
      "border": null,
      "bottom": null,
      "display": null,
      "flex": null,
      "flex_flow": null,
      "grid_area": null,
      "grid_auto_columns": null,
      "grid_auto_flow": null,
      "grid_auto_rows": null,
      "grid_column": null,
      "grid_gap": null,
      "grid_row": null,
      "grid_template_areas": null,
      "grid_template_columns": null,
      "grid_template_rows": null,
      "height": null,
      "justify_content": null,
      "justify_items": null,
      "left": null,
      "margin": null,
      "max_height": null,
      "max_width": null,
      "min_height": null,
      "min_width": null,
      "object_fit": null,
      "object_position": null,
      "order": null,
      "overflow": null,
      "overflow_x": null,
      "overflow_y": null,
      "padding": null,
      "right": null,
      "top": null,
      "visibility": null,
      "width": null
     }
    },
    "36a680053d784c58a121dd43bd8fa202": {
     "model_module": "@jupyter-widgets/controls",
     "model_module_version": "1.5.0",
     "model_name": "ProgressStyleModel",
     "state": {
      "_model_module": "@jupyter-widgets/controls",
      "_model_module_version": "1.5.0",
      "_model_name": "ProgressStyleModel",
      "_view_count": null,
      "_view_module": "@jupyter-widgets/base",
      "_view_module_version": "1.2.0",
      "_view_name": "StyleView",
      "bar_color": null,
      "description_width": ""
     }
    },
    "386fc1fd03c846379aeb2c08b82f7e21": {
     "model_module": "@jupyter-widgets/controls",
     "model_module_version": "1.5.0",
     "model_name": "HTMLModel",
     "state": {
      "_dom_classes": [],
      "_model_module": "@jupyter-widgets/controls",
      "_model_module_version": "1.5.0",
      "_model_name": "HTMLModel",
      "_view_count": null,
      "_view_module": "@jupyter-widgets/controls",
      "_view_module_version": "1.5.0",
      "_view_name": "HTMLView",
      "description": "",
      "description_tooltip": null,
      "layout": "IPY_MODEL_b492b95eee9c48dd98299336a5188b4d",
      "placeholder": "​",
      "style": "IPY_MODEL_46d80d70b548485fbc9c329c3872715a",
      "value": "config.json: 100%"
     }
    },
    "3ae20d55bf9c41448132aa2266e5c594": {
     "model_module": "@jupyter-widgets/base",
     "model_module_version": "1.2.0",
     "model_name": "LayoutModel",
     "state": {
      "_model_module": "@jupyter-widgets/base",
      "_model_module_version": "1.2.0",
      "_model_name": "LayoutModel",
      "_view_count": null,
      "_view_module": "@jupyter-widgets/base",
      "_view_module_version": "1.2.0",
      "_view_name": "LayoutView",
      "align_content": null,
      "align_items": null,
      "align_self": null,
      "border": null,
      "bottom": null,
      "display": null,
      "flex": null,
      "flex_flow": null,
      "grid_area": null,
      "grid_auto_columns": null,
      "grid_auto_flow": null,
      "grid_auto_rows": null,
      "grid_column": null,
      "grid_gap": null,
      "grid_row": null,
      "grid_template_areas": null,
      "grid_template_columns": null,
      "grid_template_rows": null,
      "height": null,
      "justify_content": null,
      "justify_items": null,
      "left": null,
      "margin": null,
      "max_height": null,
      "max_width": null,
      "min_height": null,
      "min_width": null,
      "object_fit": null,
      "object_position": null,
      "order": null,
      "overflow": null,
      "overflow_x": null,
      "overflow_y": null,
      "padding": null,
      "right": null,
      "top": null,
      "visibility": null,
      "width": null
     }
    },
    "3e7c34dfb7bb445abd2ebf395fa14029": {
     "model_module": "@jupyter-widgets/controls",
     "model_module_version": "1.5.0",
     "model_name": "HTMLModel",
     "state": {
      "_dom_classes": [],
      "_model_module": "@jupyter-widgets/controls",
      "_model_module_version": "1.5.0",
      "_model_name": "HTMLModel",
      "_view_count": null,
      "_view_module": "@jupyter-widgets/controls",
      "_view_module_version": "1.5.0",
      "_view_name": "HTMLView",
      "description": "",
      "description_tooltip": null,
      "layout": "IPY_MODEL_729eac57ddee47879d378931176eda2d",
      "placeholder": "​",
      "style": "IPY_MODEL_e48026a0bc7c4c08a4c717033c52d4e0",
      "value": "preprocessor_config.json: 100%"
     }
    },
    "457c69855fba4cc5a05f40e35efdb6a4": {
     "model_module": "@jupyter-widgets/controls",
     "model_module_version": "1.5.0",
     "model_name": "HBoxModel",
     "state": {
      "_dom_classes": [],
      "_model_module": "@jupyter-widgets/controls",
      "_model_module_version": "1.5.0",
      "_model_name": "HBoxModel",
      "_view_count": null,
      "_view_module": "@jupyter-widgets/controls",
      "_view_module_version": "1.5.0",
      "_view_name": "HBoxView",
      "box_style": "",
      "children": [
       "IPY_MODEL_386fc1fd03c846379aeb2c08b82f7e21",
       "IPY_MODEL_586e3bebeec447a1bc90d7270da09716",
       "IPY_MODEL_b8c9fcf3dadd4550b815239fda943110"
      ],
      "layout": "IPY_MODEL_9a602def96514659b80508e1adac7e44"
     }
    },
    "46a28b72bde949ef97e25cc58eb0429e": {
     "model_module": "@jupyter-widgets/controls",
     "model_module_version": "1.5.0",
     "model_name": "FloatProgressModel",
     "state": {
      "_dom_classes": [],
      "_model_module": "@jupyter-widgets/controls",
      "_model_module_version": "1.5.0",
      "_model_name": "FloatProgressModel",
      "_view_count": null,
      "_view_module": "@jupyter-widgets/controls",
      "_view_module_version": "1.5.0",
      "_view_name": "ProgressView",
      "bar_style": "success",
      "description": "",
      "description_tooltip": null,
      "layout": "IPY_MODEL_afc59c8459714c7ebceafca4ceeebbe7",
      "max": 160,
      "min": 0,
      "orientation": "horizontal",
      "style": "IPY_MODEL_a7bbf6088fcd4a3e9f620f3bafad91b0",
      "value": 160
     }
    },
    "46d80d70b548485fbc9c329c3872715a": {
     "model_module": "@jupyter-widgets/controls",
     "model_module_version": "1.5.0",
     "model_name": "DescriptionStyleModel",
     "state": {
      "_model_module": "@jupyter-widgets/controls",
      "_model_module_version": "1.5.0",
      "_model_name": "DescriptionStyleModel",
      "_view_count": null,
      "_view_module": "@jupyter-widgets/base",
      "_view_module_version": "1.2.0",
      "_view_name": "StyleView",
      "description_width": ""
     }
    },
    "4a217b1ca6674904b8972f2b30bc284a": {
     "model_module": "@jupyter-widgets/base",
     "model_module_version": "1.2.0",
     "model_name": "LayoutModel",
     "state": {
      "_model_module": "@jupyter-widgets/base",
      "_model_module_version": "1.2.0",
      "_model_name": "LayoutModel",
      "_view_count": null,
      "_view_module": "@jupyter-widgets/base",
      "_view_module_version": "1.2.0",
      "_view_name": "LayoutView",
      "align_content": null,
      "align_items": null,
      "align_self": null,
      "border": null,
      "bottom": null,
      "display": null,
      "flex": null,
      "flex_flow": null,
      "grid_area": null,
      "grid_auto_columns": null,
      "grid_auto_flow": null,
      "grid_auto_rows": null,
      "grid_column": null,
      "grid_gap": null,
      "grid_row": null,
      "grid_template_areas": null,
      "grid_template_columns": null,
      "grid_template_rows": null,
      "height": null,
      "justify_content": null,
      "justify_items": null,
      "left": null,
      "margin": null,
      "max_height": null,
      "max_width": null,
      "min_height": null,
      "min_width": null,
      "object_fit": null,
      "object_position": null,
      "order": null,
      "overflow": null,
      "overflow_x": null,
      "overflow_y": null,
      "padding": null,
      "right": null,
      "top": null,
      "visibility": null,
      "width": null
     }
    },
    "4a29a210623949c296b338e8605f19b1": {
     "model_module": "@jupyter-widgets/base",
     "model_module_version": "1.2.0",
     "model_name": "LayoutModel",
     "state": {
      "_model_module": "@jupyter-widgets/base",
      "_model_module_version": "1.2.0",
      "_model_name": "LayoutModel",
      "_view_count": null,
      "_view_module": "@jupyter-widgets/base",
      "_view_module_version": "1.2.0",
      "_view_name": "LayoutView",
      "align_content": null,
      "align_items": null,
      "align_self": null,
      "border": null,
      "bottom": null,
      "display": null,
      "flex": null,
      "flex_flow": null,
      "grid_area": null,
      "grid_auto_columns": null,
      "grid_auto_flow": null,
      "grid_auto_rows": null,
      "grid_column": null,
      "grid_gap": null,
      "grid_row": null,
      "grid_template_areas": null,
      "grid_template_columns": null,
      "grid_template_rows": null,
      "height": null,
      "justify_content": null,
      "justify_items": null,
      "left": null,
      "margin": null,
      "max_height": null,
      "max_width": null,
      "min_height": null,
      "min_width": null,
      "object_fit": null,
      "object_position": null,
      "order": null,
      "overflow": null,
      "overflow_x": null,
      "overflow_y": null,
      "padding": null,
      "right": null,
      "top": null,
      "visibility": null,
      "width": null
     }
    },
    "54ae52c4dad742bf97b830ecc5a137e7": {
     "model_module": "@jupyter-widgets/controls",
     "model_module_version": "1.5.0",
     "model_name": "DescriptionStyleModel",
     "state": {
      "_model_module": "@jupyter-widgets/controls",
      "_model_module_version": "1.5.0",
      "_model_name": "DescriptionStyleModel",
      "_view_count": null,
      "_view_module": "@jupyter-widgets/base",
      "_view_module_version": "1.2.0",
      "_view_name": "StyleView",
      "description_width": ""
     }
    },
    "563bf19b6e7245a383a3bf24af28ec12": {
     "model_module": "@jupyter-widgets/controls",
     "model_module_version": "1.5.0",
     "model_name": "ProgressStyleModel",
     "state": {
      "_model_module": "@jupyter-widgets/controls",
      "_model_module_version": "1.5.0",
      "_model_name": "ProgressStyleModel",
      "_view_count": null,
      "_view_module": "@jupyter-widgets/base",
      "_view_module_version": "1.2.0",
      "_view_name": "StyleView",
      "bar_color": null,
      "description_width": ""
     }
    },
    "586e3bebeec447a1bc90d7270da09716": {
     "model_module": "@jupyter-widgets/controls",
     "model_module_version": "1.5.0",
     "model_name": "FloatProgressModel",
     "state": {
      "_dom_classes": [],
      "_model_module": "@jupyter-widgets/controls",
      "_model_module_version": "1.5.0",
      "_model_name": "FloatProgressModel",
      "_view_count": null,
      "_view_module": "@jupyter-widgets/controls",
      "_view_module_version": "1.5.0",
      "_view_name": "ProgressView",
      "bar_style": "success",
      "description": "",
      "description_tooltip": null,
      "layout": "IPY_MODEL_870d4a4a675443a5ad19ca3cf3e41ee4",
      "max": 502,
      "min": 0,
      "orientation": "horizontal",
      "style": "IPY_MODEL_563bf19b6e7245a383a3bf24af28ec12",
      "value": 502
     }
    },
    "729eac57ddee47879d378931176eda2d": {
     "model_module": "@jupyter-widgets/base",
     "model_module_version": "1.2.0",
     "model_name": "LayoutModel",
     "state": {
      "_model_module": "@jupyter-widgets/base",
      "_model_module_version": "1.2.0",
      "_model_name": "LayoutModel",
      "_view_count": null,
      "_view_module": "@jupyter-widgets/base",
      "_view_module_version": "1.2.0",
      "_view_name": "LayoutView",
      "align_content": null,
      "align_items": null,
      "align_self": null,
      "border": null,
      "bottom": null,
      "display": null,
      "flex": null,
      "flex_flow": null,
      "grid_area": null,
      "grid_auto_columns": null,
      "grid_auto_flow": null,
      "grid_auto_rows": null,
      "grid_column": null,
      "grid_gap": null,
      "grid_row": null,
      "grid_template_areas": null,
      "grid_template_columns": null,
      "grid_template_rows": null,
      "height": null,
      "justify_content": null,
      "justify_items": null,
      "left": null,
      "margin": null,
      "max_height": null,
      "max_width": null,
      "min_height": null,
      "min_width": null,
      "object_fit": null,
      "object_position": null,
      "order": null,
      "overflow": null,
      "overflow_x": null,
      "overflow_y": null,
      "padding": null,
      "right": null,
      "top": null,
      "visibility": null,
      "width": null
     }
    },
    "72d0e1f42c564da8a65186e9f572ec88": {
     "model_module": "@jupyter-widgets/controls",
     "model_module_version": "1.5.0",
     "model_name": "FloatProgressModel",
     "state": {
      "_dom_classes": [],
      "_model_module": "@jupyter-widgets/controls",
      "_model_module_version": "1.5.0",
      "_model_name": "FloatProgressModel",
      "_view_count": null,
      "_view_module": "@jupyter-widgets/controls",
      "_view_module_version": "1.5.0",
      "_view_name": "ProgressView",
      "bar_style": "success",
      "description": "",
      "description_tooltip": null,
      "layout": "IPY_MODEL_7649a51bd21b4821be5ef5db01604a31",
      "max": 102482854,
      "min": 0,
      "orientation": "horizontal",
      "style": "IPY_MODEL_1387783c00034e349dd2d90b9e9b2ce2",
      "value": 102482854
     }
    },
    "7649a51bd21b4821be5ef5db01604a31": {
     "model_module": "@jupyter-widgets/base",
     "model_module_version": "1.2.0",
     "model_name": "LayoutModel",
     "state": {
      "_model_module": "@jupyter-widgets/base",
      "_model_module_version": "1.2.0",
      "_model_name": "LayoutModel",
      "_view_count": null,
      "_view_module": "@jupyter-widgets/base",
      "_view_module_version": "1.2.0",
      "_view_name": "LayoutView",
      "align_content": null,
      "align_items": null,
      "align_self": null,
      "border": null,
      "bottom": null,
      "display": null,
      "flex": null,
      "flex_flow": null,
      "grid_area": null,
      "grid_auto_columns": null,
      "grid_auto_flow": null,
      "grid_auto_rows": null,
      "grid_column": null,
      "grid_gap": null,
      "grid_row": null,
      "grid_template_areas": null,
      "grid_template_columns": null,
      "grid_template_rows": null,
      "height": null,
      "justify_content": null,
      "justify_items": null,
      "left": null,
      "margin": null,
      "max_height": null,
      "max_width": null,
      "min_height": null,
      "min_width": null,
      "object_fit": null,
      "object_position": null,
      "order": null,
      "overflow": null,
      "overflow_x": null,
      "overflow_y": null,
      "padding": null,
      "right": null,
      "top": null,
      "visibility": null,
      "width": null
     }
    },
    "76eeaec9c4fe4d6d80d0736d3494223b": {
     "model_module": "@jupyter-widgets/controls",
     "model_module_version": "1.5.0",
     "model_name": "FloatProgressModel",
     "state": {
      "_dom_classes": [],
      "_model_module": "@jupyter-widgets/controls",
      "_model_module_version": "1.5.0",
      "_model_name": "FloatProgressModel",
      "_view_count": null,
      "_view_module": "@jupyter-widgets/controls",
      "_view_module_version": "1.5.0",
      "_view_name": "ProgressView",
      "bar_style": "success",
      "description": "",
      "description_tooltip": null,
      "layout": "IPY_MODEL_21ba9b8cf1f8452897405db4c7c629a5",
      "max": 345579424,
      "min": 0,
      "orientation": "horizontal",
      "style": "IPY_MODEL_36a680053d784c58a121dd43bd8fa202",
      "value": 345579424
     }
    },
    "775c6aa5fcb64eb283b863c2870f929e": {
     "model_module": "@jupyter-widgets/controls",
     "model_module_version": "1.5.0",
     "model_name": "HTMLModel",
     "state": {
      "_dom_classes": [],
      "_model_module": "@jupyter-widgets/controls",
      "_model_module_version": "1.5.0",
      "_model_name": "HTMLModel",
      "_view_count": null,
      "_view_module": "@jupyter-widgets/controls",
      "_view_module_version": "1.5.0",
      "_view_name": "HTMLView",
      "description": "",
      "description_tooltip": null,
      "layout": "IPY_MODEL_2e54ee56b1cb4dcdad0e0fc15974fd2a",
      "placeholder": "​",
      "style": "IPY_MODEL_54ae52c4dad742bf97b830ecc5a137e7",
      "value": "config.json: 100%"
     }
    },
    "77715d5616ec4d46ae5d8d76d9a5524e": {
     "model_module": "@jupyter-widgets/controls",
     "model_module_version": "1.5.0",
     "model_name": "DescriptionStyleModel",
     "state": {
      "_model_module": "@jupyter-widgets/controls",
      "_model_module_version": "1.5.0",
      "_model_name": "DescriptionStyleModel",
      "_view_count": null,
      "_view_module": "@jupyter-widgets/base",
      "_view_module_version": "1.2.0",
      "_view_name": "StyleView",
      "description_width": ""
     }
    },
    "7777737f4e0f41778a084edcfe07023c": {
     "model_module": "@jupyter-widgets/controls",
     "model_module_version": "1.5.0",
     "model_name": "DescriptionStyleModel",
     "state": {
      "_model_module": "@jupyter-widgets/controls",
      "_model_module_version": "1.5.0",
      "_model_name": "DescriptionStyleModel",
      "_view_count": null,
      "_view_module": "@jupyter-widgets/base",
      "_view_module_version": "1.2.0",
      "_view_name": "StyleView",
      "description_width": ""
     }
    },
    "86868aa1c4f645eb9b5ea3e60df05ede": {
     "model_module": "@jupyter-widgets/controls",
     "model_module_version": "1.5.0",
     "model_name": "HBoxModel",
     "state": {
      "_dom_classes": [],
      "_model_module": "@jupyter-widgets/controls",
      "_model_module_version": "1.5.0",
      "_model_name": "HBoxModel",
      "_view_count": null,
      "_view_module": "@jupyter-widgets/controls",
      "_view_module_version": "1.5.0",
      "_view_name": "HBoxView",
      "box_style": "",
      "children": [
       "IPY_MODEL_775c6aa5fcb64eb283b863c2870f929e",
       "IPY_MODEL_27165d6ce42a4839b1ba3340300fc0dc",
       "IPY_MODEL_b708797946164b9a91f3b867e60f03eb"
      ],
      "layout": "IPY_MODEL_1baf5cf28f3b48b7817c2f0e76ef76d3"
     }
    },
    "870d4a4a675443a5ad19ca3cf3e41ee4": {
     "model_module": "@jupyter-widgets/base",
     "model_module_version": "1.2.0",
     "model_name": "LayoutModel",
     "state": {
      "_model_module": "@jupyter-widgets/base",
      "_model_module_version": "1.2.0",
      "_model_name": "LayoutModel",
      "_view_count": null,
      "_view_module": "@jupyter-widgets/base",
      "_view_module_version": "1.2.0",
      "_view_name": "LayoutView",
      "align_content": null,
      "align_items": null,
      "align_self": null,
      "border": null,
      "bottom": null,
      "display": null,
      "flex": null,
      "flex_flow": null,
      "grid_area": null,
      "grid_auto_columns": null,
      "grid_auto_flow": null,
      "grid_auto_rows": null,
      "grid_column": null,
      "grid_gap": null,
      "grid_row": null,
      "grid_template_areas": null,
      "grid_template_columns": null,
      "grid_template_rows": null,
      "height": null,
      "justify_content": null,
      "justify_items": null,
      "left": null,
      "margin": null,
      "max_height": null,
      "max_width": null,
      "min_height": null,
      "min_width": null,
      "object_fit": null,
      "object_position": null,
      "order": null,
      "overflow": null,
      "overflow_x": null,
      "overflow_y": null,
      "padding": null,
      "right": null,
      "top": null,
      "visibility": null,
      "width": null
     }
    },
    "8f5824a79336432c9ce7fe3a9a14087f": {
     "model_module": "@jupyter-widgets/base",
     "model_module_version": "1.2.0",
     "model_name": "LayoutModel",
     "state": {
      "_model_module": "@jupyter-widgets/base",
      "_model_module_version": "1.2.0",
      "_model_name": "LayoutModel",
      "_view_count": null,
      "_view_module": "@jupyter-widgets/base",
      "_view_module_version": "1.2.0",
      "_view_name": "LayoutView",
      "align_content": null,
      "align_items": null,
      "align_self": null,
      "border": null,
      "bottom": null,
      "display": null,
      "flex": null,
      "flex_flow": null,
      "grid_area": null,
      "grid_auto_columns": null,
      "grid_auto_flow": null,
      "grid_auto_rows": null,
      "grid_column": null,
      "grid_gap": null,
      "grid_row": null,
      "grid_template_areas": null,
      "grid_template_columns": null,
      "grid_template_rows": null,
      "height": null,
      "justify_content": null,
      "justify_items": null,
      "left": null,
      "margin": null,
      "max_height": null,
      "max_width": null,
      "min_height": null,
      "min_width": null,
      "object_fit": null,
      "object_position": null,
      "order": null,
      "overflow": null,
      "overflow_x": null,
      "overflow_y": null,
      "padding": null,
      "right": null,
      "top": null,
      "visibility": null,
      "width": null
     }
    },
    "965ad4593fd941598a85f6b4f9c7b127": {
     "model_module": "@jupyter-widgets/controls",
     "model_module_version": "1.5.0",
     "model_name": "HBoxModel",
     "state": {
      "_dom_classes": [],
      "_model_module": "@jupyter-widgets/controls",
      "_model_module_version": "1.5.0",
      "_model_name": "HBoxModel",
      "_view_count": null,
      "_view_module": "@jupyter-widgets/controls",
      "_view_module_version": "1.5.0",
      "_view_name": "HBoxView",
      "box_style": "",
      "children": [
       "IPY_MODEL_ca84b62eea08436d93ee4e8114f79123",
       "IPY_MODEL_72d0e1f42c564da8a65186e9f572ec88",
       "IPY_MODEL_acdd8dec1d134b30948e6e1575717941"
      ],
      "layout": "IPY_MODEL_8f5824a79336432c9ce7fe3a9a14087f"
     }
    },
    "9a602def96514659b80508e1adac7e44": {
     "model_module": "@jupyter-widgets/base",
     "model_module_version": "1.2.0",
     "model_name": "LayoutModel",
     "state": {
      "_model_module": "@jupyter-widgets/base",
      "_model_module_version": "1.2.0",
      "_model_name": "LayoutModel",
      "_view_count": null,
      "_view_module": "@jupyter-widgets/base",
      "_view_module_version": "1.2.0",
      "_view_name": "LayoutView",
      "align_content": null,
      "align_items": null,
      "align_self": null,
      "border": null,
      "bottom": null,
      "display": null,
      "flex": null,
      "flex_flow": null,
      "grid_area": null,
      "grid_auto_columns": null,
      "grid_auto_flow": null,
      "grid_auto_rows": null,
      "grid_column": null,
      "grid_gap": null,
      "grid_row": null,
      "grid_template_areas": null,
      "grid_template_columns": null,
      "grid_template_rows": null,
      "height": null,
      "justify_content": null,
      "justify_items": null,
      "left": null,
      "margin": null,
      "max_height": null,
      "max_width": null,
      "min_height": null,
      "min_width": null,
      "object_fit": null,
      "object_position": null,
      "order": null,
      "overflow": null,
      "overflow_x": null,
      "overflow_y": null,
      "padding": null,
      "right": null,
      "top": null,
      "visibility": null,
      "width": null
     }
    },
    "a36c41331df64655b80b6e70ed94cbca": {
     "model_module": "@jupyter-widgets/controls",
     "model_module_version": "1.5.0",
     "model_name": "DescriptionStyleModel",
     "state": {
      "_model_module": "@jupyter-widgets/controls",
      "_model_module_version": "1.5.0",
      "_model_name": "DescriptionStyleModel",
      "_view_count": null,
      "_view_module": "@jupyter-widgets/base",
      "_view_module_version": "1.2.0",
      "_view_name": "StyleView",
      "description_width": ""
     }
    },
    "a7bbf6088fcd4a3e9f620f3bafad91b0": {
     "model_module": "@jupyter-widgets/controls",
     "model_module_version": "1.5.0",
     "model_name": "ProgressStyleModel",
     "state": {
      "_model_module": "@jupyter-widgets/controls",
      "_model_module_version": "1.5.0",
      "_model_name": "ProgressStyleModel",
      "_view_count": null,
      "_view_module": "@jupyter-widgets/base",
      "_view_module_version": "1.2.0",
      "_view_name": "StyleView",
      "bar_color": null,
      "description_width": ""
     }
    },
    "a8c541a6165b4adcaa4897ed056d07c2": {
     "model_module": "@jupyter-widgets/base",
     "model_module_version": "1.2.0",
     "model_name": "LayoutModel",
     "state": {
      "_model_module": "@jupyter-widgets/base",
      "_model_module_version": "1.2.0",
      "_model_name": "LayoutModel",
      "_view_count": null,
      "_view_module": "@jupyter-widgets/base",
      "_view_module_version": "1.2.0",
      "_view_name": "LayoutView",
      "align_content": null,
      "align_items": null,
      "align_self": null,
      "border": null,
      "bottom": null,
      "display": null,
      "flex": null,
      "flex_flow": null,
      "grid_area": null,
      "grid_auto_columns": null,
      "grid_auto_flow": null,
      "grid_auto_rows": null,
      "grid_column": null,
      "grid_gap": null,
      "grid_row": null,
      "grid_template_areas": null,
      "grid_template_columns": null,
      "grid_template_rows": null,
      "height": null,
      "justify_content": null,
      "justify_items": null,
      "left": null,
      "margin": null,
      "max_height": null,
      "max_width": null,
      "min_height": null,
      "min_width": null,
      "object_fit": null,
      "object_position": null,
      "order": null,
      "overflow": null,
      "overflow_x": null,
      "overflow_y": null,
      "padding": null,
      "right": null,
      "top": null,
      "visibility": null,
      "width": null
     }
    },
    "acdd8dec1d134b30948e6e1575717941": {
     "model_module": "@jupyter-widgets/controls",
     "model_module_version": "1.5.0",
     "model_name": "HTMLModel",
     "state": {
      "_dom_classes": [],
      "_model_module": "@jupyter-widgets/controls",
      "_model_module_version": "1.5.0",
      "_model_name": "HTMLModel",
      "_view_count": null,
      "_view_module": "@jupyter-widgets/controls",
      "_view_module_version": "1.5.0",
      "_view_name": "HTMLView",
      "description": "",
      "description_tooltip": null,
      "layout": "IPY_MODEL_1a25c152367c40f5b676ef7d122c6960",
      "placeholder": "​",
      "style": "IPY_MODEL_12224cc35633438abf3714fa8ce4baef",
      "value": " 102M/102M [00:00&lt;00:00, 382MB/s]"
     }
    },
    "afc59c8459714c7ebceafca4ceeebbe7": {
     "model_module": "@jupyter-widgets/base",
     "model_module_version": "1.2.0",
     "model_name": "LayoutModel",
     "state": {
      "_model_module": "@jupyter-widgets/base",
      "_model_module_version": "1.2.0",
      "_model_name": "LayoutModel",
      "_view_count": null,
      "_view_module": "@jupyter-widgets/base",
      "_view_module_version": "1.2.0",
      "_view_name": "LayoutView",
      "align_content": null,
      "align_items": null,
      "align_self": null,
      "border": null,
      "bottom": null,
      "display": null,
      "flex": null,
      "flex_flow": null,
      "grid_area": null,
      "grid_auto_columns": null,
      "grid_auto_flow": null,
      "grid_auto_rows": null,
      "grid_column": null,
      "grid_gap": null,
      "grid_row": null,
      "grid_template_areas": null,
      "grid_template_columns": null,
      "grid_template_rows": null,
      "height": null,
      "justify_content": null,
      "justify_items": null,
      "left": null,
      "margin": null,
      "max_height": null,
      "max_width": null,
      "min_height": null,
      "min_width": null,
      "object_fit": null,
      "object_position": null,
      "order": null,
      "overflow": null,
      "overflow_x": null,
      "overflow_y": null,
      "padding": null,
      "right": null,
      "top": null,
      "visibility": null,
      "width": null
     }
    },
    "b1712e1abaef479abacfad10e4a387ae": {
     "model_module": "@jupyter-widgets/controls",
     "model_module_version": "1.5.0",
     "model_name": "HBoxModel",
     "state": {
      "_dom_classes": [],
      "_model_module": "@jupyter-widgets/controls",
      "_model_module_version": "1.5.0",
      "_model_name": "HBoxModel",
      "_view_count": null,
      "_view_module": "@jupyter-widgets/controls",
      "_view_module_version": "1.5.0",
      "_view_name": "HBoxView",
      "box_style": "",
      "children": [
       "IPY_MODEL_0fce1e4c9411451d90d31c08bc74eaee",
       "IPY_MODEL_76eeaec9c4fe4d6d80d0736d3494223b",
       "IPY_MODEL_c2c55352e9894d44a501e2bb03dda653"
      ],
      "layout": "IPY_MODEL_3ae20d55bf9c41448132aa2266e5c594"
     }
    },
    "b492b95eee9c48dd98299336a5188b4d": {
     "model_module": "@jupyter-widgets/base",
     "model_module_version": "1.2.0",
     "model_name": "LayoutModel",
     "state": {
      "_model_module": "@jupyter-widgets/base",
      "_model_module_version": "1.2.0",
      "_model_name": "LayoutModel",
      "_view_count": null,
      "_view_module": "@jupyter-widgets/base",
      "_view_module_version": "1.2.0",
      "_view_name": "LayoutView",
      "align_content": null,
      "align_items": null,
      "align_self": null,
      "border": null,
      "bottom": null,
      "display": null,
      "flex": null,
      "flex_flow": null,
      "grid_area": null,
      "grid_auto_columns": null,
      "grid_auto_flow": null,
      "grid_auto_rows": null,
      "grid_column": null,
      "grid_gap": null,
      "grid_row": null,
      "grid_template_areas": null,
      "grid_template_columns": null,
      "grid_template_rows": null,
      "height": null,
      "justify_content": null,
      "justify_items": null,
      "left": null,
      "margin": null,
      "max_height": null,
      "max_width": null,
      "min_height": null,
      "min_width": null,
      "object_fit": null,
      "object_position": null,
      "order": null,
      "overflow": null,
      "overflow_x": null,
      "overflow_y": null,
      "padding": null,
      "right": null,
      "top": null,
      "visibility": null,
      "width": null
     }
    },
    "b708797946164b9a91f3b867e60f03eb": {
     "model_module": "@jupyter-widgets/controls",
     "model_module_version": "1.5.0",
     "model_name": "HTMLModel",
     "state": {
      "_dom_classes": [],
      "_model_module": "@jupyter-widgets/controls",
      "_model_module_version": "1.5.0",
      "_model_name": "HTMLModel",
      "_view_count": null,
      "_view_module": "@jupyter-widgets/controls",
      "_view_module_version": "1.5.0",
      "_view_name": "HTMLView",
      "description": "",
      "description_tooltip": null,
      "layout": "IPY_MODEL_4a29a210623949c296b338e8605f19b1",
      "placeholder": "​",
      "style": "IPY_MODEL_c36f4b845f8f4051a65553653997304f",
      "value": " 69.6k/69.6k [00:00&lt;00:00, 5.28MB/s]"
     }
    },
    "b8c9fcf3dadd4550b815239fda943110": {
     "model_module": "@jupyter-widgets/controls",
     "model_module_version": "1.5.0",
     "model_name": "HTMLModel",
     "state": {
      "_dom_classes": [],
      "_model_module": "@jupyter-widgets/controls",
      "_model_module_version": "1.5.0",
      "_model_name": "HTMLModel",
      "_view_count": null,
      "_view_module": "@jupyter-widgets/controls",
      "_view_module_version": "1.5.0",
      "_view_name": "HTMLView",
      "description": "",
      "description_tooltip": null,
      "layout": "IPY_MODEL_dd6d8b702ccf4e269f5fc405ba0775ed",
      "placeholder": "​",
      "style": "IPY_MODEL_0641d642265b42a4a764db916b75daaa",
      "value": " 502/502 [00:00&lt;00:00, 43.0kB/s]"
     }
    },
    "c2c55352e9894d44a501e2bb03dda653": {
     "model_module": "@jupyter-widgets/controls",
     "model_module_version": "1.5.0",
     "model_name": "HTMLModel",
     "state": {
      "_dom_classes": [],
      "_model_module": "@jupyter-widgets/controls",
      "_model_module_version": "1.5.0",
      "_model_name": "HTMLModel",
      "_view_count": null,
      "_view_module": "@jupyter-widgets/controls",
      "_view_module_version": "1.5.0",
      "_view_name": "HTMLView",
      "description": "",
      "description_tooltip": null,
      "layout": "IPY_MODEL_098a600f92954454b98c71b20c4363cc",
      "placeholder": "​",
      "style": "IPY_MODEL_7777737f4e0f41778a084edcfe07023c",
      "value": " 346M/346M [00:00&lt;00:00, 502MB/s]"
     }
    },
    "c36f4b845f8f4051a65553653997304f": {
     "model_module": "@jupyter-widgets/controls",
     "model_module_version": "1.5.0",
     "model_name": "DescriptionStyleModel",
     "state": {
      "_model_module": "@jupyter-widgets/controls",
      "_model_module_version": "1.5.0",
      "_model_name": "DescriptionStyleModel",
      "_view_count": null,
      "_view_module": "@jupyter-widgets/base",
      "_view_module_version": "1.2.0",
      "_view_name": "StyleView",
      "description_width": ""
     }
    },
    "ca84b62eea08436d93ee4e8114f79123": {
     "model_module": "@jupyter-widgets/controls",
     "model_module_version": "1.5.0",
     "model_name": "HTMLModel",
     "state": {
      "_dom_classes": [],
      "_model_module": "@jupyter-widgets/controls",
      "_model_module_version": "1.5.0",
      "_model_name": "HTMLModel",
      "_view_count": null,
      "_view_module": "@jupyter-widgets/controls",
      "_view_module_version": "1.5.0",
      "_view_name": "HTMLView",
      "description": "",
      "description_tooltip": null,
      "layout": "IPY_MODEL_164d5cc43a86475c871516a68b9cb381",
      "placeholder": "​",
      "style": "IPY_MODEL_e32e3971275f4385b16790ad6240f556",
      "value": "model.safetensors: 100%"
     }
    },
    "d2adf52bb1164afda2e438182825686b": {
     "model_module": "@jupyter-widgets/base",
     "model_module_version": "1.2.0",
     "model_name": "LayoutModel",
     "state": {
      "_model_module": "@jupyter-widgets/base",
      "_model_module_version": "1.2.0",
      "_model_name": "LayoutModel",
      "_view_count": null,
      "_view_module": "@jupyter-widgets/base",
      "_view_module_version": "1.2.0",
      "_view_name": "LayoutView",
      "align_content": null,
      "align_items": null,
      "align_self": null,
      "border": null,
      "bottom": null,
      "display": null,
      "flex": null,
      "flex_flow": null,
      "grid_area": null,
      "grid_auto_columns": null,
      "grid_auto_flow": null,
      "grid_auto_rows": null,
      "grid_column": null,
      "grid_gap": null,
      "grid_row": null,
      "grid_template_areas": null,
      "grid_template_columns": null,
      "grid_template_rows": null,
      "height": null,
      "justify_content": null,
      "justify_items": null,
      "left": null,
      "margin": null,
      "max_height": null,
      "max_width": null,
      "min_height": null,
      "min_width": null,
      "object_fit": null,
      "object_position": null,
      "order": null,
      "overflow": null,
      "overflow_x": null,
      "overflow_y": null,
      "padding": null,
      "right": null,
      "top": null,
      "visibility": null,
      "width": null
     }
    },
    "dd6d8b702ccf4e269f5fc405ba0775ed": {
     "model_module": "@jupyter-widgets/base",
     "model_module_version": "1.2.0",
     "model_name": "LayoutModel",
     "state": {
      "_model_module": "@jupyter-widgets/base",
      "_model_module_version": "1.2.0",
      "_model_name": "LayoutModel",
      "_view_count": null,
      "_view_module": "@jupyter-widgets/base",
      "_view_module_version": "1.2.0",
      "_view_name": "LayoutView",
      "align_content": null,
      "align_items": null,
      "align_self": null,
      "border": null,
      "bottom": null,
      "display": null,
      "flex": null,
      "flex_flow": null,
      "grid_area": null,
      "grid_auto_columns": null,
      "grid_auto_flow": null,
      "grid_auto_rows": null,
      "grid_column": null,
      "grid_gap": null,
      "grid_row": null,
      "grid_template_areas": null,
      "grid_template_columns": null,
      "grid_template_rows": null,
      "height": null,
      "justify_content": null,
      "justify_items": null,
      "left": null,
      "margin": null,
      "max_height": null,
      "max_width": null,
      "min_height": null,
      "min_width": null,
      "object_fit": null,
      "object_position": null,
      "order": null,
      "overflow": null,
      "overflow_x": null,
      "overflow_y": null,
      "padding": null,
      "right": null,
      "top": null,
      "visibility": null,
      "width": null
     }
    },
    "e32e3971275f4385b16790ad6240f556": {
     "model_module": "@jupyter-widgets/controls",
     "model_module_version": "1.5.0",
     "model_name": "DescriptionStyleModel",
     "state": {
      "_model_module": "@jupyter-widgets/controls",
      "_model_module_version": "1.5.0",
      "_model_name": "DescriptionStyleModel",
      "_view_count": null,
      "_view_module": "@jupyter-widgets/base",
      "_view_module_version": "1.2.0",
      "_view_name": "StyleView",
      "description_width": ""
     }
    },
    "e48026a0bc7c4c08a4c717033c52d4e0": {
     "model_module": "@jupyter-widgets/controls",
     "model_module_version": "1.5.0",
     "model_name": "DescriptionStyleModel",
     "state": {
      "_model_module": "@jupyter-widgets/controls",
      "_model_module_version": "1.5.0",
      "_model_name": "DescriptionStyleModel",
      "_view_count": null,
      "_view_module": "@jupyter-widgets/base",
      "_view_module_version": "1.2.0",
      "_view_name": "StyleView",
      "description_width": ""
     }
    },
    "ec5f01fc759047468be0ce110b5637dc": {
     "model_module": "@jupyter-widgets/base",
     "model_module_version": "1.2.0",
     "model_name": "LayoutModel",
     "state": {
      "_model_module": "@jupyter-widgets/base",
      "_model_module_version": "1.2.0",
      "_model_name": "LayoutModel",
      "_view_count": null,
      "_view_module": "@jupyter-widgets/base",
      "_view_module_version": "1.2.0",
      "_view_name": "LayoutView",
      "align_content": null,
      "align_items": null,
      "align_self": null,
      "border": null,
      "bottom": null,
      "display": null,
      "flex": null,
      "flex_flow": null,
      "grid_area": null,
      "grid_auto_columns": null,
      "grid_auto_flow": null,
      "grid_auto_rows": null,
      "grid_column": null,
      "grid_gap": null,
      "grid_row": null,
      "grid_template_areas": null,
      "grid_template_columns": null,
      "grid_template_rows": null,
      "height": null,
      "justify_content": null,
      "justify_items": null,
      "left": null,
      "margin": null,
      "max_height": null,
      "max_width": null,
      "min_height": null,
      "min_width": null,
      "object_fit": null,
      "object_position": null,
      "order": null,
      "overflow": null,
      "overflow_x": null,
      "overflow_y": null,
      "padding": null,
      "right": null,
      "top": null,
      "visibility": null,
      "width": null
     }
    }
   }
  }
 },
 "nbformat": 4,
 "nbformat_minor": 4
}
