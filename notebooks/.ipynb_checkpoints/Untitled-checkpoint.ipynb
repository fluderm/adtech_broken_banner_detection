{
 "cells": [
  {
   "cell_type": "code",
   "execution_count": 1,
   "id": "889c6ff2-a835-4922-a012-43972ffe154a",
   "metadata": {
    "execution": {
     "iopub.execute_input": "2024-05-08T23:32:05.607463Z",
     "iopub.status.busy": "2024-05-08T23:32:05.606541Z",
     "iopub.status.idle": "2024-05-08T23:32:10.554805Z",
     "shell.execute_reply": "2024-05-08T23:32:10.552550Z",
     "shell.execute_reply.started": "2024-05-08T23:32:05.607356Z"
    }
   },
   "outputs": [],
   "source": [
    "from pyspark.sql import SparkSessions\n"
   ]
  },
  {
   "cell_type": "code",
   "execution_count": 4,
   "id": "e61cc25e-e2b0-4801-b760-5c7b0249ac14",
   "metadata": {
    "execution": {
     "iopub.execute_input": "2024-05-08T23:33:04.173724Z",
     "iopub.status.busy": "2024-05-08T23:33:04.172980Z",
     "iopub.status.idle": "2024-05-08T23:33:04.179028Z",
     "shell.execute_reply": "2024-05-08T23:33:04.177503Z",
     "shell.execute_reply.started": "2024-05-08T23:33:04.173683Z"
    }
   },
   "outputs": [],
   "source": [
    "import pyspark"
   ]
  },
  {
   "cell_type": "code",
   "execution_count": 6,
   "id": "7702c011-3d1a-4547-8833-405276a635c0",
   "metadata": {
    "execution": {
     "iopub.execute_input": "2024-05-08T23:33:11.383259Z",
     "iopub.status.busy": "2024-05-08T23:33:11.382545Z",
     "iopub.status.idle": "2024-05-08T23:33:11.410408Z",
     "shell.execute_reply": "2024-05-08T23:33:11.409460Z",
     "shell.execute_reply.started": "2024-05-08T23:33:11.383220Z"
    },
    "scrolled": true
   },
   "outputs": [
    {
     "ename": "AttributeError",
     "evalue": "module 'pyspark' has no attribute 'read'",
     "output_type": "error",
     "traceback": [
      "\u001b[0;31m---------------------------------------------------------------------------\u001b[0m",
      "\u001b[0;31mAttributeError\u001b[0m                            Traceback (most recent call last)",
      "Cell \u001b[0;32mIn[6], line 1\u001b[0m\n\u001b[0;32m----> 1\u001b[0m strings\u001b[38;5;241m=\u001b[39m\u001b[43mpyspark\u001b[49m\u001b[38;5;241;43m.\u001b[39;49m\u001b[43mread\u001b[49m\u001b[38;5;241m.\u001b[39mtext(\u001b[38;5;124m'\u001b[39m\u001b[38;5;124m../README.md\u001b[39m\u001b[38;5;124m'\u001b[39m)\n",
      "\u001b[0;31mAttributeError\u001b[0m: module 'pyspark' has no attribute 'read'"
     ]
    }
   ],
   "source": [
    "strings=pyspark.read.text('../README.md')"
   ]
  },
  {
   "cell_type": "markdown",
   "id": "62319881-8b95-4a4f-bd6a-ce0d101f9505",
   "metadata": {
    "jp-MarkdownHeadingCollapsed": true
   },
   "source": [
    "## Time evolution (max diff between start and end)"
   ]
  },
  {
   "cell_type": "markdown",
   "id": "fca4cc5b-3914-42cf-9070-7249eebe5776",
   "metadata": {},
   "source": [
    "# Some stuff"
   ]
  },
  {
   "cell_type": "code",
   "execution_count": null,
   "id": "c1495293-24a6-4b99-a6a2-f1571f9f44d9",
   "metadata": {},
   "outputs": [],
   "source": []
  },
  {
   "cell_type": "code",
   "execution_count": null,
   "id": "88a82817-8d24-4cf6-bb48-2334a5a77f7f",
   "metadata": {},
   "outputs": [],
   "source": [
    "for (dh,dw,g_id,dom) in [(360, 640, 333372, 'ID_9032')]:\n",
    "    print((dh,dw,g_id,dom))\n",
    "    gid= g_id\n",
    "    \n",
    "    example = data_heatmap_ts[(data_heatmap_ts.grid_id==gid) & (data_heatmap_ts.domain==dom)\n",
    "                    & (data_heatmap_ts.display_height==dh) & (data_heatmap_ts.display_width==dw)].copy().reset_index()\n",
    "    \n",
    "    example = example.sort_values(by='timestamp').reset_index()\n",
    "    example['click_x1'] = (example.click_x/dw*(dw//5)).astype(int)\n",
    "    example['click_y1'] = (example.click_y/dh*(dh//5)).astype(int)\n",
    "    print('click number',example.clicks.sum())\n",
    "    \n",
    "    plt.axhline(y=-4.540, color='red', linestyle='--')\n",
    "    rolling[(dh,dw,g_id,dom)].plot(linewidth = '.75')\n",
    "    rolling[(dh,dw,g_id,dom)].rolling(window=120).mean().shift(-60).plot(linewidth = '2.5')\n",
    "    plt.grid()\n",
    "    plt.title(f'Evolution of LR by timestamped clicks')\n",
    "    plt.xlabel('click number')\n",
    "    plt.ylabel('LR')\n",
    "    # plt.savefig(f'asdf')\n",
    "\n",
    "    \n",
    "    ex = np.arange(0, example.shape[0], 100, dtype=int)\n",
    "\n",
    "    nr_pics = example.clicks.sum()//200+1\n",
    "    fig, axes = plt.subplots(1,nr_pics, figsize=(nr_pics*dw//50,dh//50)) \n",
    "    fig.suptitle(f'Grid = {gid}, Dom = {dom}, (height,width): {dh,dw}')\n",
    "    \n",
    "    i, j = 0, 3\n",
    "    \n",
    "    for ax_idx, ax in enumerate(axes.flat):\n",
    "        if j-1 < ex.shape[0]:\n",
    "            cli = ex[i]\n",
    "            if j >= len(ex):\n",
    "                clj = example.shape[0]\n",
    "            else:\n",
    "                clj = ex[j]\n",
    "            i += 2\n",
    "            j += 2\n",
    "            \n",
    "            click_matrix = example.iloc[cli:clj].groupby(['click_x1', 'click_y1']).clicks.sum().reset_index().pivot(\n",
    "                \"click_y1\", \"click_x1\", \"clicks\").fillna(0)\n",
    "    \n",
    "            sns.heatmap(click_matrix, cmap=\"YlGnBu\", \n",
    "                        annot=False, cbar=True, fmt=\"g\", ax=ax)\n",
    "            ax.set_title(f'Clicks {cli} to {clj}')\n",
    "            ax.set_xlabel('x bin')\n",
    "            ax.set_ylabel('y bin')\n",
    "            ax.invert_yaxis()\n",
    "            \n",
    "        else:\n",
    "            ax.axis('off')\n",
    "    \n",
    "    plt.tight_layout()\n",
    "    plt.savefig(f'asdf_1')\n",
    "    plt.show()\n"
   ]
  },
  {
   "cell_type": "code",
   "execution_count": null,
   "id": "54b5b642-4190-4754-97ed-226a4ab54e96",
   "metadata": {},
   "outputs": [],
   "source": [
    "for (dh,dw,g_id,dom) in [(360, 640, 333372, 'ID_9032')]:\n",
    "    print((dh,dw,g_id,dom))\n",
    "    gid= g_id\n",
    "    \n",
    "    example = data_heatmap_ts[(data_heatmap_ts.grid_id==gid) & (data_heatmap_ts.domain==dom)\n",
    "                    & (data_heatmap_ts.display_height==dh) & (data_heatmap_ts.display_width==dw)].copy().reset_index()\n",
    "    example = example.sort_values(by='timestamp').reset_index()\n",
    "    example['click_x1'] = (example.click_x/example.display_width*50).astype(int)\n",
    "    example['click_y1'] = (example.click_y/example.display_height*50).astype(int)\n",
    "\n",
    "    ex = np.arange(0, example.shape[0], 100, dtype=int)\n",
    "\n",
    "    i, j = 0, 2\n",
    "    \n",
    "    for k in range(example.clicks.sum()//100):    \n",
    "        cli = ex[i]\n",
    "        if j >= len(ex):\n",
    "            clj = example.shape[0]\n",
    "        else:\n",
    "            clj = ex[j]\n",
    "        i += 1\n",
    "        j += 1\n",
    "        \n",
    "        click_matrix = example.iloc[cli:clj].groupby(['click_x1', 'click_y1']).clicks.sum().reset_index().pivot(\n",
    "            \"click_y1\", \"click_x1\", \"clicks\").fillna(0)\n",
    "\n",
    "        plt.figure(figsize=(dh//50,dw//50))\n",
    "        sns.heatmap(click_matrix, \n",
    "                    cmap = \"YlGnBu\", \n",
    "                    annot = False, \n",
    "                    cbar = True, \n",
    "                    fmt = \"g\")\n",
    "        plt.title(f'(grid_id, domain, dh, dw): ({g_id}, {dom}, {dh}, {dw}), Click Nr: {example.clicks.sum()}')\n",
    "        plt.xlabel('x bin')\n",
    "        plt.ylabel('y bin')\n",
    "        plt.gca().invert_yaxis() \n",
    "        plt.savefig(f'asdf_{k}')\n",
    "        \n",
    "        plt.show()"
   ]
  }
 ],
 "metadata": {
  "kernelspec": {
   "display_name": "Python 3 (ipykernel)",
   "language": "python",
   "name": "python3"
  },
  "language_info": {
   "codemirror_mode": {
    "name": "ipython",
    "version": 3
   },
   "file_extension": ".py",
   "mimetype": "text/x-python",
   "name": "python",
   "nbconvert_exporter": "python",
   "pygments_lexer": "ipython3",
   "version": "3.8.2"
  }
 },
 "nbformat": 4,
 "nbformat_minor": 5
}
