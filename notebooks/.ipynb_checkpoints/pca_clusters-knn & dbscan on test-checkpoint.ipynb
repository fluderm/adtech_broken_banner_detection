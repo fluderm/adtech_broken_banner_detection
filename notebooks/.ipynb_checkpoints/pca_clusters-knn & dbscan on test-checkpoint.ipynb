{
 "cells": [
  {
   "cell_type": "code",
   "execution_count": 56,
   "id": "85d24ed5",
   "metadata": {},
   "outputs": [],
   "source": [
    "import pandas as pd\n",
    "import numpy as np\n",
    "import matplotlib.pyplot as plt\n",
    "import seaborn as sns\n",
    "\n",
    "# be careful with that:\n",
    "import warnings\n",
    "warnings.filterwarnings('ignore')\n",
    "\n",
    "from sklearn import tree\n",
    "from sklearn.ensemble import RandomForestClassifier\n",
    "from sklearn.datasets import make_classification\n",
    "\n",
    "from sklearn.decomposition import PCA\n",
    "\n",
    "from sklearn.model_selection import train_test_split, RandomizedSearchCV\n",
    "from sklearn.preprocessing import StandardScaler\n",
    "from sklearn.pipeline import Pipeline\n",
    "from sklearn.preprocessing import PolynomialFeatures\n",
    "\n",
    "\n",
    "from sklearn.linear_model import LogisticRegression\n",
    "\n",
    "\n",
    "from sklearn.neighbors import KNeighborsClassifier\n",
    "from sklearn.neighbors import NearestNeighbors\n",
    "from sklearn.metrics import confusion_matrix, accuracy_score, f1_score\n",
    "\n",
    "from sklearn.cluster import KMeans\n",
    "from sklearn.cluster import DBSCAN\n",
    "\n",
    "from sklearn.ensemble import IsolationForest\n",
    "\n",
    "\n",
    "from sklearn.metrics import classification_report, confusion_matrix, accuracy_score, confusion_matrix, recall_score\n",
    "from sklearn.metrics import roc_auc_score, roc_curve, adjusted_rand_score, precision_recall_curve, precision_score\n",
    "\n",
    "from sklearn.svm import OneClassSVM\n",
    "\n",
    "from scipy.stats import uniform, chisquare, binomtest\n",
    "\n",
    "from itertools import product\n",
    "\n",
    "from IPython.display import clear_output\n"
   ]
  },
  {
   "cell_type": "code",
   "execution_count": 57,
   "id": "4ba00945",
   "metadata": {},
   "outputs": [
    {
     "name": "stdout",
     "output_type": "stream",
     "text": [
      "Grid ID:  333346\r\n",
      "Nb components:  200\r\n",
      "Data directory:  ../datasets/train/data_heatmap_train.csv\r\n"
     ]
    }
   ],
   "source": [
    "!python3 pca_pipeline.py 333346 200 '../datasets/train/data_heatmap_train.csv'\n",
    "grid_id = 333346\n",
    "\n",
    "import pandas as pd\n",
    "pca_df = pd.read_csv('temp/pca_df.csv')\n",
    "normalized_input = pd.read_csv('temp/normalized_input.csv')\n",
    "# X_train = normalized_input.iloc[:,2:-1]\n",
    "# y_train = normalized_input.iloc[:,-1]"
   ]
  },
  {
   "cell_type": "code",
   "execution_count": 58,
   "id": "e5425ede",
   "metadata": {},
   "outputs": [],
   "source": [
    "pca_df = pca_df.iloc[:,1:]\n",
    "y = pca_df[['label']]\n",
    "actual_labels = y['label'].values\n",
    "pca_df_inp = pca_df.iloc[:,:-2]"
   ]
  },
  {
   "cell_type": "code",
   "execution_count": null,
   "id": "4fb0d316",
   "metadata": {},
   "outputs": [],
   "source": []
  },
  {
   "cell_type": "markdown",
   "id": "892686ea",
   "metadata": {},
   "source": [
    "# KNN - Grid id 333346 "
   ]
  },
  {
   "cell_type": "code",
   "execution_count": 59,
   "id": "1dc41a51",
   "metadata": {},
   "outputs": [
    {
     "name": "stdout",
     "output_type": "stream",
     "text": [
      "Confusion matrix for 2 PCA dimensions, 90 threshold and 1-NN:\n",
      "  [[523   0]\n",
      " [ 79   0]]\n",
      "Accuracy for 2 PCA dimensions, 90 threshold and 1-NN:  0.87\n",
      "F1 Score for 2 PCA dimensions, 90 threshold and 1-NN:  0.00\n",
      "---------\n",
      "Confusion matrix for 2 PCA dimensions, 90 threshold and 2-NN:\n",
      "  [[504  19]\n",
      " [ 37  42]]\n",
      "Accuracy for 2 PCA dimensions, 90 threshold and 2-NN:  0.91\n",
      "F1 Score for 2 PCA dimensions, 90 threshold and 2-NN:  0.60\n",
      "---------\n",
      "Confusion matrix for 2 PCA dimensions, 90 threshold and 5-NN:\n",
      "  [[507  16]\n",
      " [ 34  45]]\n",
      "Accuracy for 2 PCA dimensions, 90 threshold and 5-NN:  0.92\n",
      "F1 Score for 2 PCA dimensions, 90 threshold and 5-NN:  0.64\n",
      "---------\n",
      "Confusion matrix for 2 PCA dimensions, 90 threshold and 10-NN:\n",
      "  [[509  14]\n",
      " [ 32  47]]\n",
      "Accuracy for 2 PCA dimensions, 90 threshold and 10-NN:  0.92\n",
      "F1 Score for 2 PCA dimensions, 90 threshold and 10-NN:  0.67\n",
      "---------\n",
      "Confusion matrix for 4 PCA dimensions, 90 threshold and 2-NN:\n",
      "  [[511  12]\n",
      " [ 30  49]]\n",
      "Accuracy for 4 PCA dimensions, 90 threshold and 2-NN:  0.93\n",
      "F1 Score for 4 PCA dimensions, 90 threshold and 2-NN:  0.70\n",
      "---------\n",
      "Confusion matrix for 4 PCA dimensions, 90 threshold and 5-NN:\n",
      "  [[514   9]\n",
      " [ 27  52]]\n",
      "Accuracy for 4 PCA dimensions, 90 threshold and 5-NN:  0.94\n",
      "F1 Score for 4 PCA dimensions, 90 threshold and 5-NN:  0.74\n",
      "---------\n",
      "Confusion matrix for 4 PCA dimensions, 90 threshold and 10-NN:\n",
      "  [[516   7]\n",
      " [ 25  54]]\n",
      "Accuracy for 4 PCA dimensions, 90 threshold and 10-NN:  0.95\n",
      "F1 Score for 4 PCA dimensions, 90 threshold and 10-NN:  0.77\n",
      "---------\n",
      "Confusion matrix for 6 PCA dimensions, 90 threshold and 10-NN:\n",
      "  [[518   5]\n",
      " [ 23  56]]\n",
      "Accuracy for 6 PCA dimensions, 90 threshold and 10-NN:  0.95\n",
      "F1 Score for 6 PCA dimensions, 90 threshold and 10-NN:  0.80\n",
      "---------\n"
     ]
    }
   ],
   "source": [
    "\n",
    "kchoices = [1,2,5,10]\n",
    "thres    = [90, 95, 99]\n",
    "\n",
    "best_acc = -float('inf')\n",
    "best_dim = -1\n",
    "for pca_dim in np.linspace(2,200,100).astype(int):\n",
    "    for ks in kchoices:\n",
    "        for an_thres in thres:\n",
    "            \n",
    "            X   = pca_df_inp.iloc[:,:pca_dim]\n",
    "            knn = NearestNeighbors(n_neighbors = ks, \n",
    "                                   algorithm = 'auto', \n",
    "                                   metric = 'euclidean')\n",
    "\n",
    "            knn_fit = knn.fit(X)\n",
    "            actual_labels = y['label'].values\n",
    "\n",
    "            distances, indices = knn.kneighbors(X)\n",
    "            anomaly_scores = distances.mean(axis=1)\n",
    "\n",
    "            threshold  = np.percentile(anomaly_scores, an_thres)\n",
    "            knn_labels = anomaly_scores > threshold\n",
    "\n",
    "            conf_mat = confusion_matrix(actual_labels,knn_labels)\n",
    "            acc        = accuracy_score(actual_labels,knn_labels)\n",
    "            f1         = f1_score(actual_labels, knn_labels)\n",
    "            \n",
    "            if acc > best_acc:\n",
    "                best_knn_labels = knn_labels\n",
    "                best_acc = acc\n",
    "                best_f1 = f1\n",
    "                best_dim = pca_dim\n",
    "                print(f'Confusion matrix for {pca_dim} PCA dimensions, {an_thres} threshold and {ks}-NN:\\n', \n",
    "                      f' {conf_mat}')\n",
    "                print(f'Accuracy for {pca_dim} PCA dimensions, {an_thres} threshold and {ks}-NN:', \n",
    "                      f' {acc:.2f}')\n",
    "                print(f'F1 Score for {pca_dim} PCA dimensions, {an_thres} threshold and {ks}-NN:', \n",
    "                      f' {f1:.2f}')\n",
    "                print(f'---------')\n"
   ]
  },
  {
   "cell_type": "code",
   "execution_count": 60,
   "id": "70a3dd1c",
   "metadata": {},
   "outputs": [
    {
     "data": {
      "image/png": "[encoded data removed]",
      "text/plain": [
       "<Figure size 1200x600 with 2 Axes>"
      ]
     },
     "metadata": {},
     "output_type": "display_data"
    }
   ],
   "source": [
    "plt.figure(figsize=(12, 6))\n",
    "plt.subplot(1, 2, 1)\n",
    "\n",
    "sns.scatterplot(x=X.iloc[:, 0], \n",
    "                y=X.iloc[:, 1], \n",
    "                hue=actual_labels, \n",
    "                style=actual_labels, \n",
    "                palette='viridis')\n",
    "plt.title('Actual Labels')\n",
    "\n",
    "plt.subplot(1, 2, 2)\n",
    "sns.scatterplot(x=X.iloc[:, 0], \n",
    "                y=X.iloc[:, 1], \n",
    "                hue=knn_labels, \n",
    "                style=knn_labels, \n",
    "                palette='viridis')\n",
    "plt.title('KMeans Clustering Result')\n",
    "plt.show()"
   ]
  },
  {
   "cell_type": "code",
   "execution_count": null,
   "id": "9f8c7fcc",
   "metadata": {},
   "outputs": [],
   "source": []
  },
  {
   "cell_type": "markdown",
   "id": "3c8fb60e",
   "metadata": {},
   "source": [
    "# DBScan - Grid id 333346"
   ]
  },
  {
   "cell_type": "code",
   "execution_count": 61,
   "id": "4243880c",
   "metadata": {},
   "outputs": [],
   "source": [
    "#dbscan = DBSCAN(eps = 50, \n",
    "#                min_samples = 3)\n",
    "\n",
    "#dbscan_labels = dbscan.fit_predict(X)\n",
    "\n",
    "#actual_labels = y['label'].values\n",
    "#ari_score = adjusted_rand_score(actual_labels, dbscan_labels)\n",
    "#print(f\"Adjusted Rand Index (ARI) score: {ari_score}\")\n",
    "\n",
    "#sns.set_context(\"talk\")\n",
    "#plt.figure(figsize=(12, 6))\n",
    "\n",
    "#plt.subplot(1, 2, 1)\n",
    "#sns.scatterplot(x=X.iloc[:, 0], \n",
    "#                y=X.iloc[:, 1], \n",
    "#                hue=actual_labels, \n",
    "#                style=actual_labels, \n",
    "#                palette='viridis')\n",
    "#plt.title('Actual Labels')\n",
    "\n",
    "#plt.subplot(1, 2, 2)\n",
    "#sns.scatterplot(x=X.iloc[:, 0], \n",
    "#                y=X.iloc[:, 1], \n",
    "#                hue=dbscan_labels, \n",
    "#                style=dbscan_labels, \n",
    "#                palette='viridis')\n",
    "#plt.title('DBSCAN Clustering Result')\n",
    "#plt.show()"
   ]
  },
  {
   "cell_type": "code",
   "execution_count": 62,
   "id": "93aa4c29",
   "metadata": {},
   "outputs": [
    {
     "name": "stdout",
     "output_type": "stream",
     "text": [
      "Confusion matrix for 2 PCA dimensions, Epsilon=5, Min_samples=2:\n",
      "  [[523   0]\n",
      " [ 75   4]]\n",
      "F1 Score for 2 PCA dimensions, Epsilon=5, Min_samples=2:  0.10\n",
      "Accuracy for 2 PCA dimensions, Epsilon=5, Min_samples=2:  0.88\n",
      "---------\n",
      "Confusion matrix for 2 PCA dimensions, Epsilon=5, Min_samples=3:\n",
      "  [[523   0]\n",
      " [ 73   6]]\n",
      "F1 Score for 2 PCA dimensions, Epsilon=5, Min_samples=3:  0.14\n",
      "Accuracy for 2 PCA dimensions, Epsilon=5, Min_samples=3:  0.88\n",
      "---------\n",
      "Confusion matrix for 2 PCA dimensions, Epsilon=5, Min_samples=5:\n",
      "  [[523   0]\n",
      " [ 65  14]]\n",
      "F1 Score for 2 PCA dimensions, Epsilon=5, Min_samples=5:  0.30\n",
      "Accuracy for 2 PCA dimensions, Epsilon=5, Min_samples=5:  0.89\n",
      "---------\n",
      "Confusion matrix for 2 PCA dimensions, Epsilon=5, Min_samples=10:\n",
      "  [[523   0]\n",
      " [ 62  17]]\n",
      "F1 Score for 2 PCA dimensions, Epsilon=5, Min_samples=10:  0.35\n",
      "Accuracy for 2 PCA dimensions, Epsilon=5, Min_samples=10:  0.90\n",
      "---------\n",
      "Confusion matrix for 4 PCA dimensions, Epsilon=5, Min_samples=5:\n",
      "  [[522   1]\n",
      " [ 54  25]]\n",
      "F1 Score for 4 PCA dimensions, Epsilon=5, Min_samples=5:  0.48\n",
      "Accuracy for 4 PCA dimensions, Epsilon=5, Min_samples=5:  0.91\n",
      "---------\n",
      "Confusion matrix for 4 PCA dimensions, Epsilon=5, Min_samples=10:\n",
      "  [[522   1]\n",
      " [ 52  27]]\n",
      "F1 Score for 4 PCA dimensions, Epsilon=5, Min_samples=10:  0.50\n",
      "Accuracy for 4 PCA dimensions, Epsilon=5, Min_samples=10:  0.91\n",
      "---------\n",
      "Confusion matrix for 6 PCA dimensions, Epsilon=5, Min_samples=3:\n",
      "  [[515   8]\n",
      " [ 39  40]]\n",
      "F1 Score for 6 PCA dimensions, Epsilon=5, Min_samples=3:  0.63\n",
      "Accuracy for 6 PCA dimensions, Epsilon=5, Min_samples=3:  0.92\n",
      "---------\n",
      "Confusion matrix for 6 PCA dimensions, Epsilon=5, Min_samples=4:\n",
      "  [[515   8]\n",
      " [ 31  48]]\n",
      "F1 Score for 6 PCA dimensions, Epsilon=5, Min_samples=4:  0.71\n",
      "Accuracy for 6 PCA dimensions, Epsilon=5, Min_samples=4:  0.94\n",
      "---------\n",
      "Confusion matrix for 6 PCA dimensions, Epsilon=5, Min_samples=5:\n",
      "  [[515   8]\n",
      " [ 19  60]]\n",
      "F1 Score for 6 PCA dimensions, Epsilon=5, Min_samples=5:  0.82\n",
      "Accuracy for 6 PCA dimensions, Epsilon=5, Min_samples=5:  0.96\n",
      "---------\n",
      "Confusion matrix for 6 PCA dimensions, Epsilon=5, Min_samples=10:\n",
      "  [[514   9]\n",
      " [  1  78]]\n",
      "F1 Score for 6 PCA dimensions, Epsilon=5, Min_samples=10:  0.94\n",
      "Accuracy for 6 PCA dimensions, Epsilon=5, Min_samples=10:  0.98\n",
      "---------\n",
      "Confusion matrix for 12 PCA dimensions, Epsilon=10, Min_samples=10:\n",
      "  [[518   5]\n",
      " [  4  75]]\n",
      "F1 Score for 12 PCA dimensions, Epsilon=10, Min_samples=10:  0.94\n",
      "Accuracy for 12 PCA dimensions, Epsilon=10, Min_samples=10:  0.99\n",
      "---------\n"
     ]
    }
   ],
   "source": [
    "pca_df_inp = pca_df.iloc[:,:-2]\n",
    "epsilons = [5,10,20,30,40,50,60,70,80,90,100]\n",
    "min_samps = [2,3,4,5,10]\n",
    "\n",
    "best_acc = -float('inf')\n",
    "best_dim = -1\n",
    "best_recall = -1\n",
    "best_prec = -1\n",
    "\n",
    "for pca_dim in np.linspace(2,200,100).astype(int):\n",
    "    for eps in epsilons:\n",
    "        for ms in min_samps:\n",
    "\n",
    "            X   = pca_df_inp.iloc[:,:pca_dim]\n",
    "\n",
    "            dbscan = DBSCAN(eps = eps, \n",
    "                        min_samples = ms)\n",
    "            dbscan_labels = dbscan.fit_predict(X)\n",
    "            dbscan_labels = np.where(dbscan_labels>=0, 0, 1)\n",
    "\n",
    "            conf_mat   = confusion_matrix(actual_labels,dbscan_labels)\n",
    "            acc        = accuracy_score(actual_labels,dbscan_labels)\n",
    "            recall     = recall_score(actual_labels,dbscan_labels)\n",
    "            prec       = precision_score(actual_labels,dbscan_labels)\n",
    "            f1         = f1_score(actual_labels, dbscan_labels)\n",
    "\n",
    "            if acc > best_acc:\n",
    "                best_acc = acc\n",
    "                best_dim = pca_dim\n",
    "                best_recall  = recall\n",
    "                best_prec = prec\n",
    "                best_f1 = f1\n",
    "                best_dbscan_labels = dbscan_labels\n",
    "                print(f'Confusion matrix for {pca_dim} PCA dimensions, Epsilon={eps}, Min_samples={ms}:\\n', \n",
    "                      f' {conf_mat}')\n",
    "                print(f'F1 Score for {pca_dim} PCA dimensions, Epsilon={eps}, Min_samples={ms}:', \n",
    "                      f' {f1:.2f}')\n",
    "                print(f'Accuracy for {pca_dim} PCA dimensions, Epsilon={eps}, Min_samples={ms}:', \n",
    "                      f' {acc:.2f}')\n",
    "                print(f'---------')"
   ]
  },
  {
   "cell_type": "code",
   "execution_count": 63,
   "id": "c6da721e",
   "metadata": {},
   "outputs": [],
   "source": [
    "# plt.figure(figsize=(12, 6))\n",
    "# plt.subplot(1, 2, 1)\n",
    "\n",
    "# sns.scatterplot(x=X.iloc[:, 0], \n",
    "#                 y=X.iloc[:, 1], \n",
    "#                 hue=actual_labels, \n",
    "#                 style=actual_labels, \n",
    "#                 palette='viridis')\n",
    "# plt.title('Actual Labels')\n",
    "\n",
    "# plt.subplot(1, 2, 2)\n",
    "# sns.scatterplot(x=X.iloc[:, 0], \n",
    "#                 y=X.iloc[:, 1], \n",
    "#                 hue=knn_labels, \n",
    "#                 style=knn_labels, \n",
    "#                 palette='viridis')\n",
    "# plt.title('KMeans Clustering Result')\n",
    "# plt.show()"
   ]
  },
  {
   "cell_type": "code",
   "execution_count": null,
   "id": "67b81e36",
   "metadata": {},
   "outputs": [],
   "source": []
  },
  {
   "cell_type": "markdown",
   "id": "fbda938e",
   "metadata": {},
   "source": [
    "# Best KNN on Test - Grid id 333346 "
   ]
  },
  {
   "cell_type": "code",
   "execution_count": 64,
   "id": "cdd5dd7e",
   "metadata": {
    "scrolled": true
   },
   "outputs": [
    {
     "name": "stdout",
     "output_type": "stream",
     "text": [
      "Grid ID:  333346\r\n",
      "Nb components:  200\r\n",
      "Data directory:  ../datasets/test/data_heatmap_test.csv\r\n"
     ]
    }
   ],
   "source": [
    "!python3 pca_pipeline.py 333346 200 '../datasets/test/data_heatmap_test.csv'\n",
    "grid_id = 333346\n",
    "\n",
    "import pandas as pd\n",
    "pca_df_test = pd.read_csv('temp/pca_df.csv')\n",
    "normalized_input_test  = pd.read_csv('temp/normalized_input.csv')"
   ]
  },
  {
   "cell_type": "code",
   "execution_count": 65,
   "id": "4019d2a8",
   "metadata": {},
   "outputs": [],
   "source": [
    "pca_df_test = pca_df_test.iloc[:,1:]\n",
    "y_test = pca_df_test[['label']]\n",
    "actual_labels_test = y_test['label'].values\n",
    "pca_df_inp_test = pca_df_test.iloc[:, :-2]"
   ]
  },
  {
   "cell_type": "code",
   "execution_count": 66,
   "id": "b7ac4686",
   "metadata": {},
   "outputs": [
    {
     "name": "stdout",
     "output_type": "stream",
     "text": [
      "Confusion matrix on X_test:\n",
      "[[224   1]\n",
      " [  9  25]]\n",
      "Accuracy on X_test: 0.96\n",
      "F1 Score on X_test: 0.83\n",
      "Predicted knn labels:\n",
      "[0 0 0 0 0 0 0 0 0 0 0 0 0 0 0 0 0 0 0 1 1 0 0 1 0 0 0 0 0 0 0 0 0 1 1 0 1\n",
      " 0 0 0 0 0 0 1 1 0 0 1 0 0 0 1 0 0 0 0 0 0 0 0 0 0 0 0 0 0 0 0 0 0 0 1 0 0\n",
      " 0 0 0 0 0 0 1 1 0 0 1 0 0 0 0 0 0 0 0 0 0 0 0 0 0 0 0 0 0 0 0 0 0 0 0 0 0\n",
      " 0 0 0 0 0 0 0 0 0 0 0 0 0 0 0 0 0 0 0 0 1 0 0 0 0 0 0 0 0 0 1 0 0 0 0 0 0\n",
      " 0 0 0 0 0 0 0 0 0 0 0 0 0 1 0 0 1 0 0 0 0 0 0 0 0 0 0 0 0 0 0 0 0 0 0 0 0\n",
      " 0 1 0 0 0 0 0 0 0 0 0 0 0 0 0 0 0 0 0 0 0 0 0 0 0 1 0 0 0 0 0 0 0 0 0 1 0\n",
      " 0 1 0 0 1 0 0 0 0 0 0 0 0 0 0 0 0 0 0 0 0 0 0 0 0 1 0 1 0 0 0 0 1 0 0 0 0]\n"
     ]
    }
   ],
   "source": [
    "# Perform PCA on X_train and X_test with 6 dimensions\n",
    "X_train = pca_df_inp.iloc[:, :6]  \n",
    "X_test = pca_df_inp_test.iloc[:, :6] \n",
    "\n",
    "# Train k-NN model on X_train_pca with 10 neighbors\n",
    "knn = NearestNeighbors(n_neighbors=10, algorithm='auto', metric='euclidean')\n",
    "knn.fit(X_train)\n",
    "\n",
    "# Predict anomalies on X_test_pca\n",
    "distances, indices = knn.kneighbors(X_test)\n",
    "anomaly_scores = distances.mean(axis=1)\n",
    "threshold = np.percentile(anomaly_scores, 90)\n",
    "\n",
    "# Convert labels to binary (0: inliers, 1: outliers)\n",
    "knn_labels = np.where(anomaly_scores > threshold, 1, 0)\n",
    "\n",
    "# Evaluate the performance on X_test\n",
    "conf_mat = confusion_matrix(actual_labels_test, knn_labels)\n",
    "acc = accuracy_score(actual_labels_test, knn_labels)\n",
    "f1 = f1_score(actual_labels_test, knn_labels)\n",
    "\n",
    "print(f'Confusion matrix on X_test:\\n{conf_mat}')\n",
    "print(f'Accuracy on X_test: {acc:.2f}')\n",
    "print(f'F1 Score on X_test: {f1:.2f}')\n",
    "print(\"Predicted knn labels:\")\n",
    "print(knn_labels)"
   ]
  },
  {
   "cell_type": "code",
   "execution_count": null,
   "id": "fd933288",
   "metadata": {},
   "outputs": [],
   "source": []
  },
  {
   "cell_type": "markdown",
   "id": "f47c64a3",
   "metadata": {},
   "source": [
    "# Best DBScan on Test - Grid id 333346"
   ]
  },
  {
   "cell_type": "code",
   "execution_count": 67,
   "id": "214e7563",
   "metadata": {},
   "outputs": [
    {
     "name": "stdout",
     "output_type": "stream",
     "text": [
      "\n",
      "Performance on test data:\n",
      "Confusion matrix:\n",
      "[[213  12]\n",
      " [  0  34]]\n",
      "Accuracy: 0.9536679536679536\n",
      "F1 Score: 0.85\n",
      "Predicted DBScan labels:\n",
      "[0 0 0 0 0 1 0 0 0 0 1 0 0 0 0 1 0 0 1 1 1 0 0 1 1 0 0 0 0 0 0 0 0 1 1 0 1\n",
      " 0 0 0 0 0 0 1 1 0 0 1 0 0 0 1 0 1 0 0 0 0 0 0 0 0 0 0 0 1 0 0 0 0 1 1 0 0\n",
      " 0 0 0 0 0 0 1 1 0 0 1 0 0 0 0 0 0 0 0 0 0 0 0 0 0 0 0 1 0 0 0 0 0 0 0 0 0\n",
      " 0 0 0 0 1 0 0 0 0 0 0 0 0 0 0 0 0 0 0 0 1 0 0 1 0 0 1 0 0 0 1 0 1 1 0 0 0\n",
      " 0 0 0 0 0 0 0 0 0 0 0 1 0 1 0 0 1 0 0 0 0 0 0 0 0 0 0 1 0 0 0 0 0 0 0 0 0\n",
      " 0 1 0 0 0 1 0 0 1 0 0 0 0 0 0 0 0 0 0 0 0 0 1 0 0 1 0 0 0 0 0 0 0 0 0 1 0\n",
      " 0 1 0 0 1 0 0 0 0 0 0 0 0 0 0 0 0 0 0 0 0 0 0 0 1 1 0 1 0 0 0 0 1 0 0 0 0]\n"
     ]
    }
   ],
   "source": [
    "# Apply PCA with 12 dimensions\n",
    "X_train = pca_df_inp.iloc[:, :12]  \n",
    "X_test = pca_df_inp_test.iloc[:, :12] \n",
    "\n",
    "# Fit DBSCAN model\n",
    "dbscan = DBSCAN(eps=10, min_samples=10)\n",
    "dbscan_labels_train = dbscan.fit_predict(X_train)\n",
    "dbscan_labels_test = dbscan.fit_predict(X_test)\n",
    "\n",
    "# Convert labels to binary (0: inliers, 1: outliers)\n",
    "dbscan_labels_train = np.where(dbscan_labels_train >= 0, 0, 1)\n",
    "dbscan_labels_test = np.where(dbscan_labels_test >= 0, 0, 1)\n",
    "\n",
    "# Evaluate performance on test data\n",
    "conf_mat_test = confusion_matrix(actual_labels_test, dbscan_labels_test)\n",
    "acc_test = accuracy_score(actual_labels_test, dbscan_labels_test)\n",
    "f1_test = f1_score(actual_labels_test, dbscan_labels_test)\n",
    "\n",
    "print(\"\\nPerformance on test data:\")\n",
    "print(\"Confusion matrix:\")\n",
    "print(conf_mat_test)\n",
    "print(\"Accuracy:\", acc_test)\n",
    "print(\"F1 Score:\", f1_test)\n",
    "print(\"Predicted DBScan labels:\")\n",
    "print(dbscan_labels_test)"
   ]
  },
  {
   "cell_type": "code",
   "execution_count": null,
   "id": "cf8ce469",
   "metadata": {},
   "outputs": [],
   "source": []
  },
  {
   "cell_type": "markdown",
   "id": "63079bc4",
   "metadata": {},
   "source": [
    "-----\n",
    "-----\n",
    "# Other Grid 333519"
   ]
  },
  {
   "cell_type": "code",
   "execution_count": 68,
   "id": "961b8385",
   "metadata": {},
   "outputs": [
    {
     "name": "stdout",
     "output_type": "stream",
     "text": [
      "Grid ID:  333519\r\n",
      "Nb components:  200\r\n",
      "Data directory:  ../datasets/train/data_heatmap_train.csv\r\n"
     ]
    }
   ],
   "source": [
    "!python3 pca_pipeline.py 333519 200 '../datasets/train/data_heatmap_train.csv'\n",
    "grid_id = 333519\n",
    "\n",
    "import pandas as pd\n",
    "pca_df = pd.read_csv('temp/pca_df.csv')\n",
    "normalized_input = pd.read_csv('temp/normalized_input.csv')\n",
    "# X_train = normalized_input.iloc[:,2:-1]\n",
    "# y_train = normalized_input.iloc[:,-1]"
   ]
  },
  {
   "cell_type": "code",
   "execution_count": 69,
   "id": "9f962353",
   "metadata": {},
   "outputs": [],
   "source": [
    "pca_df = pca_df.iloc[:,1:]\n",
    "y = pca_df[['label']]\n",
    "actual_labels = y['label'].values\n",
    "pca_df_inp = pca_df.iloc[:,:-2]"
   ]
  },
  {
   "cell_type": "markdown",
   "id": "328da2a8",
   "metadata": {},
   "source": [
    "# KNN - Grid 333519"
   ]
  },
  {
   "cell_type": "code",
   "execution_count": 70,
   "id": "0198d605",
   "metadata": {},
   "outputs": [
    {
     "name": "stdout",
     "output_type": "stream",
     "text": [
      "Confusion matrix for 2 PCA dimensions, 90 threshold and 1-NN:\n",
      "  [[570   0]\n",
      " [ 40   0]]\n",
      "Accuracy for 2 PCA dimensions, 90 threshold and 1-NN:  0.93\n",
      "F1 Score for 2 PCA dimensions, 90 threshold and 1-NN:  0.00\n",
      "---------\n",
      "Confusion matrix for 2 PCA dimensions, 90 threshold and 2-NN:\n",
      "  [[542  28]\n",
      " [  8  32]]\n",
      "Accuracy for 2 PCA dimensions, 90 threshold and 2-NN:  0.94\n",
      "F1 Score for 2 PCA dimensions, 90 threshold and 2-NN:  0.64\n",
      "---------\n",
      "Confusion matrix for 2 PCA dimensions, 95 threshold and 2-NN:\n",
      "  [[564   6]\n",
      " [ 16  24]]\n",
      "Accuracy for 2 PCA dimensions, 95 threshold and 2-NN:  0.96\n",
      "F1 Score for 2 PCA dimensions, 95 threshold and 2-NN:  0.69\n",
      "---------\n",
      "Confusion matrix for 2 PCA dimensions, 95 threshold and 5-NN:\n",
      "  [[565   5]\n",
      " [ 14  26]]\n",
      "Accuracy for 2 PCA dimensions, 95 threshold and 5-NN:  0.97\n",
      "F1 Score for 2 PCA dimensions, 95 threshold and 5-NN:  0.73\n",
      "---------\n",
      "Confusion matrix for 4 PCA dimensions, 95 threshold and 2-NN:\n",
      "  [[567   3]\n",
      " [ 12  28]]\n",
      "Accuracy for 4 PCA dimensions, 95 threshold and 2-NN:  0.98\n",
      "F1 Score for 4 PCA dimensions, 95 threshold and 2-NN:  0.79\n",
      "---------\n",
      "Confusion matrix for 8 PCA dimensions, 95 threshold and 5-NN:\n",
      "  [[568   2]\n",
      " [ 11  29]]\n",
      "Accuracy for 8 PCA dimensions, 95 threshold and 5-NN:  0.98\n",
      "F1 Score for 8 PCA dimensions, 95 threshold and 5-NN:  0.82\n",
      "---------\n",
      "Confusion matrix for 10 PCA dimensions, 95 threshold and 5-NN:\n",
      "  [[569   1]\n",
      " [ 10  30]]\n",
      "Accuracy for 10 PCA dimensions, 95 threshold and 5-NN:  0.98\n",
      "F1 Score for 10 PCA dimensions, 95 threshold and 5-NN:  0.85\n",
      "---------\n"
     ]
    }
   ],
   "source": [
    "\n",
    "kchoices = [1,2,5,10]\n",
    "thres    = [90, 95, 99]\n",
    "\n",
    "best_acc = -float('inf')\n",
    "best_dim = -1\n",
    "for pca_dim in np.linspace(2,200,100).astype(int):\n",
    "    for ks in kchoices:\n",
    "        for an_thres in thres:\n",
    "            \n",
    "            X   = pca_df_inp.iloc[:,:pca_dim]\n",
    "            knn = NearestNeighbors(n_neighbors = ks, \n",
    "                                   algorithm = 'auto', \n",
    "                                   metric = 'euclidean')\n",
    "\n",
    "            knn_fit = knn.fit(X)\n",
    "            actual_labels = y['label'].values\n",
    "\n",
    "            distances, indices = knn.kneighbors(X)\n",
    "            anomaly_scores = distances.mean(axis=1)\n",
    "\n",
    "            threshold  = np.percentile(anomaly_scores, an_thres)\n",
    "            knn_labels = anomaly_scores > threshold\n",
    "\n",
    "            conf_mat = confusion_matrix(actual_labels,knn_labels)\n",
    "            acc        = accuracy_score(actual_labels,knn_labels)\n",
    "            f1         = f1_score(actual_labels, knn_labels)\n",
    "            \n",
    "            if acc > best_acc:\n",
    "                best_knn_labels = knn_labels\n",
    "                best_acc = acc\n",
    "                best_f1 = f1\n",
    "                best_dim = pca_dim\n",
    "                print(f'Confusion matrix for {pca_dim} PCA dimensions, {an_thres} threshold and {ks}-NN:\\n', \n",
    "                      f' {conf_mat}')\n",
    "                print(f'Accuracy for {pca_dim} PCA dimensions, {an_thres} threshold and {ks}-NN:', \n",
    "                      f' {acc:.2f}')\n",
    "                print(f'F1 Score for {pca_dim} PCA dimensions, {an_thres} threshold and {ks}-NN:', \n",
    "                      f' {f1:.2f}')\n",
    "                print(f'---------')\n"
   ]
  },
  {
   "cell_type": "markdown",
   "id": "d05172d7",
   "metadata": {},
   "source": [
    "# DBScan - Grid 333519"
   ]
  },
  {
   "cell_type": "code",
   "execution_count": 71,
   "id": "a773d845",
   "metadata": {},
   "outputs": [
    {
     "name": "stdout",
     "output_type": "stream",
     "text": [
      "Confusion matrix for 2 PCA dimensions, Epsilon=5, Min_samples=2:\n",
      "  [[570   0]\n",
      " [ 34   6]]\n",
      "F1 Score for 2 PCA dimensions, Epsilon=5, Min_samples=2:  0.26\n",
      "Accuracy for 2 PCA dimensions, Epsilon=5, Min_samples=2:  0.94\n",
      "---------\n",
      "Confusion matrix for 2 PCA dimensions, Epsilon=5, Min_samples=4:\n",
      "  [[570   0]\n",
      " [ 33   7]]\n",
      "F1 Score for 2 PCA dimensions, Epsilon=5, Min_samples=4:  0.30\n",
      "Accuracy for 2 PCA dimensions, Epsilon=5, Min_samples=4:  0.95\n",
      "---------\n",
      "Confusion matrix for 2 PCA dimensions, Epsilon=5, Min_samples=10:\n",
      "  [[570   0]\n",
      " [ 30  10]]\n",
      "F1 Score for 2 PCA dimensions, Epsilon=5, Min_samples=10:  0.40\n",
      "Accuracy for 2 PCA dimensions, Epsilon=5, Min_samples=10:  0.95\n",
      "---------\n",
      "Confusion matrix for 4 PCA dimensions, Epsilon=5, Min_samples=2:\n",
      "  [[570   0]\n",
      " [ 24  16]]\n",
      "F1 Score for 4 PCA dimensions, Epsilon=5, Min_samples=2:  0.57\n",
      "Accuracy for 4 PCA dimensions, Epsilon=5, Min_samples=2:  0.96\n",
      "---------\n",
      "Confusion matrix for 4 PCA dimensions, Epsilon=5, Min_samples=5:\n",
      "  [[567   3]\n",
      " [ 20  20]]\n",
      "F1 Score for 4 PCA dimensions, Epsilon=5, Min_samples=5:  0.63\n",
      "Accuracy for 4 PCA dimensions, Epsilon=5, Min_samples=5:  0.96\n",
      "---------\n",
      "Confusion matrix for 4 PCA dimensions, Epsilon=5, Min_samples=10:\n",
      "  [[564   6]\n",
      " [  4  36]]\n",
      "F1 Score for 4 PCA dimensions, Epsilon=5, Min_samples=10:  0.88\n",
      "Accuracy for 4 PCA dimensions, Epsilon=5, Min_samples=10:  0.98\n",
      "---------\n",
      "Confusion matrix for 8 PCA dimensions, Epsilon=10, Min_samples=10:\n",
      "  [[565   5]\n",
      " [  1  39]]\n",
      "F1 Score for 8 PCA dimensions, Epsilon=10, Min_samples=10:  0.93\n",
      "Accuracy for 8 PCA dimensions, Epsilon=10, Min_samples=10:  0.99\n",
      "---------\n"
     ]
    }
   ],
   "source": [
    "pca_df_inp = pca_df.iloc[:,:-2]\n",
    "epsilons = [5,10,20,30,40,50,60,70,80,90,100]\n",
    "min_samps = [2,3,4,5,10]\n",
    "\n",
    "best_acc = -float('inf')\n",
    "best_dim = -1\n",
    "best_recall = -1\n",
    "best_prec = -1\n",
    "\n",
    "for pca_dim in np.linspace(2,200,100).astype(int):\n",
    "    for eps in epsilons:\n",
    "        for ms in min_samps:\n",
    "\n",
    "            X   = pca_df_inp.iloc[:,:pca_dim]\n",
    "\n",
    "            dbscan = DBSCAN(eps = eps, \n",
    "                        min_samples = ms)\n",
    "            dbscan_labels = dbscan.fit_predict(X)\n",
    "            dbscan_labels = np.where(dbscan_labels>=0, 0, 1)\n",
    "\n",
    "            conf_mat   = confusion_matrix(actual_labels,dbscan_labels)\n",
    "            acc        = accuracy_score(actual_labels,dbscan_labels)\n",
    "            recall     = recall_score(actual_labels,dbscan_labels)\n",
    "            prec       = precision_score(actual_labels,dbscan_labels)\n",
    "            f1         = f1_score(actual_labels, dbscan_labels)\n",
    "\n",
    "            if acc > best_acc:\n",
    "                best_acc = acc\n",
    "                best_dim = pca_dim\n",
    "                best_recall  = recall\n",
    "                best_prec = prec\n",
    "                best_f1 = f1\n",
    "                best_dbscan_labels = dbscan_labels\n",
    "                print(f'Confusion matrix for {pca_dim} PCA dimensions, Epsilon={eps}, Min_samples={ms}:\\n', \n",
    "                      f' {conf_mat}')\n",
    "                print(f'F1 Score for {pca_dim} PCA dimensions, Epsilon={eps}, Min_samples={ms}:', \n",
    "                      f' {f1:.2f}')\n",
    "                print(f'Accuracy for {pca_dim} PCA dimensions, Epsilon={eps}, Min_samples={ms}:', \n",
    "                      f' {acc:.2f}')\n",
    "                print(f'---------')"
   ]
  },
  {
   "cell_type": "markdown",
   "id": "e35acbae",
   "metadata": {},
   "source": [
    "# Best KNN on Test - Grid id 333519"
   ]
  },
  {
   "cell_type": "code",
   "execution_count": 72,
   "id": "b90eacbc",
   "metadata": {
    "scrolled": true
   },
   "outputs": [
    {
     "name": "stdout",
     "output_type": "stream",
     "text": [
      "Grid ID:  333519\r\n",
      "Nb components:  200\r\n",
      "Data directory:  ../datasets/test/data_heatmap_test.csv\r\n"
     ]
    }
   ],
   "source": [
    "!python3 pca_pipeline.py 333519 200 '../datasets/test/data_heatmap_test.csv'\n",
    "grid_id = 333519\n",
    "\n",
    "import pandas as pd\n",
    "pca_df_test = pd.read_csv('temp/pca_df.csv')\n",
    "normalized_input_test  = pd.read_csv('temp/normalized_input.csv')"
   ]
  },
  {
   "cell_type": "code",
   "execution_count": 73,
   "id": "fa029a22",
   "metadata": {},
   "outputs": [],
   "source": [
    "pca_df_test = pca_df_test.iloc[:,1:]\n",
    "y_test = pca_df_test[['label']]\n",
    "actual_labels_test = y_test['label'].values\n",
    "pca_df_inp_test = pca_df_test.iloc[:, :-2]"
   ]
  },
  {
   "cell_type": "code",
   "execution_count": 74,
   "id": "d536b1a0",
   "metadata": {},
   "outputs": [
    {
     "name": "stdout",
     "output_type": "stream",
     "text": [
      "Confusion matrix on X_test:\n",
      "[[233  12]\n",
      " [  2  15]]\n",
      "Accuracy on X_test: 0.95\n",
      "F1 Score on X_test: 0.68\n",
      "Predicted knn labels:\n",
      "[0 1 1 0 0 0 0 0 0 0 0 0 1 0 0 1 0 0 0 0 0 1 0 0 0 0 0 0 0 0 0 0 0 0 0 0 0\n",
      " 0 0 0 0 0 0 0 0 0 0 0 0 0 0 0 0 0 0 1 0 0 0 0 0 1 0 0 0 0 0 0 0 0 0 0 0 1\n",
      " 0 1 0 0 0 0 0 0 0 0 0 0 0 0 0 0 1 0 0 0 0 0 0 0 0 0 1 0 0 0 0 0 0 0 0 1 0\n",
      " 0 0 0 0 0 0 0 0 0 0 0 0 0 0 0 0 1 0 0 1 0 0 0 0 0 0 0 0 0 0 0 0 0 0 0 0 0\n",
      " 0 0 1 0 0 0 0 0 0 0 0 0 0 0 0 0 0 1 0 0 0 0 0 0 0 0 0 0 1 0 0 0 0 0 0 1 0\n",
      " 0 1 0 0 0 0 0 0 0 1 0 1 0 0 1 0 0 0 0 0 0 0 0 0 0 0 0 0 0 0 0 0 0 0 1 0 0\n",
      " 1 0 0 0 0 0 0 0 1 0 0 0 0 0 0 0 0 0 0 0 0 0 0 0 0 0 1 0 0 0 0 0 0 0 0 0 0\n",
      " 0 1 0]\n"
     ]
    }
   ],
   "source": [
    "# Perform PCA on X_train and X_test with 6 dimensions\n",
    "X_train = pca_df_inp.iloc[:, :6]  \n",
    "X_test = pca_df_inp_test.iloc[:, :6] \n",
    "\n",
    "# Train k-NN model on X_train_pca with 10 neighbors\n",
    "knn = NearestNeighbors(n_neighbors=10, algorithm='auto', metric='euclidean')\n",
    "knn.fit(X_train)\n",
    "\n",
    "# Predict anomalies on X_test_pca\n",
    "distances, indices = knn.kneighbors(X_test)\n",
    "anomaly_scores = distances.mean(axis=1)\n",
    "threshold = np.percentile(anomaly_scores, 90)\n",
    "\n",
    "# Convert labels to binary (0: inliers, 1: outliers)\n",
    "knn_labels = np.where(anomaly_scores > threshold, 1, 0)\n",
    "\n",
    "# Evaluate the performance on X_test\n",
    "conf_mat = confusion_matrix(actual_labels_test, knn_labels)\n",
    "acc = accuracy_score(actual_labels_test, knn_labels)\n",
    "f1 = f1_score(actual_labels_test, knn_labels)\n",
    "\n",
    "print(f'Confusion matrix on X_test:\\n{conf_mat}')\n",
    "print(f'Accuracy on X_test: {acc:.2f}')\n",
    "print(f'F1 Score on X_test: {f1:.2f}')\n",
    "print(\"Predicted knn labels:\")\n",
    "print(knn_labels)"
   ]
  },
  {
   "cell_type": "markdown",
   "id": "182aa2bc",
   "metadata": {},
   "source": [
    "# Best DBScan on Test - Grid id 333519"
   ]
  },
  {
   "cell_type": "code",
   "execution_count": 75,
   "id": "8ee2ea6a",
   "metadata": {},
   "outputs": [
    {
     "name": "stdout",
     "output_type": "stream",
     "text": [
      "\n",
      "Performance on test data:\n",
      "Confusion matrix:\n",
      "[[223  22]\n",
      " [  0  17]]\n",
      "Accuracy: 0.916030534351145\n",
      "F1 Score: 0.6071428571428571\n",
      "Predicted DBScan labels:\n",
      "[0 1 1 0 0 0 0 0 0 0 0 0 1 0 0 0 0 0 0 0 0 1 0 0 0 0 0 0 0 0 0 0 0 0 0 0 0\n",
      " 0 0 0 0 0 0 0 0 0 0 0 1 0 0 0 0 1 0 1 0 0 0 0 0 0 0 0 0 0 0 0 0 0 0 0 0 1\n",
      " 0 0 0 0 0 0 0 0 0 0 0 0 0 0 0 0 1 0 0 0 0 1 1 0 0 0 1 0 0 0 0 0 0 0 0 0 0\n",
      " 0 0 1 0 0 0 0 0 0 0 0 0 0 0 1 0 1 0 0 0 0 0 0 0 0 0 0 0 0 0 0 0 0 0 0 0 0\n",
      " 0 0 1 0 1 0 0 0 0 0 0 0 0 0 0 0 0 1 0 0 0 0 1 0 0 0 0 0 1 0 0 0 0 1 0 1 0\n",
      " 0 0 1 0 1 0 0 1 0 0 0 1 0 0 1 0 0 0 0 1 0 0 0 0 0 0 0 0 0 0 0 0 0 0 1 0 0\n",
      " 1 0 0 0 0 0 1 0 1 0 0 0 0 1 0 0 0 0 0 0 0 1 0 0 0 1 1 0 0 1 0 0 1 0 0 0 0\n",
      " 0 1 0]\n"
     ]
    }
   ],
   "source": [
    "# Apply PCA with 12 dimensions\n",
    "X_train = pca_df_inp.iloc[:, :12]  \n",
    "X_test = pca_df_inp_test.iloc[:, :12] \n",
    "\n",
    "# Fit DBSCAN model\n",
    "dbscan = DBSCAN(eps=10, min_samples=10)\n",
    "dbscan_labels_train = dbscan.fit_predict(X_train)\n",
    "dbscan_labels_test = dbscan.fit_predict(X_test)\n",
    "\n",
    "# Convert labels to binary (0: inliers, 1: outliers)\n",
    "dbscan_labels_train = np.where(dbscan_labels_train >= 0, 0, 1)\n",
    "dbscan_labels_test = np.where(dbscan_labels_test >= 0, 0, 1)\n",
    "\n",
    "# Evaluate performance on test data\n",
    "conf_mat_test = confusion_matrix(actual_labels_test, dbscan_labels_test)\n",
    "acc_test = accuracy_score(actual_labels_test, dbscan_labels_test)\n",
    "f1_test = f1_score(actual_labels_test, dbscan_labels_test)\n",
    "\n",
    "print(\"\\nPerformance on test data:\")\n",
    "print(\"Confusion matrix:\")\n",
    "print(conf_mat_test)\n",
    "print(\"Accuracy:\", acc_test)\n",
    "print(\"F1 Score:\", f1_test)\n",
    "print(\"Predicted DBScan labels:\")\n",
    "print(dbscan_labels_test)"
   ]
  },
  {
   "cell_type": "code",
   "execution_count": null,
   "id": "cb477d08",
   "metadata": {},
   "outputs": [],
   "source": []
  },
  {
   "cell_type": "code",
   "execution_count": null,
   "id": "51ef39c5",
   "metadata": {},
   "outputs": [],
   "source": []
  },
  {
   "cell_type": "code",
   "execution_count": null,
   "id": "290065aa",
   "metadata": {},
   "outputs": [],
   "source": []
  },
  {
   "cell_type": "code",
   "execution_count": null,
   "id": "ffdbc5c3",
   "metadata": {},
   "outputs": [],
   "source": []
  },
  {
   "cell_type": "code",
   "execution_count": null,
   "id": "23be9bd1",
   "metadata": {},
   "outputs": [],
   "source": []
  },
  {
   "cell_type": "code",
   "execution_count": null,
   "id": "d335c7fa",
   "metadata": {},
   "outputs": [],
   "source": []
  },
  {
   "cell_type": "code",
   "execution_count": null,
   "id": "a04c513f",
   "metadata": {},
   "outputs": [],
   "source": []
  }
 ],
 "metadata": {
  "kernelspec": {
   "display_name": "Python 3 (ipykernel)",
   "language": "python",
   "name": "python3"
  },
  "language_info": {
   "codemirror_mode": {
    "name": "ipython",
    "version": 3
   },
   "file_extension": ".py",
   "mimetype": "text/x-python",
   "name": "python",
   "nbconvert_exporter": "python",
   "pygments_lexer": "ipython3",
   "version": "3.11.4"
  }
 },
 "nbformat": 4,
 "nbformat_minor": 5
}
